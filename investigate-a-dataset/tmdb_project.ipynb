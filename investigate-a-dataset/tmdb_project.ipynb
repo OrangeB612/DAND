{
 "cells": [
  {
   "cell_type": "markdown",
   "metadata": {
    "colab_type": "text",
    "id": "VzaOeKkojfVm"
   },
   "source": [
    "# Project: TMDb Movie Data\n",
    "---\n",
    "## Table of Contents\n",
    "- [Introduction](#intro)\n",
    "- [Data Wrangling](#wrangle)\n",
    " - [General Properties](#general)\n",
    " - [Cleaning Data](#cleaning)\n",
    " \n",
    " \n",
    "- [Exploratory Data Analysis](#exploring)\n",
    " - [Preparing Data Analysis](#prep)\n",
    " - [Research Questions](#questions)\n",
    "      - [Question 1](#questions)\n",
    "      - [Question 2](#question2)\n",
    "      - [Question 3](#question3)\n",
    "      - [Question 4](#question4)\n",
    "      - [Question 5](#question5)\n",
    "      \n",
    "      \n",
    "- [Conclusion](#concl)\n",
    "- [Limitation](#limit) \n",
    "- [References](#refr)"
   ]
  },
  {
   "cell_type": "markdown",
   "metadata": {
    "colab_type": "text",
    "id": "bOpXPa9DjfVo"
   },
   "source": [
    "<a name='intro'></a>\n",
    "## Introduction\n",
    "\n",
    "> In this project, I will explore `TMDb movie dataset` which contains information about 10,000 movies,<br>\n",
    "go through the data analysis process, and see how everything fits together.\n",
    "\n",
    "> ### Note:\n",
    " - Certain columns, like `cast` and `genres`, contain multiple values separated by pipe `(|)` characters.\n",
    " - There are some odd characters in the `cast` column.\n",
    " - The final two columns ending with `“_adj”` show the budget and revenue of the associated movie in terms of 2010 dollars, <br>accounting for inflation over time.\n",
    "\n",
    "> ### Questions to be answered:\n",
    "> 1. Movie(s) which made most and least profit ? \n",
    "> 2. Movie market growth trends\n",
    "> 3. How long does the audience want their movies to be ? \n",
    "> 4. Which genres are most popular ?\n",
    "> 5. Most active director and his favorite actors/actresses ?\n"
   ]
  },
  {
   "cell_type": "code",
   "execution_count": 1,
   "metadata": {
    "colab": {},
    "colab_type": "code",
    "id": "pYCRXQYVjfVq"
   },
   "outputs": [],
   "source": [
    "# import all the packages\n",
    "import pandas as pd\n",
    "import numpy as np\n",
    "import matplotlib.pyplot as plt\n",
    "%matplotlib inline\n",
    "import seaborn as sns\n",
    "\n",
    "# set style\n",
    "sns.set_style('darkgrid')"
   ]
  },
  {
   "cell_type": "markdown",
   "metadata": {
    "colab_type": "text",
    "id": "INvtLWIujfVt"
   },
   "source": [
    "<a name='wrangle'></a>\n",
    "## Data Wrangling\n",
    "\n",
    "> In this section of the report, we will load in the data, check for cleanliness, and then trim and clean your dataset for analysis.\n",
    "\n",
    "<a name='general'></a>\n",
    "### General Properties"
   ]
  },
  {
   "cell_type": "code",
   "execution_count": 2,
   "metadata": {
    "colab": {},
    "colab_type": "code",
    "id": "uaeapTkXjfVu",
    "outputId": "0030fa5f-7c66-4970-ffe0-f49d1c13640c"
   },
   "outputs": [
    {
     "data": {
      "text/html": [
       "<div>\n",
       "<style scoped>\n",
       "    .dataframe tbody tr th:only-of-type {\n",
       "        vertical-align: middle;\n",
       "    }\n",
       "\n",
       "    .dataframe tbody tr th {\n",
       "        vertical-align: top;\n",
       "    }\n",
       "\n",
       "    .dataframe thead th {\n",
       "        text-align: right;\n",
       "    }\n",
       "</style>\n",
       "<table border=\"1\" class=\"dataframe\">\n",
       "  <thead>\n",
       "    <tr style=\"text-align: right;\">\n",
       "      <th></th>\n",
       "      <th>id</th>\n",
       "      <th>imdb_id</th>\n",
       "      <th>popularity</th>\n",
       "      <th>budget</th>\n",
       "      <th>revenue</th>\n",
       "      <th>original_title</th>\n",
       "      <th>cast</th>\n",
       "      <th>homepage</th>\n",
       "      <th>director</th>\n",
       "      <th>tagline</th>\n",
       "      <th>...</th>\n",
       "      <th>overview</th>\n",
       "      <th>runtime</th>\n",
       "      <th>genres</th>\n",
       "      <th>production_companies</th>\n",
       "      <th>release_date</th>\n",
       "      <th>vote_count</th>\n",
       "      <th>vote_average</th>\n",
       "      <th>release_year</th>\n",
       "      <th>budget_adj</th>\n",
       "      <th>revenue_adj</th>\n",
       "    </tr>\n",
       "  </thead>\n",
       "  <tbody>\n",
       "    <tr>\n",
       "      <th>0</th>\n",
       "      <td>135397</td>\n",
       "      <td>tt0369610</td>\n",
       "      <td>32.985763</td>\n",
       "      <td>150000000</td>\n",
       "      <td>1513528810</td>\n",
       "      <td>Jurassic World</td>\n",
       "      <td>Chris Pratt|Bryce Dallas Howard|Irrfan Khan|Vi...</td>\n",
       "      <td>http://www.jurassicworld.com/</td>\n",
       "      <td>Colin Trevorrow</td>\n",
       "      <td>The park is open.</td>\n",
       "      <td>...</td>\n",
       "      <td>Twenty-two years after the events of Jurassic ...</td>\n",
       "      <td>124</td>\n",
       "      <td>Action|Adventure|Science Fiction|Thriller</td>\n",
       "      <td>Universal Studios|Amblin Entertainment|Legenda...</td>\n",
       "      <td>6/9/15</td>\n",
       "      <td>5562</td>\n",
       "      <td>6.5</td>\n",
       "      <td>2015</td>\n",
       "      <td>1.379999e+08</td>\n",
       "      <td>1.392446e+09</td>\n",
       "    </tr>\n",
       "    <tr>\n",
       "      <th>1</th>\n",
       "      <td>76341</td>\n",
       "      <td>tt1392190</td>\n",
       "      <td>28.419936</td>\n",
       "      <td>150000000</td>\n",
       "      <td>378436354</td>\n",
       "      <td>Mad Max: Fury Road</td>\n",
       "      <td>Tom Hardy|Charlize Theron|Hugh Keays-Byrne|Nic...</td>\n",
       "      <td>http://www.madmaxmovie.com/</td>\n",
       "      <td>George Miller</td>\n",
       "      <td>What a Lovely Day.</td>\n",
       "      <td>...</td>\n",
       "      <td>An apocalyptic story set in the furthest reach...</td>\n",
       "      <td>120</td>\n",
       "      <td>Action|Adventure|Science Fiction|Thriller</td>\n",
       "      <td>Village Roadshow Pictures|Kennedy Miller Produ...</td>\n",
       "      <td>5/13/15</td>\n",
       "      <td>6185</td>\n",
       "      <td>7.1</td>\n",
       "      <td>2015</td>\n",
       "      <td>1.379999e+08</td>\n",
       "      <td>3.481613e+08</td>\n",
       "    </tr>\n",
       "    <tr>\n",
       "      <th>2</th>\n",
       "      <td>262500</td>\n",
       "      <td>tt2908446</td>\n",
       "      <td>13.112507</td>\n",
       "      <td>110000000</td>\n",
       "      <td>295238201</td>\n",
       "      <td>Insurgent</td>\n",
       "      <td>Shailene Woodley|Theo James|Kate Winslet|Ansel...</td>\n",
       "      <td>http://www.thedivergentseries.movie/#insurgent</td>\n",
       "      <td>Robert Schwentke</td>\n",
       "      <td>One Choice Can Destroy You</td>\n",
       "      <td>...</td>\n",
       "      <td>Beatrice Prior must confront her inner demons ...</td>\n",
       "      <td>119</td>\n",
       "      <td>Adventure|Science Fiction|Thriller</td>\n",
       "      <td>Summit Entertainment|Mandeville Films|Red Wago...</td>\n",
       "      <td>3/18/15</td>\n",
       "      <td>2480</td>\n",
       "      <td>6.3</td>\n",
       "      <td>2015</td>\n",
       "      <td>1.012000e+08</td>\n",
       "      <td>2.716190e+08</td>\n",
       "    </tr>\n",
       "    <tr>\n",
       "      <th>3</th>\n",
       "      <td>140607</td>\n",
       "      <td>tt2488496</td>\n",
       "      <td>11.173104</td>\n",
       "      <td>200000000</td>\n",
       "      <td>2068178225</td>\n",
       "      <td>Star Wars: The Force Awakens</td>\n",
       "      <td>Harrison Ford|Mark Hamill|Carrie Fisher|Adam D...</td>\n",
       "      <td>http://www.starwars.com/films/star-wars-episod...</td>\n",
       "      <td>J.J. Abrams</td>\n",
       "      <td>Every generation has a story.</td>\n",
       "      <td>...</td>\n",
       "      <td>Thirty years after defeating the Galactic Empi...</td>\n",
       "      <td>136</td>\n",
       "      <td>Action|Adventure|Science Fiction|Fantasy</td>\n",
       "      <td>Lucasfilm|Truenorth Productions|Bad Robot</td>\n",
       "      <td>12/15/15</td>\n",
       "      <td>5292</td>\n",
       "      <td>7.5</td>\n",
       "      <td>2015</td>\n",
       "      <td>1.839999e+08</td>\n",
       "      <td>1.902723e+09</td>\n",
       "    </tr>\n",
       "    <tr>\n",
       "      <th>4</th>\n",
       "      <td>168259</td>\n",
       "      <td>tt2820852</td>\n",
       "      <td>9.335014</td>\n",
       "      <td>190000000</td>\n",
       "      <td>1506249360</td>\n",
       "      <td>Furious 7</td>\n",
       "      <td>Vin Diesel|Paul Walker|Jason Statham|Michelle ...</td>\n",
       "      <td>http://www.furious7.com/</td>\n",
       "      <td>James Wan</td>\n",
       "      <td>Vengeance Hits Home</td>\n",
       "      <td>...</td>\n",
       "      <td>Deckard Shaw seeks revenge against Dominic Tor...</td>\n",
       "      <td>137</td>\n",
       "      <td>Action|Crime|Thriller</td>\n",
       "      <td>Universal Pictures|Original Film|Media Rights ...</td>\n",
       "      <td>4/1/15</td>\n",
       "      <td>2947</td>\n",
       "      <td>7.3</td>\n",
       "      <td>2015</td>\n",
       "      <td>1.747999e+08</td>\n",
       "      <td>1.385749e+09</td>\n",
       "    </tr>\n",
       "  </tbody>\n",
       "</table>\n",
       "<p>5 rows × 21 columns</p>\n",
       "</div>"
      ],
      "text/plain": [
       "       id    imdb_id  popularity     budget     revenue  \\\n",
       "0  135397  tt0369610   32.985763  150000000  1513528810   \n",
       "1   76341  tt1392190   28.419936  150000000   378436354   \n",
       "2  262500  tt2908446   13.112507  110000000   295238201   \n",
       "3  140607  tt2488496   11.173104  200000000  2068178225   \n",
       "4  168259  tt2820852    9.335014  190000000  1506249360   \n",
       "\n",
       "                 original_title  \\\n",
       "0                Jurassic World   \n",
       "1            Mad Max: Fury Road   \n",
       "2                     Insurgent   \n",
       "3  Star Wars: The Force Awakens   \n",
       "4                     Furious 7   \n",
       "\n",
       "                                                cast  \\\n",
       "0  Chris Pratt|Bryce Dallas Howard|Irrfan Khan|Vi...   \n",
       "1  Tom Hardy|Charlize Theron|Hugh Keays-Byrne|Nic...   \n",
       "2  Shailene Woodley|Theo James|Kate Winslet|Ansel...   \n",
       "3  Harrison Ford|Mark Hamill|Carrie Fisher|Adam D...   \n",
       "4  Vin Diesel|Paul Walker|Jason Statham|Michelle ...   \n",
       "\n",
       "                                            homepage          director  \\\n",
       "0                      http://www.jurassicworld.com/   Colin Trevorrow   \n",
       "1                        http://www.madmaxmovie.com/     George Miller   \n",
       "2     http://www.thedivergentseries.movie/#insurgent  Robert Schwentke   \n",
       "3  http://www.starwars.com/films/star-wars-episod...       J.J. Abrams   \n",
       "4                           http://www.furious7.com/         James Wan   \n",
       "\n",
       "                         tagline  ...  \\\n",
       "0              The park is open.  ...   \n",
       "1             What a Lovely Day.  ...   \n",
       "2     One Choice Can Destroy You  ...   \n",
       "3  Every generation has a story.  ...   \n",
       "4            Vengeance Hits Home  ...   \n",
       "\n",
       "                                            overview runtime  \\\n",
       "0  Twenty-two years after the events of Jurassic ...     124   \n",
       "1  An apocalyptic story set in the furthest reach...     120   \n",
       "2  Beatrice Prior must confront her inner demons ...     119   \n",
       "3  Thirty years after defeating the Galactic Empi...     136   \n",
       "4  Deckard Shaw seeks revenge against Dominic Tor...     137   \n",
       "\n",
       "                                      genres  \\\n",
       "0  Action|Adventure|Science Fiction|Thriller   \n",
       "1  Action|Adventure|Science Fiction|Thriller   \n",
       "2         Adventure|Science Fiction|Thriller   \n",
       "3   Action|Adventure|Science Fiction|Fantasy   \n",
       "4                      Action|Crime|Thriller   \n",
       "\n",
       "                                production_companies release_date vote_count  \\\n",
       "0  Universal Studios|Amblin Entertainment|Legenda...       6/9/15       5562   \n",
       "1  Village Roadshow Pictures|Kennedy Miller Produ...      5/13/15       6185   \n",
       "2  Summit Entertainment|Mandeville Films|Red Wago...      3/18/15       2480   \n",
       "3          Lucasfilm|Truenorth Productions|Bad Robot     12/15/15       5292   \n",
       "4  Universal Pictures|Original Film|Media Rights ...       4/1/15       2947   \n",
       "\n",
       "   vote_average  release_year    budget_adj   revenue_adj  \n",
       "0           6.5          2015  1.379999e+08  1.392446e+09  \n",
       "1           7.1          2015  1.379999e+08  3.481613e+08  \n",
       "2           6.3          2015  1.012000e+08  2.716190e+08  \n",
       "3           7.5          2015  1.839999e+08  1.902723e+09  \n",
       "4           7.3          2015  1.747999e+08  1.385749e+09  \n",
       "\n",
       "[5 rows x 21 columns]"
      ]
     },
     "execution_count": 2,
     "metadata": {},
     "output_type": "execute_result"
    }
   ],
   "source": [
    "# load data and check first five rows\n",
    "df = pd.read_csv('tmdb-movies.csv')\n",
    "df.head()"
   ]
  },
  {
   "cell_type": "code",
   "execution_count": 3,
   "metadata": {
    "colab": {},
    "colab_type": "code",
    "id": "II5Pa9TcjfV0",
    "outputId": "e1e0c56c-d459-422b-e6eb-33596f55d2bc"
   },
   "outputs": [
    {
     "data": {
      "text/plain": [
       "(10866, 21)"
      ]
     },
     "execution_count": 3,
     "metadata": {},
     "output_type": "execute_result"
    }
   ],
   "source": [
    "# Number of rows and columns\n",
    "df.shape"
   ]
  },
  {
   "cell_type": "code",
   "execution_count": 4,
   "metadata": {
    "colab": {},
    "colab_type": "code",
    "id": "OV9NF5KxjfV4",
    "outputId": "3e7e07a2-d5b0-40e8-8fb6-cdcc68936ef8"
   },
   "outputs": [
    {
     "data": {
      "text/plain": [
       "id                        int64\n",
       "imdb_id                  object\n",
       "popularity              float64\n",
       "budget                    int64\n",
       "revenue                   int64\n",
       "original_title           object\n",
       "cast                     object\n",
       "homepage                 object\n",
       "director                 object\n",
       "tagline                  object\n",
       "keywords                 object\n",
       "overview                 object\n",
       "runtime                   int64\n",
       "genres                   object\n",
       "production_companies     object\n",
       "release_date             object\n",
       "vote_count                int64\n",
       "vote_average            float64\n",
       "release_year              int64\n",
       "budget_adj              float64\n",
       "revenue_adj             float64\n",
       "dtype: object"
      ]
     },
     "execution_count": 4,
     "metadata": {},
     "output_type": "execute_result"
    }
   ],
   "source": [
    "# Check datatypes\n",
    "df.dtypes"
   ]
  },
  {
   "cell_type": "code",
   "execution_count": 5,
   "metadata": {},
   "outputs": [
    {
     "data": {
      "text/plain": [
       "id                      10865\n",
       "imdb_id                 10855\n",
       "popularity              10814\n",
       "budget                    557\n",
       "revenue                  4702\n",
       "original_title          10571\n",
       "cast                    10719\n",
       "homepage                 2896\n",
       "director                 5067\n",
       "tagline                  7997\n",
       "keywords                 8804\n",
       "overview                10847\n",
       "runtime                   247\n",
       "genres                   2039\n",
       "production_companies     7445\n",
       "release_date             5909\n",
       "vote_count               1289\n",
       "vote_average               72\n",
       "release_year               56\n",
       "budget_adj               2614\n",
       "revenue_adj              4840\n",
       "dtype: int64"
      ]
     },
     "execution_count": 5,
     "metadata": {},
     "output_type": "execute_result"
    }
   ],
   "source": [
    "# number of unique values per each column\n",
    "df.nunique()"
   ]
  },
  {
   "cell_type": "code",
   "execution_count": 6,
   "metadata": {},
   "outputs": [
    {
     "data": {
      "text/plain": [
       "id                         0\n",
       "imdb_id                   10\n",
       "popularity                 0\n",
       "budget                     0\n",
       "revenue                    0\n",
       "original_title             0\n",
       "cast                      76\n",
       "homepage                7930\n",
       "director                  44\n",
       "tagline                 2824\n",
       "keywords                1493\n",
       "overview                   4\n",
       "runtime                    0\n",
       "genres                    23\n",
       "production_companies    1030\n",
       "release_date               0\n",
       "vote_count                 0\n",
       "vote_average               0\n",
       "release_year               0\n",
       "budget_adj                 0\n",
       "revenue_adj                0\n",
       "dtype: int64"
      ]
     },
     "execution_count": 6,
     "metadata": {},
     "output_type": "execute_result"
    }
   ],
   "source": [
    "# number of rows with missing values per each column\n",
    "df.isnull().sum()"
   ]
  },
  {
   "cell_type": "code",
   "execution_count": 7,
   "metadata": {},
   "outputs": [
    {
     "data": {
      "text/plain": [
       "1"
      ]
     },
     "execution_count": 7,
     "metadata": {},
     "output_type": "execute_result"
    }
   ],
   "source": [
    "# Number of duplicates\n",
    "df.duplicated().sum()"
   ]
  },
  {
   "cell_type": "markdown",
   "metadata": {},
   "source": [
    "<a name='cleaning'></a>\n",
    "\n",
    "### Cleaning Data\n",
    "> - Drop unnecessary columns for our investigation\n",
    "- Drop rows with zero values \n",
    "- Drop nulls\n",
    "- Dedupe"
   ]
  },
  {
   "cell_type": "markdown",
   "metadata": {},
   "source": [
    "> First, let's drop unneccessary columns before executing `dropna()` and `drop_duplicates()` to avoid losing rows that might contain meaningful data in them "
   ]
  },
  {
   "cell_type": "code",
   "execution_count": 8,
   "metadata": {},
   "outputs": [],
   "source": [
    "# Define columns to drop\n",
    "drop_cols = ['id', 'imdb_id', 'homepage', 'tagline', 'keywords',\n",
    "             'production_companies', 'overview', 'release_date',\n",
    "             'budget_adj', 'revenue_adj']\n",
    "\n",
    "df.drop(drop_cols, axis=1, inplace=True)"
   ]
  },
  {
   "cell_type": "code",
   "execution_count": 9,
   "metadata": {},
   "outputs": [
    {
     "data": {
      "text/plain": [
       "(10866, 11)"
      ]
     },
     "execution_count": 9,
     "metadata": {},
     "output_type": "execute_result"
    }
   ],
   "source": [
    "# Check the shape\n",
    "df.shape"
   ]
  },
  {
   "cell_type": "markdown",
   "metadata": {},
   "source": [
    "> Next, let's drop rows that contain zeroes since there is no indication whether these zeroes are actually zeroes or just missing."
   ]
  },
  {
   "cell_type": "code",
   "execution_count": 10,
   "metadata": {},
   "outputs": [
    {
     "data": {
      "text/plain": [
       "popularity        7011\n",
       "budget            7011\n",
       "revenue           7011\n",
       "original_title    7011\n",
       "cast              6939\n",
       "director          6968\n",
       "runtime           7011\n",
       "genres            6988\n",
       "vote_count        7011\n",
       "vote_average      7011\n",
       "release_year      7011\n",
       "dtype: int64"
      ]
     },
     "execution_count": 10,
     "metadata": {},
     "output_type": "execute_result"
    }
   ],
   "source": [
    "# Take a look how many rows contain zeroes \n",
    "df[(df == 0).any(1)].count()"
   ]
  },
  {
   "cell_type": "code",
   "execution_count": 11,
   "metadata": {},
   "outputs": [
    {
     "data": {
      "text/plain": [
       "(3855, 11)"
      ]
     },
     "execution_count": 11,
     "metadata": {},
     "output_type": "execute_result"
    }
   ],
   "source": [
    "# Keep rows with non-zero values everywhere \n",
    "df = df[(df != 0).all(1)]\n",
    "\n",
    "## or dropping rows with any zero values\n",
    "# drop_zeroes = df[(df == 0).any(1)].index\n",
    "# df.drop(drop_zeroes, inplace=True)\n",
    "\n",
    "# Check shape\n",
    "df.shape"
   ]
  },
  {
   "cell_type": "markdown",
   "metadata": {},
   "source": [
    "> Now, we are going to finish our cleaning by removing nulls and duplicates."
   ]
  },
  {
   "cell_type": "code",
   "execution_count": 12,
   "metadata": {},
   "outputs": [
    {
     "data": {
      "text/plain": [
       "popularity        0\n",
       "budget            0\n",
       "revenue           0\n",
       "original_title    0\n",
       "cast              4\n",
       "director          1\n",
       "runtime           0\n",
       "genres            0\n",
       "vote_count        0\n",
       "vote_average      0\n",
       "release_year      0\n",
       "dtype: int64"
      ]
     },
     "execution_count": 12,
     "metadata": {},
     "output_type": "execute_result"
    }
   ],
   "source": [
    "# Check null\n",
    "df.isnull().sum()"
   ]
  },
  {
   "cell_type": "code",
   "execution_count": 13,
   "metadata": {},
   "outputs": [
    {
     "data": {
      "text/plain": [
       "(3850, 11)"
      ]
     },
     "execution_count": 13,
     "metadata": {},
     "output_type": "execute_result"
    }
   ],
   "source": [
    "# drop nulls \n",
    "df.dropna(inplace=True)\n",
    "\n",
    "# check shape\n",
    "df.shape"
   ]
  },
  {
   "cell_type": "code",
   "execution_count": 14,
   "metadata": {
    "colab": {},
    "colab_type": "code",
    "id": "w7TWN6HNjfWC",
    "outputId": "b810b1a8-0072-45b3-f8bc-9ad8ed891f7f"
   },
   "outputs": [
    {
     "data": {
      "text/plain": [
       "1"
      ]
     },
     "execution_count": 14,
     "metadata": {},
     "output_type": "execute_result"
    }
   ],
   "source": [
    "# check duplicates\n",
    "df.duplicated().sum()"
   ]
  },
  {
   "cell_type": "code",
   "execution_count": 15,
   "metadata": {
    "colab": {},
    "colab_type": "code",
    "id": "COXfvVj5jfWH",
    "outputId": "27094a80-f308-4dab-97d2-993f27a6a952"
   },
   "outputs": [
    {
     "data": {
      "text/html": [
       "<div>\n",
       "<style scoped>\n",
       "    .dataframe tbody tr th:only-of-type {\n",
       "        vertical-align: middle;\n",
       "    }\n",
       "\n",
       "    .dataframe tbody tr th {\n",
       "        vertical-align: top;\n",
       "    }\n",
       "\n",
       "    .dataframe thead th {\n",
       "        text-align: right;\n",
       "    }\n",
       "</style>\n",
       "<table border=\"1\" class=\"dataframe\">\n",
       "  <thead>\n",
       "    <tr style=\"text-align: right;\">\n",
       "      <th></th>\n",
       "      <th>popularity</th>\n",
       "      <th>budget</th>\n",
       "      <th>revenue</th>\n",
       "      <th>original_title</th>\n",
       "      <th>cast</th>\n",
       "      <th>director</th>\n",
       "      <th>runtime</th>\n",
       "      <th>genres</th>\n",
       "      <th>vote_count</th>\n",
       "      <th>vote_average</th>\n",
       "      <th>release_year</th>\n",
       "    </tr>\n",
       "  </thead>\n",
       "  <tbody>\n",
       "    <tr>\n",
       "      <th>2090</th>\n",
       "      <td>0.59643</td>\n",
       "      <td>30000000</td>\n",
       "      <td>967000</td>\n",
       "      <td>TEKKEN</td>\n",
       "      <td>Jon Foo|Kelly Overton|Cary-Hiroyuki Tagawa|Ian...</td>\n",
       "      <td>Dwight H. Little</td>\n",
       "      <td>92</td>\n",
       "      <td>Crime|Drama|Action|Thriller|Science Fiction</td>\n",
       "      <td>110</td>\n",
       "      <td>5.0</td>\n",
       "      <td>2010</td>\n",
       "    </tr>\n",
       "  </tbody>\n",
       "</table>\n",
       "</div>"
      ],
      "text/plain": [
       "      popularity    budget  revenue original_title  \\\n",
       "2090     0.59643  30000000   967000         TEKKEN   \n",
       "\n",
       "                                                   cast          director  \\\n",
       "2090  Jon Foo|Kelly Overton|Cary-Hiroyuki Tagawa|Ian...  Dwight H. Little   \n",
       "\n",
       "      runtime                                       genres  vote_count  \\\n",
       "2090       92  Crime|Drama|Action|Thriller|Science Fiction         110   \n",
       "\n",
       "      vote_average  release_year  \n",
       "2090           5.0          2010  "
      ]
     },
     "execution_count": 15,
     "metadata": {},
     "output_type": "execute_result"
    }
   ],
   "source": [
    "# we have one duplicate, let's take a look\n",
    "df[df.duplicated()]"
   ]
  },
  {
   "cell_type": "code",
   "execution_count": 16,
   "metadata": {
    "colab": {},
    "colab_type": "code",
    "id": "l6DDKiwojfWL",
    "outputId": "431851fe-f547-4a83-d7ea-4109203bc3d7"
   },
   "outputs": [
    {
     "data": {
      "text/plain": [
       "(3849, 11)"
      ]
     },
     "execution_count": 16,
     "metadata": {},
     "output_type": "execute_result"
    }
   ],
   "source": [
    "# dedupe and check shape\n",
    "df.drop_duplicates(inplace=True)\n",
    "\n",
    "df.shape"
   ]
  },
  {
   "cell_type": "code",
   "execution_count": 17,
   "metadata": {},
   "outputs": [],
   "source": [
    "# save \n",
    "df.to_csv('tmdb-movies-clean.csv', index=False)"
   ]
  },
  {
   "cell_type": "markdown",
   "metadata": {
    "colab": {},
    "colab_type": "code",
    "id": "YpMzWhWRjfWO",
    "outputId": "833438d2-a151-4287-bae7-163d5f1a8979"
   },
   "source": [
    "> Finally, throughout cleaning processes, we now have our dataframe with ***3849 rows*** with ***11 columns*** ready to be analyzed."
   ]
  },
  {
   "cell_type": "markdown",
   "metadata": {},
   "source": [
    "<a name='exploring'></a>\n",
    "\n",
    "## Exploratory Data Analysis\n",
    "> In this section, we are going to compute statistics and create visualizations with the goal of addressing the research questions that we posed in the Introduction section.<br>\n",
    "We will start with looking at one variable at a time, and then follow it up by looking at relationships between variables.\n",
    "\n",
    "<a name='prep'></a>\n",
    "\n",
    "### Preparing Data Analysis\n",
    "> - Manipulate dataframe\n",
    "- Define functions that will be used to answer proposed questions\n",
    "- Prepare subsets of data for each questions"
   ]
  },
  {
   "cell_type": "code",
   "execution_count": 18,
   "metadata": {},
   "outputs": [
    {
     "data": {
      "text/html": [
       "<div>\n",
       "<style scoped>\n",
       "    .dataframe tbody tr th:only-of-type {\n",
       "        vertical-align: middle;\n",
       "    }\n",
       "\n",
       "    .dataframe tbody tr th {\n",
       "        vertical-align: top;\n",
       "    }\n",
       "\n",
       "    .dataframe thead th {\n",
       "        text-align: right;\n",
       "    }\n",
       "</style>\n",
       "<table border=\"1\" class=\"dataframe\">\n",
       "  <thead>\n",
       "    <tr style=\"text-align: right;\">\n",
       "      <th></th>\n",
       "      <th>popularity</th>\n",
       "      <th>budget</th>\n",
       "      <th>revenue</th>\n",
       "      <th>original_title</th>\n",
       "      <th>cast</th>\n",
       "      <th>director</th>\n",
       "      <th>runtime</th>\n",
       "      <th>genres</th>\n",
       "      <th>vote_count</th>\n",
       "      <th>vote_average</th>\n",
       "      <th>release_year</th>\n",
       "    </tr>\n",
       "  </thead>\n",
       "  <tbody>\n",
       "    <tr>\n",
       "      <th>0</th>\n",
       "      <td>32.985763</td>\n",
       "      <td>150000000</td>\n",
       "      <td>1513528810</td>\n",
       "      <td>Jurassic World</td>\n",
       "      <td>Chris Pratt|Bryce Dallas Howard|Irrfan Khan|Vi...</td>\n",
       "      <td>Colin Trevorrow</td>\n",
       "      <td>124</td>\n",
       "      <td>Action|Adventure|Science Fiction|Thriller</td>\n",
       "      <td>5562</td>\n",
       "      <td>6.5</td>\n",
       "      <td>2015</td>\n",
       "    </tr>\n",
       "    <tr>\n",
       "      <th>1</th>\n",
       "      <td>28.419936</td>\n",
       "      <td>150000000</td>\n",
       "      <td>378436354</td>\n",
       "      <td>Mad Max: Fury Road</td>\n",
       "      <td>Tom Hardy|Charlize Theron|Hugh Keays-Byrne|Nic...</td>\n",
       "      <td>George Miller</td>\n",
       "      <td>120</td>\n",
       "      <td>Action|Adventure|Science Fiction|Thriller</td>\n",
       "      <td>6185</td>\n",
       "      <td>7.1</td>\n",
       "      <td>2015</td>\n",
       "    </tr>\n",
       "    <tr>\n",
       "      <th>2</th>\n",
       "      <td>13.112507</td>\n",
       "      <td>110000000</td>\n",
       "      <td>295238201</td>\n",
       "      <td>Insurgent</td>\n",
       "      <td>Shailene Woodley|Theo James|Kate Winslet|Ansel...</td>\n",
       "      <td>Robert Schwentke</td>\n",
       "      <td>119</td>\n",
       "      <td>Adventure|Science Fiction|Thriller</td>\n",
       "      <td>2480</td>\n",
       "      <td>6.3</td>\n",
       "      <td>2015</td>\n",
       "    </tr>\n",
       "  </tbody>\n",
       "</table>\n",
       "</div>"
      ],
      "text/plain": [
       "   popularity     budget     revenue      original_title  \\\n",
       "0   32.985763  150000000  1513528810      Jurassic World   \n",
       "1   28.419936  150000000   378436354  Mad Max: Fury Road   \n",
       "2   13.112507  110000000   295238201           Insurgent   \n",
       "\n",
       "                                                cast          director  \\\n",
       "0  Chris Pratt|Bryce Dallas Howard|Irrfan Khan|Vi...   Colin Trevorrow   \n",
       "1  Tom Hardy|Charlize Theron|Hugh Keays-Byrne|Nic...     George Miller   \n",
       "2  Shailene Woodley|Theo James|Kate Winslet|Ansel...  Robert Schwentke   \n",
       "\n",
       "   runtime                                     genres  vote_count  \\\n",
       "0      124  Action|Adventure|Science Fiction|Thriller        5562   \n",
       "1      120  Action|Adventure|Science Fiction|Thriller        6185   \n",
       "2      119         Adventure|Science Fiction|Thriller        2480   \n",
       "\n",
       "   vote_average  release_year  \n",
       "0           6.5          2015  \n",
       "1           7.1          2015  \n",
       "2           6.3          2015  "
      ]
     },
     "execution_count": 18,
     "metadata": {},
     "output_type": "execute_result"
    }
   ],
   "source": [
    "# load data and check\n",
    "df = pd.read_csv('tmdb-movies-clean.csv')\n",
    "df.head(3)"
   ]
  },
  {
   "cell_type": "markdown",
   "metadata": {},
   "source": [
    "> To start with, let's manipulate our dataframe before answering some specific questions.<br>\n",
    "- rearrange our column orders for easier slicing relative to our proposed questions\n",
    "- add `'profit'` column defined as $profit = revenue - budget$ <br>\n",
    "- add `'break_even'` column with `'yes'` or `'no'` where `break-even point` is defined as $ break \\ even = 2 \\times budget$"
   ]
  },
  {
   "cell_type": "code",
   "execution_count": 19,
   "metadata": {},
   "outputs": [],
   "source": [
    "# rearrange the column order\n",
    "new_order = ['original_title', 'genres', 'director', 'cast',\n",
    "             'release_year', 'budget', 'revenue', 'runtime',\n",
    "             'vote_count', 'vote_average', 'popularity']\n",
    "\n",
    "df = df[new_order]"
   ]
  },
  {
   "cell_type": "code",
   "execution_count": 20,
   "metadata": {},
   "outputs": [],
   "source": [
    "# add 'profit' column after 'revenue' column\n",
    "df.insert(7, 'profit', df['revenue'] - df['budget'])"
   ]
  },
  {
   "cell_type": "code",
   "execution_count": 21,
   "metadata": {},
   "outputs": [],
   "source": [
    "# add 'break_even' column. 'yes' if 'revenue' is greater or equal to twice the budget, else 'no'\n",
    "df.insert(8, 'breakeven', np.where(df['revenue'] >= df['budget']*2, 'yes', 'no'))"
   ]
  },
  {
   "cell_type": "code",
   "execution_count": 22,
   "metadata": {},
   "outputs": [],
   "source": [
    "# add 'total_vote_point' column after 'vote_average' column defined as (vote_count*vote_average)\n",
    "df.insert(12, 'total_vote_point', np.multiply(df['vote_count'], df['vote_average']))"
   ]
  },
  {
   "cell_type": "code",
   "execution_count": 23,
   "metadata": {},
   "outputs": [
    {
     "data": {
      "text/html": [
       "<div>\n",
       "<style scoped>\n",
       "    .dataframe tbody tr th:only-of-type {\n",
       "        vertical-align: middle;\n",
       "    }\n",
       "\n",
       "    .dataframe tbody tr th {\n",
       "        vertical-align: top;\n",
       "    }\n",
       "\n",
       "    .dataframe thead th {\n",
       "        text-align: right;\n",
       "    }\n",
       "</style>\n",
       "<table border=\"1\" class=\"dataframe\">\n",
       "  <thead>\n",
       "    <tr style=\"text-align: right;\">\n",
       "      <th></th>\n",
       "      <th>original_title</th>\n",
       "      <th>genres</th>\n",
       "      <th>director</th>\n",
       "      <th>cast</th>\n",
       "      <th>release_year</th>\n",
       "      <th>budget</th>\n",
       "      <th>revenue</th>\n",
       "      <th>profit</th>\n",
       "      <th>breakeven</th>\n",
       "      <th>runtime</th>\n",
       "      <th>vote_count</th>\n",
       "      <th>vote_average</th>\n",
       "      <th>total_vote_point</th>\n",
       "      <th>popularity</th>\n",
       "    </tr>\n",
       "  </thead>\n",
       "  <tbody>\n",
       "    <tr>\n",
       "      <th>0</th>\n",
       "      <td>Jurassic World</td>\n",
       "      <td>Action|Adventure|Science Fiction|Thriller</td>\n",
       "      <td>Colin Trevorrow</td>\n",
       "      <td>Chris Pratt|Bryce Dallas Howard|Irrfan Khan|Vi...</td>\n",
       "      <td>2015</td>\n",
       "      <td>150000000</td>\n",
       "      <td>1513528810</td>\n",
       "      <td>1363528810</td>\n",
       "      <td>yes</td>\n",
       "      <td>124</td>\n",
       "      <td>5562</td>\n",
       "      <td>6.5</td>\n",
       "      <td>36153.0</td>\n",
       "      <td>32.985763</td>\n",
       "    </tr>\n",
       "    <tr>\n",
       "      <th>1</th>\n",
       "      <td>Mad Max: Fury Road</td>\n",
       "      <td>Action|Adventure|Science Fiction|Thriller</td>\n",
       "      <td>George Miller</td>\n",
       "      <td>Tom Hardy|Charlize Theron|Hugh Keays-Byrne|Nic...</td>\n",
       "      <td>2015</td>\n",
       "      <td>150000000</td>\n",
       "      <td>378436354</td>\n",
       "      <td>228436354</td>\n",
       "      <td>yes</td>\n",
       "      <td>120</td>\n",
       "      <td>6185</td>\n",
       "      <td>7.1</td>\n",
       "      <td>43913.5</td>\n",
       "      <td>28.419936</td>\n",
       "    </tr>\n",
       "    <tr>\n",
       "      <th>2</th>\n",
       "      <td>Insurgent</td>\n",
       "      <td>Adventure|Science Fiction|Thriller</td>\n",
       "      <td>Robert Schwentke</td>\n",
       "      <td>Shailene Woodley|Theo James|Kate Winslet|Ansel...</td>\n",
       "      <td>2015</td>\n",
       "      <td>110000000</td>\n",
       "      <td>295238201</td>\n",
       "      <td>185238201</td>\n",
       "      <td>yes</td>\n",
       "      <td>119</td>\n",
       "      <td>2480</td>\n",
       "      <td>6.3</td>\n",
       "      <td>15624.0</td>\n",
       "      <td>13.112507</td>\n",
       "    </tr>\n",
       "  </tbody>\n",
       "</table>\n",
       "</div>"
      ],
      "text/plain": [
       "       original_title                                     genres  \\\n",
       "0      Jurassic World  Action|Adventure|Science Fiction|Thriller   \n",
       "1  Mad Max: Fury Road  Action|Adventure|Science Fiction|Thriller   \n",
       "2           Insurgent         Adventure|Science Fiction|Thriller   \n",
       "\n",
       "           director                                               cast  \\\n",
       "0   Colin Trevorrow  Chris Pratt|Bryce Dallas Howard|Irrfan Khan|Vi...   \n",
       "1     George Miller  Tom Hardy|Charlize Theron|Hugh Keays-Byrne|Nic...   \n",
       "2  Robert Schwentke  Shailene Woodley|Theo James|Kate Winslet|Ansel...   \n",
       "\n",
       "   release_year     budget     revenue      profit breakeven  runtime  \\\n",
       "0          2015  150000000  1513528810  1363528810       yes      124   \n",
       "1          2015  150000000   378436354   228436354       yes      120   \n",
       "2          2015  110000000   295238201   185238201       yes      119   \n",
       "\n",
       "   vote_count  vote_average  total_vote_point  popularity  \n",
       "0        5562           6.5           36153.0   32.985763  \n",
       "1        6185           7.1           43913.5   28.419936  \n",
       "2        2480           6.3           15624.0   13.112507  "
      ]
     },
     "execution_count": 23,
     "metadata": {},
     "output_type": "execute_result"
    }
   ],
   "source": [
    "# check the modified dataframe\n",
    "df.head(3)"
   ]
  },
  {
   "cell_type": "markdown",
   "metadata": {},
   "source": [
    "> Next, write a function that returns an informational dataframe based on maximum and minimum *(first occurrence if many)* of a requested column <br>\n",
    "and presents it in a more readable tableform. "
   ]
  },
  {
   "cell_type": "code",
   "execution_count": 24,
   "metadata": {},
   "outputs": [],
   "source": [
    "# define a function which takes a column name and a dataframe(df by default)\n",
    "def mum_table(col, df=df):\n",
    "    # find index of maximum and minimum of a requested axis\n",
    "    id_extrema = [df[col].idxmax(), df[col].idxmin()]\n",
    "\n",
    "    # select the data\n",
    "    df_temp = df.loc[id_extrema, :]\n",
    "\n",
    "    # set 'original_title' as new index, delete the index title, and transpose\n",
    "    df_temp = df_temp.set_index('original_title').rename_axis(None).T\n",
    "\n",
    "    return df_temp"
   ]
  },
  {
   "cell_type": "markdown",
   "metadata": {},
   "source": [
    "> What if I want to see top & bottom 3 or 5 movies regarding their numerical values ?"
   ]
  },
  {
   "cell_type": "code",
   "execution_count": 25,
   "metadata": {},
   "outputs": [],
   "source": [
    "# define a function named find_extrema()\n",
    "def n_extrema(col, i=1):\n",
    "    df_top = df.sort_values(by=col, ascending=False).head(i).reset_index(drop=True)\n",
    "\n",
    "    # ascending=True to have worst case on top\n",
    "    df_bot = df.sort_values(by=col, ascending=True).head(i).reset_index(drop=True)\n",
    "    return df_top, df_bot"
   ]
  },
  {
   "cell_type": "markdown",
   "metadata": {},
   "source": [
    "> Since we have few columns that contain multiple values separated with pipe (|) characters, <br>\n",
    "let's define another function that will help us spliting these values and counting them."
   ]
  },
  {
   "cell_type": "markdown",
   "metadata": {},
   "source": [
    "> "
   ]
  },
  {
   "cell_type": "code",
   "execution_count": 26,
   "metadata": {},
   "outputs": [],
   "source": [
    "# define a function named word_count()\n",
    "def word_count(col, df=df):\n",
    "    # concatenate every row first, then split\n",
    "    my_lst = df[col].str.cat(sep='|').split('|')\n",
    "    my_series = pd.Series(my_lst)\n",
    "    return my_series.value_counts()"
   ]
  },
  {
   "cell_type": "code",
   "execution_count": 27,
   "metadata": {},
   "outputs": [],
   "source": [
    "# set title, label, and ticks for the plot\n",
    "def fig_labels(title, xlabel, ylabel, xtick_loc=None, xtick_lab=None, ytick_loc=None, ytick_lab=None):\n",
    "    plt.title(title, fontweight='bold', fontsize=15)\n",
    "    plt.xlabel(xlabel, fontweight='bold', fontsize=12)\n",
    "    plt.ylabel(ylabel, fontweight='bold', fontsize=12)\n",
    "    plt.xticks(xtick_loc, xtick_lab, fontweight ='bold', fontsize=12)\n",
    "    plt.yticks(ytick_loc, ytick_lab, fontweight='bold', fontsize=12)\n",
    "    return"
   ]
  },
  {
   "cell_type": "markdown",
   "metadata": {},
   "source": [
    "\n"
   ]
  },
  {
   "cell_type": "markdown",
   "metadata": {},
   "source": [
    "<a name='questions'></a>\n",
    "### Research Questions\n",
    "#### Q1. Movies which made most and least profit"
   ]
  },
  {
   "cell_type": "code",
   "execution_count": 28,
   "metadata": {},
   "outputs": [
    {
     "data": {
      "text/html": [
       "<div>\n",
       "<style scoped>\n",
       "    .dataframe tbody tr th:only-of-type {\n",
       "        vertical-align: middle;\n",
       "    }\n",
       "\n",
       "    .dataframe tbody tr th {\n",
       "        vertical-align: top;\n",
       "    }\n",
       "\n",
       "    .dataframe thead th {\n",
       "        text-align: right;\n",
       "    }\n",
       "</style>\n",
       "<table border=\"1\" class=\"dataframe\">\n",
       "  <thead>\n",
       "    <tr style=\"text-align: right;\">\n",
       "      <th></th>\n",
       "      <th>Avatar</th>\n",
       "      <th>The Warrior's Way</th>\n",
       "    </tr>\n",
       "  </thead>\n",
       "  <tbody>\n",
       "    <tr>\n",
       "      <th>budget</th>\n",
       "      <td>237000000</td>\n",
       "      <td>425000000</td>\n",
       "    </tr>\n",
       "    <tr>\n",
       "      <th>revenue</th>\n",
       "      <td>2781505847</td>\n",
       "      <td>11087569</td>\n",
       "    </tr>\n",
       "    <tr>\n",
       "      <th>profit</th>\n",
       "      <td>2544505847</td>\n",
       "      <td>-413912431</td>\n",
       "    </tr>\n",
       "    <tr>\n",
       "      <th>breakeven</th>\n",
       "      <td>yes</td>\n",
       "      <td>no</td>\n",
       "    </tr>\n",
       "  </tbody>\n",
       "</table>\n",
       "</div>"
      ],
      "text/plain": [
       "               Avatar The Warrior's Way\n",
       "budget      237000000         425000000\n",
       "revenue    2781505847          11087569\n",
       "profit     2544505847        -413912431\n",
       "breakeven         yes                no"
      ]
     },
     "execution_count": 28,
     "metadata": {},
     "output_type": "execute_result"
    }
   ],
   "source": [
    "# use mum_table() to find information about movies with max/min 'profit'\n",
    "mum_table('profit', df).iloc[4:8]"
   ]
  },
  {
   "cell_type": "markdown",
   "metadata": {},
   "source": [
    "> As we can see, most profitable movie was `Avatar` <br>\n",
    "and least (or worst) profitable movie was `The Warrior's Way`.\n",
    "\n",
    "#### How about top 3 and bottom 3 movies (total 6) in profit ?"
   ]
  },
  {
   "cell_type": "code",
   "execution_count": 29,
   "metadata": {},
   "outputs": [
    {
     "data": {
      "text/html": [
       "<div>\n",
       "<style scoped>\n",
       "    .dataframe tbody tr th:only-of-type {\n",
       "        vertical-align: middle;\n",
       "    }\n",
       "\n",
       "    .dataframe tbody tr th {\n",
       "        vertical-align: top;\n",
       "    }\n",
       "\n",
       "    .dataframe thead th {\n",
       "        text-align: right;\n",
       "    }\n",
       "</style>\n",
       "<table border=\"1\" class=\"dataframe\">\n",
       "  <thead>\n",
       "    <tr style=\"text-align: right;\">\n",
       "      <th></th>\n",
       "      <th>original_title</th>\n",
       "      <th>genres</th>\n",
       "      <th>director</th>\n",
       "      <th>cast</th>\n",
       "      <th>release_year</th>\n",
       "      <th>budget</th>\n",
       "      <th>revenue</th>\n",
       "      <th>profit</th>\n",
       "      <th>breakeven</th>\n",
       "      <th>runtime</th>\n",
       "      <th>vote_count</th>\n",
       "      <th>vote_average</th>\n",
       "      <th>total_vote_point</th>\n",
       "      <th>popularity</th>\n",
       "    </tr>\n",
       "  </thead>\n",
       "  <tbody>\n",
       "    <tr>\n",
       "      <th>0</th>\n",
       "      <td>Avatar</td>\n",
       "      <td>Action|Adventure|Fantasy|Science Fiction</td>\n",
       "      <td>James Cameron</td>\n",
       "      <td>Sam Worthington|Zoe Saldana|Sigourney Weaver|S...</td>\n",
       "      <td>2009</td>\n",
       "      <td>237000000</td>\n",
       "      <td>2781505847</td>\n",
       "      <td>2544505847</td>\n",
       "      <td>yes</td>\n",
       "      <td>162</td>\n",
       "      <td>8458</td>\n",
       "      <td>7.1</td>\n",
       "      <td>60051.8</td>\n",
       "      <td>9.432768</td>\n",
       "    </tr>\n",
       "    <tr>\n",
       "      <th>1</th>\n",
       "      <td>Star Wars: The Force Awakens</td>\n",
       "      <td>Action|Adventure|Science Fiction|Fantasy</td>\n",
       "      <td>J.J. Abrams</td>\n",
       "      <td>Harrison Ford|Mark Hamill|Carrie Fisher|Adam D...</td>\n",
       "      <td>2015</td>\n",
       "      <td>200000000</td>\n",
       "      <td>2068178225</td>\n",
       "      <td>1868178225</td>\n",
       "      <td>yes</td>\n",
       "      <td>136</td>\n",
       "      <td>5292</td>\n",
       "      <td>7.5</td>\n",
       "      <td>39690.0</td>\n",
       "      <td>11.173104</td>\n",
       "    </tr>\n",
       "    <tr>\n",
       "      <th>2</th>\n",
       "      <td>Titanic</td>\n",
       "      <td>Drama|Romance|Thriller</td>\n",
       "      <td>James Cameron</td>\n",
       "      <td>Kate Winslet|Leonardo DiCaprio|Frances Fisher|...</td>\n",
       "      <td>1997</td>\n",
       "      <td>200000000</td>\n",
       "      <td>1845034188</td>\n",
       "      <td>1645034188</td>\n",
       "      <td>yes</td>\n",
       "      <td>194</td>\n",
       "      <td>4654</td>\n",
       "      <td>7.3</td>\n",
       "      <td>33974.2</td>\n",
       "      <td>4.355219</td>\n",
       "    </tr>\n",
       "  </tbody>\n",
       "</table>\n",
       "</div>"
      ],
      "text/plain": [
       "                 original_title                                    genres  \\\n",
       "0                        Avatar  Action|Adventure|Fantasy|Science Fiction   \n",
       "1  Star Wars: The Force Awakens  Action|Adventure|Science Fiction|Fantasy   \n",
       "2                       Titanic                    Drama|Romance|Thriller   \n",
       "\n",
       "        director                                               cast  \\\n",
       "0  James Cameron  Sam Worthington|Zoe Saldana|Sigourney Weaver|S...   \n",
       "1    J.J. Abrams  Harrison Ford|Mark Hamill|Carrie Fisher|Adam D...   \n",
       "2  James Cameron  Kate Winslet|Leonardo DiCaprio|Frances Fisher|...   \n",
       "\n",
       "   release_year     budget     revenue      profit breakeven  runtime  \\\n",
       "0          2009  237000000  2781505847  2544505847       yes      162   \n",
       "1          2015  200000000  2068178225  1868178225       yes      136   \n",
       "2          1997  200000000  1845034188  1645034188       yes      194   \n",
       "\n",
       "   vote_count  vote_average  total_vote_point  popularity  \n",
       "0        8458           7.1           60051.8    9.432768  \n",
       "1        5292           7.5           39690.0   11.173104  \n",
       "2        4654           7.3           33974.2    4.355219  "
      ]
     },
     "execution_count": 29,
     "metadata": {},
     "output_type": "execute_result"
    }
   ],
   "source": [
    "# Top 3 profitable movies\n",
    "top_profit, bot_profit = n_extrema('profit', 3)\n",
    "top_profit"
   ]
  },
  {
   "cell_type": "code",
   "execution_count": 30,
   "metadata": {},
   "outputs": [
    {
     "data": {
      "text/html": [
       "<div>\n",
       "<style scoped>\n",
       "    .dataframe tbody tr th:only-of-type {\n",
       "        vertical-align: middle;\n",
       "    }\n",
       "\n",
       "    .dataframe tbody tr th {\n",
       "        vertical-align: top;\n",
       "    }\n",
       "\n",
       "    .dataframe thead th {\n",
       "        text-align: right;\n",
       "    }\n",
       "</style>\n",
       "<table border=\"1\" class=\"dataframe\">\n",
       "  <thead>\n",
       "    <tr style=\"text-align: right;\">\n",
       "      <th></th>\n",
       "      <th>original_title</th>\n",
       "      <th>genres</th>\n",
       "      <th>director</th>\n",
       "      <th>cast</th>\n",
       "      <th>release_year</th>\n",
       "      <th>budget</th>\n",
       "      <th>revenue</th>\n",
       "      <th>profit</th>\n",
       "      <th>breakeven</th>\n",
       "      <th>runtime</th>\n",
       "      <th>vote_count</th>\n",
       "      <th>vote_average</th>\n",
       "      <th>total_vote_point</th>\n",
       "      <th>popularity</th>\n",
       "    </tr>\n",
       "  </thead>\n",
       "  <tbody>\n",
       "    <tr>\n",
       "      <th>0</th>\n",
       "      <td>The Warrior's Way</td>\n",
       "      <td>Adventure|Fantasy|Action|Western|Thriller</td>\n",
       "      <td>Sngmoo Lee</td>\n",
       "      <td>Kate Bosworth|Jang Dong-gun|Geoffrey Rush|Dann...</td>\n",
       "      <td>2010</td>\n",
       "      <td>425000000</td>\n",
       "      <td>11087569</td>\n",
       "      <td>-413912431</td>\n",
       "      <td>no</td>\n",
       "      <td>100</td>\n",
       "      <td>74</td>\n",
       "      <td>6.4</td>\n",
       "      <td>473.6</td>\n",
       "      <td>0.25054</td>\n",
       "    </tr>\n",
       "    <tr>\n",
       "      <th>1</th>\n",
       "      <td>The Lone Ranger</td>\n",
       "      <td>Action|Adventure|Western</td>\n",
       "      <td>Gore Verbinski</td>\n",
       "      <td>Johnny Depp|Armie Hammer|William Fichtner|Hele...</td>\n",
       "      <td>2013</td>\n",
       "      <td>255000000</td>\n",
       "      <td>89289910</td>\n",
       "      <td>-165710090</td>\n",
       "      <td>no</td>\n",
       "      <td>149</td>\n",
       "      <td>1607</td>\n",
       "      <td>6.0</td>\n",
       "      <td>9642.0</td>\n",
       "      <td>1.21451</td>\n",
       "    </tr>\n",
       "    <tr>\n",
       "      <th>2</th>\n",
       "      <td>The Alamo</td>\n",
       "      <td>Western|History|War</td>\n",
       "      <td>John Lee Hancock</td>\n",
       "      <td>Dennis Quaid|Billy Bob Thornton|Jason Patric|P...</td>\n",
       "      <td>2004</td>\n",
       "      <td>145000000</td>\n",
       "      <td>25819961</td>\n",
       "      <td>-119180039</td>\n",
       "      <td>no</td>\n",
       "      <td>137</td>\n",
       "      <td>60</td>\n",
       "      <td>5.9</td>\n",
       "      <td>354.0</td>\n",
       "      <td>0.94856</td>\n",
       "    </tr>\n",
       "  </tbody>\n",
       "</table>\n",
       "</div>"
      ],
      "text/plain": [
       "      original_title                                     genres  \\\n",
       "0  The Warrior's Way  Adventure|Fantasy|Action|Western|Thriller   \n",
       "1    The Lone Ranger                   Action|Adventure|Western   \n",
       "2          The Alamo                        Western|History|War   \n",
       "\n",
       "           director                                               cast  \\\n",
       "0        Sngmoo Lee  Kate Bosworth|Jang Dong-gun|Geoffrey Rush|Dann...   \n",
       "1    Gore Verbinski  Johnny Depp|Armie Hammer|William Fichtner|Hele...   \n",
       "2  John Lee Hancock  Dennis Quaid|Billy Bob Thornton|Jason Patric|P...   \n",
       "\n",
       "   release_year     budget   revenue     profit breakeven  runtime  \\\n",
       "0          2010  425000000  11087569 -413912431        no      100   \n",
       "1          2013  255000000  89289910 -165710090        no      149   \n",
       "2          2004  145000000  25819961 -119180039        no      137   \n",
       "\n",
       "   vote_count  vote_average  total_vote_point  popularity  \n",
       "0          74           6.4             473.6     0.25054  \n",
       "1        1607           6.0            9642.0     1.21451  \n",
       "2          60           5.9             354.0     0.94856  "
      ]
     },
     "execution_count": 30,
     "metadata": {},
     "output_type": "execute_result"
    }
   ],
   "source": [
    "# Bottom 3 profitable movies\n",
    "bot_profit"
   ]
  },
  {
   "cell_type": "markdown",
   "metadata": {},
   "source": [
    "> Let's see them with a graph."
   ]
  },
  {
   "cell_type": "code",
   "execution_count": 31,
   "metadata": {},
   "outputs": [
    {
     "data": {
      "image/png": "[encoded data removed]",
      "text/plain": [
       "<Figure size 720x360 with 1 Axes>"
      ]
     },
     "metadata": {
      "needs_background": "light"
     },
     "output_type": "display_data"
    }
   ],
   "source": [
    "# define figure size,\n",
    "plt.figure(figsize=(10, 5))\n",
    "\n",
    "# placeholder for each bar\n",
    "location = [i+1 for i in top_profit.index]\n",
    "\n",
    "# values for each bar\n",
    "height = top_profit['profit'].tolist()\n",
    "height2 = bot_profit['profit'].tolist()\n",
    "\n",
    "# bar chart using seaborn/ applying palette to distinguish high to low profits\n",
    "sns.barplot(location, height, palette='Blues_d')\n",
    "sns.barplot(location, height2, palette=reversed(sns.color_palette('Reds')))\n",
    "\n",
    "# remove xticks\n",
    "plt.xticks([])\n",
    "\n",
    "# set title, labels, and ticks\n",
    "title, xlabel, ylabel = ['Top 3 and Bottom 3 Profitable Movies',\n",
    "                         'Movies', 'Profit (USD)']\n",
    "fig_labels(title, xlabel, ylabel)\n",
    "\n",
    "# adjust figure window\n",
    "plt.ylim(-1E9, 3E9)\n",
    "\n",
    "# placing each movies' title above or below their bar\n",
    "for i, v in enumerate(height):\n",
    "    plt.text(i, v+0.5E8, top_profit['original_title'][i], color='black',\n",
    "             fontweight='bold', ha='center', fontsize=12)\n",
    "\n",
    "for i, v in enumerate(height2):\n",
    "    plt.text(i, v-1.5E8, bot_profit['original_title'][i], color='black',\n",
    "             fontweight='bold', ha='center', fontsize=12);"
   ]
  },
  {
   "cell_type": "markdown",
   "metadata": {},
   "source": [
    "> - 3 most profitable movies are `Avatar`, `Start Wars: The Force Awakens`, and `Titanic`. <br>\n",
    "- 3 worst profitable movies are `The Warrior's Way`, `The Lone Ranger`, and `The Alamo`. \n",
    "- The difference between `Avatar` and `The Warrior's Way` in profit is approximately 3 billion USD\n",
    "\n",
    "<a name='question2'></a>\n",
    "#### Q2. Movie market growth trends"
   ]
  },
  {
   "cell_type": "code",
   "execution_count": 32,
   "metadata": {},
   "outputs": [],
   "source": [
    "# find sum (total) of `budget` and `revenue` per year using groupby method\n",
    "df_q2 = df.groupby('release_year').sum()[['budget','revenue']]"
   ]
  },
  {
   "cell_type": "code",
   "execution_count": 33,
   "metadata": {},
   "outputs": [
    {
     "data": {
      "image/png": "[encoded data removed]",
      "text/plain": [
       "<Figure size 720x360 with 1 Axes>"
      ]
     },
     "metadata": {
      "needs_background": "light"
     },
     "output_type": "display_data"
    }
   ],
   "source": [
    "# set x, y axis data\n",
    "# x1, y1 for total budget; x2, y2 for total revenue\n",
    "x1, y1, y2 = df_q2.index, df_q2['budget'], df_q2['revenue']\n",
    "\n",
    "# set size\n",
    "plt.figure(figsize=(10, 5))\n",
    "\n",
    "# plot line chart for total budget and revenue\n",
    "plt.plot(x1, y1, color='#70B190', label='Budget')\n",
    "plt.plot(x1, y2, color='#E57865', label='Revenue')\n",
    "\n",
    "# set title, labels, and ticks\n",
    "title, xlabel, ylabel = ['Total Budget and Revenue Over Time',\n",
    "                         'Year', 'Total Amount per Year (USD)']\n",
    "fig_labels(title, xlabel, ylabel)\n",
    "\n",
    "# set legend\n",
    "plt.legend(loc='upper left', fontsize=12)\n",
    "\n",
    "# fill the gap between two curves (represents the difference)\n",
    "plt.fill_between(x1, y1, y2, color='#EECA7B', alpha=0.5);"
   ]
  },
  {
   "cell_type": "markdown",
   "metadata": {},
   "source": [
    "> - The growing gap between budget and revenue indicates that the movie market is definitely growing.\n",
    "- The revenue growth starts to accelerate in 1990s whereas budget amount tends to maintain at a certain level.\n",
    "\n",
    "<a name='question3'></a>\n",
    "#### Q3. How long does the audience want their movie to be ?\n"
   ]
  },
  {
   "cell_type": "code",
   "execution_count": 34,
   "metadata": {},
   "outputs": [
    {
     "data": {
      "text/html": [
       "<div>\n",
       "<style scoped>\n",
       "    .dataframe tbody tr th:only-of-type {\n",
       "        vertical-align: middle;\n",
       "    }\n",
       "\n",
       "    .dataframe tbody tr th {\n",
       "        vertical-align: top;\n",
       "    }\n",
       "\n",
       "    .dataframe thead th {\n",
       "        text-align: right;\n",
       "    }\n",
       "</style>\n",
       "<table border=\"1\" class=\"dataframe\">\n",
       "  <thead>\n",
       "    <tr style=\"text-align: right;\">\n",
       "      <th></th>\n",
       "      <th>Carlos</th>\n",
       "      <th>Kid's Story</th>\n",
       "    </tr>\n",
       "  </thead>\n",
       "  <tbody>\n",
       "    <tr>\n",
       "      <th>genres</th>\n",
       "      <td>Crime|Drama|Thriller|History</td>\n",
       "      <td>Science Fiction|Animation</td>\n",
       "    </tr>\n",
       "    <tr>\n",
       "      <th>director</th>\n",
       "      <td>Olivier Assayas</td>\n",
       "      <td>Shinichiro Watanabe</td>\n",
       "    </tr>\n",
       "    <tr>\n",
       "      <th>cast</th>\n",
       "      <td>Edgar RamÃ­rez|Alexander Scheer|Fadi Abi Samra...</td>\n",
       "      <td>Clayton Watson|Keanu Reeves|Carrie-Anne Moss|K...</td>\n",
       "    </tr>\n",
       "    <tr>\n",
       "      <th>release_year</th>\n",
       "      <td>2010</td>\n",
       "      <td>2003</td>\n",
       "    </tr>\n",
       "    <tr>\n",
       "      <th>budget</th>\n",
       "      <td>18000000</td>\n",
       "      <td>10</td>\n",
       "    </tr>\n",
       "    <tr>\n",
       "      <th>revenue</th>\n",
       "      <td>871279</td>\n",
       "      <td>5</td>\n",
       "    </tr>\n",
       "    <tr>\n",
       "      <th>profit</th>\n",
       "      <td>-17128721</td>\n",
       "      <td>-5</td>\n",
       "    </tr>\n",
       "    <tr>\n",
       "      <th>breakeven</th>\n",
       "      <td>no</td>\n",
       "      <td>no</td>\n",
       "    </tr>\n",
       "    <tr>\n",
       "      <th>runtime</th>\n",
       "      <td>338</td>\n",
       "      <td>15</td>\n",
       "    </tr>\n",
       "    <tr>\n",
       "      <th>vote_count</th>\n",
       "      <td>35</td>\n",
       "      <td>16</td>\n",
       "    </tr>\n",
       "    <tr>\n",
       "      <th>vote_average</th>\n",
       "      <td>6.2</td>\n",
       "      <td>6.8</td>\n",
       "    </tr>\n",
       "    <tr>\n",
       "      <th>total_vote_point</th>\n",
       "      <td>217</td>\n",
       "      <td>108.8</td>\n",
       "    </tr>\n",
       "    <tr>\n",
       "      <th>popularity</th>\n",
       "      <td>0.534192</td>\n",
       "      <td>0.208637</td>\n",
       "    </tr>\n",
       "  </tbody>\n",
       "</table>\n",
       "</div>"
      ],
      "text/plain": [
       "                                                             Carlos  \\\n",
       "genres                                 Crime|Drama|Thriller|History   \n",
       "director                                            Olivier Assayas   \n",
       "cast              Edgar RamÃ­rez|Alexander Scheer|Fadi Abi Samra...   \n",
       "release_year                                                   2010   \n",
       "budget                                                     18000000   \n",
       "revenue                                                      871279   \n",
       "profit                                                    -17128721   \n",
       "breakeven                                                        no   \n",
       "runtime                                                         338   \n",
       "vote_count                                                       35   \n",
       "vote_average                                                    6.2   \n",
       "total_vote_point                                                217   \n",
       "popularity                                                 0.534192   \n",
       "\n",
       "                                                        Kid's Story  \n",
       "genres                                    Science Fiction|Animation  \n",
       "director                                        Shinichiro Watanabe  \n",
       "cast              Clayton Watson|Keanu Reeves|Carrie-Anne Moss|K...  \n",
       "release_year                                                   2003  \n",
       "budget                                                           10  \n",
       "revenue                                                           5  \n",
       "profit                                                           -5  \n",
       "breakeven                                                        no  \n",
       "runtime                                                          15  \n",
       "vote_count                                                       16  \n",
       "vote_average                                                    6.8  \n",
       "total_vote_point                                              108.8  \n",
       "popularity                                                 0.208637  "
      ]
     },
     "execution_count": 34,
     "metadata": {},
     "output_type": "execute_result"
    }
   ],
   "source": [
    "# Maximum and minimum runtime\n",
    "mum_table('runtime')"
   ]
  },
  {
   "cell_type": "code",
   "execution_count": 35,
   "metadata": {},
   "outputs": [
    {
     "data": {
      "text/html": [
       "<div>\n",
       "<style scoped>\n",
       "    .dataframe tbody tr th:only-of-type {\n",
       "        vertical-align: middle;\n",
       "    }\n",
       "\n",
       "    .dataframe tbody tr th {\n",
       "        vertical-align: top;\n",
       "    }\n",
       "\n",
       "    .dataframe thead th {\n",
       "        text-align: right;\n",
       "    }\n",
       "</style>\n",
       "<table border=\"1\" class=\"dataframe\">\n",
       "  <thead>\n",
       "    <tr style=\"text-align: right;\">\n",
       "      <th></th>\n",
       "      <th>The Shawshank Redemption</th>\n",
       "      <th>Foodfight!</th>\n",
       "    </tr>\n",
       "  </thead>\n",
       "  <tbody>\n",
       "    <tr>\n",
       "      <th>genres</th>\n",
       "      <td>Drama|Crime</td>\n",
       "      <td>Animation|Action|Comedy|Family</td>\n",
       "    </tr>\n",
       "    <tr>\n",
       "      <th>director</th>\n",
       "      <td>Frank Darabont</td>\n",
       "      <td>Lawrence Kasanoff</td>\n",
       "    </tr>\n",
       "    <tr>\n",
       "      <th>cast</th>\n",
       "      <td>Tim Robbins|Morgan Freeman|Bob Gunton|William ...</td>\n",
       "      <td>Charlie Sheen|Wayne Brady|Hilary Duff|Eva Long...</td>\n",
       "    </tr>\n",
       "    <tr>\n",
       "      <th>release_year</th>\n",
       "      <td>1994</td>\n",
       "      <td>2012</td>\n",
       "    </tr>\n",
       "    <tr>\n",
       "      <th>budget</th>\n",
       "      <td>25000000</td>\n",
       "      <td>65000000</td>\n",
       "    </tr>\n",
       "    <tr>\n",
       "      <th>revenue</th>\n",
       "      <td>28341469</td>\n",
       "      <td>73706</td>\n",
       "    </tr>\n",
       "    <tr>\n",
       "      <th>profit</th>\n",
       "      <td>3341469</td>\n",
       "      <td>-64926294</td>\n",
       "    </tr>\n",
       "    <tr>\n",
       "      <th>breakeven</th>\n",
       "      <td>no</td>\n",
       "      <td>no</td>\n",
       "    </tr>\n",
       "    <tr>\n",
       "      <th>runtime</th>\n",
       "      <td>142</td>\n",
       "      <td>87</td>\n",
       "    </tr>\n",
       "    <tr>\n",
       "      <th>vote_count</th>\n",
       "      <td>5754</td>\n",
       "      <td>12</td>\n",
       "    </tr>\n",
       "    <tr>\n",
       "      <th>vote_average</th>\n",
       "      <td>8.4</td>\n",
       "      <td>2.2</td>\n",
       "    </tr>\n",
       "    <tr>\n",
       "      <th>total_vote_point</th>\n",
       "      <td>48333.6</td>\n",
       "      <td>26.4</td>\n",
       "    </tr>\n",
       "    <tr>\n",
       "      <th>popularity</th>\n",
       "      <td>7.19204</td>\n",
       "      <td>0.111351</td>\n",
       "    </tr>\n",
       "  </tbody>\n",
       "</table>\n",
       "</div>"
      ],
      "text/plain": [
       "                                           The Shawshank Redemption  \\\n",
       "genres                                                  Drama|Crime   \n",
       "director                                             Frank Darabont   \n",
       "cast              Tim Robbins|Morgan Freeman|Bob Gunton|William ...   \n",
       "release_year                                                   1994   \n",
       "budget                                                     25000000   \n",
       "revenue                                                    28341469   \n",
       "profit                                                      3341469   \n",
       "breakeven                                                        no   \n",
       "runtime                                                         142   \n",
       "vote_count                                                     5754   \n",
       "vote_average                                                    8.4   \n",
       "total_vote_point                                            48333.6   \n",
       "popularity                                                  7.19204   \n",
       "\n",
       "                                                         Foodfight!  \n",
       "genres                               Animation|Action|Comedy|Family  \n",
       "director                                          Lawrence Kasanoff  \n",
       "cast              Charlie Sheen|Wayne Brady|Hilary Duff|Eva Long...  \n",
       "release_year                                                   2012  \n",
       "budget                                                     65000000  \n",
       "revenue                                                       73706  \n",
       "profit                                                    -64926294  \n",
       "breakeven                                                        no  \n",
       "runtime                                                          87  \n",
       "vote_count                                                       12  \n",
       "vote_average                                                    2.2  \n",
       "total_vote_point                                               26.4  \n",
       "popularity                                                 0.111351  "
      ]
     },
     "execution_count": 35,
     "metadata": {},
     "output_type": "execute_result"
    }
   ],
   "source": [
    "# Maximum and minimum vote_average\n",
    "mum_table('vote_average')"
   ]
  },
  {
   "cell_type": "markdown",
   "metadata": {},
   "source": [
    "> To start with, I want to visualize a bi-variate distribution of `vote_average` as my dependent variable <br>\n",
    "and `runtime` as my independent variable. <br>\n",
    "I also want to distinguish movies which were able to make breakeven from movies that couldn't."
   ]
  },
  {
   "cell_type": "code",
   "execution_count": 36,
   "metadata": {},
   "outputs": [
    {
     "data": {
      "text/html": [
       "<div>\n",
       "<style scoped>\n",
       "    .dataframe tbody tr th:only-of-type {\n",
       "        vertical-align: middle;\n",
       "    }\n",
       "\n",
       "    .dataframe tbody tr th {\n",
       "        vertical-align: top;\n",
       "    }\n",
       "\n",
       "    .dataframe thead th {\n",
       "        text-align: right;\n",
       "    }\n",
       "</style>\n",
       "<table border=\"1\" class=\"dataframe\">\n",
       "  <thead>\n",
       "    <tr style=\"text-align: right;\">\n",
       "      <th></th>\n",
       "      <th>runtime</th>\n",
       "      <th>vote_count</th>\n",
       "      <th>vote_average</th>\n",
       "      <th>total_vote_point</th>\n",
       "    </tr>\n",
       "  </thead>\n",
       "  <tbody>\n",
       "    <tr>\n",
       "      <th>count</th>\n",
       "      <td>3849.000000</td>\n",
       "      <td>3849.000000</td>\n",
       "      <td>3849.000000</td>\n",
       "      <td>3849.000000</td>\n",
       "    </tr>\n",
       "    <tr>\n",
       "      <th>mean</th>\n",
       "      <td>109.217459</td>\n",
       "      <td>528.387114</td>\n",
       "      <td>6.168693</td>\n",
       "      <td>3530.315666</td>\n",
       "    </tr>\n",
       "    <tr>\n",
       "      <th>std</th>\n",
       "      <td>19.914141</td>\n",
       "      <td>880.333629</td>\n",
       "      <td>0.794697</td>\n",
       "      <td>6369.285145</td>\n",
       "    </tr>\n",
       "    <tr>\n",
       "      <th>min</th>\n",
       "      <td>15.000000</td>\n",
       "      <td>10.000000</td>\n",
       "      <td>2.200000</td>\n",
       "      <td>26.400000</td>\n",
       "    </tr>\n",
       "    <tr>\n",
       "      <th>25%</th>\n",
       "      <td>95.000000</td>\n",
       "      <td>71.000000</td>\n",
       "      <td>5.700000</td>\n",
       "      <td>409.500000</td>\n",
       "    </tr>\n",
       "    <tr>\n",
       "      <th>50%</th>\n",
       "      <td>106.000000</td>\n",
       "      <td>205.000000</td>\n",
       "      <td>6.200000</td>\n",
       "      <td>1248.000000</td>\n",
       "    </tr>\n",
       "    <tr>\n",
       "      <th>75%</th>\n",
       "      <td>119.000000</td>\n",
       "      <td>581.000000</td>\n",
       "      <td>6.700000</td>\n",
       "      <td>3660.300000</td>\n",
       "    </tr>\n",
       "    <tr>\n",
       "      <th>max</th>\n",
       "      <td>338.000000</td>\n",
       "      <td>9767.000000</td>\n",
       "      <td>8.400000</td>\n",
       "      <td>77159.300000</td>\n",
       "    </tr>\n",
       "  </tbody>\n",
       "</table>\n",
       "</div>"
      ],
      "text/plain": [
       "           runtime   vote_count  vote_average  total_vote_point\n",
       "count  3849.000000  3849.000000   3849.000000       3849.000000\n",
       "mean    109.217459   528.387114      6.168693       3530.315666\n",
       "std      19.914141   880.333629      0.794697       6369.285145\n",
       "min      15.000000    10.000000      2.200000         26.400000\n",
       "25%      95.000000    71.000000      5.700000        409.500000\n",
       "50%     106.000000   205.000000      6.200000       1248.000000\n",
       "75%     119.000000   581.000000      6.700000       3660.300000\n",
       "max     338.000000  9767.000000      8.400000      77159.300000"
      ]
     },
     "execution_count": 36,
     "metadata": {},
     "output_type": "execute_result"
    }
   ],
   "source": [
    "# create a subset for question 3 \n",
    "df_q3 = df[['runtime', 'vote_count', 'vote_average',\n",
    "            'total_vote_point', 'breakeven']]\n",
    "df_q3.describe()"
   ]
  },
  {
   "cell_type": "code",
   "execution_count": 37,
   "metadata": {},
   "outputs": [
    {
     "data": {
      "image/png": "[encoded data removed]",
      "text/plain": [
       "<Figure size 720x360 with 1 Axes>"
      ]
     },
     "metadata": {
      "needs_background": "light"
     },
     "output_type": "display_data"
    }
   ],
   "source": [
    "# set x, y axis data\n",
    "# x for runtime, y for vote_average;\n",
    "x, y = df_q3['runtime'], df_q3['vote_average']\n",
    "\n",
    "# set figure size\n",
    "plt.figure(figsize=(10, 5))\n",
    "\n",
    "# scattered plot for vote ratings vs runtime with hue='break_even'\n",
    "sns.scatterplot(x='runtime', y='vote_average', data=df_q3,\n",
    "                hue='breakeven', style='breakeven')\n",
    "\n",
    "# set title, labels, and ticks\n",
    "title, xlabel, ylabel = ['Average Vote Rating vs Runtime',\n",
    "                         'Runtime', 'Average Vote Rating']\n",
    "\n",
    "fig_labels(title, xlabel, ylabel)\n",
    "\n",
    "# set figure window to zoom in the dense area\n",
    "plt.xlim(50, 225)\n",
    "plt.ylim(3, 8.75)\n",
    "plt.legend(loc='lower right', prop={'size': 13});"
   ]
  },
  {
   "cell_type": "markdown",
   "metadata": {},
   "source": [
    "> While this plot gives us a general idea of our data distribution,  \n",
    "- We can see that the majority of movies have runtimes between 80 to 140 mins.\n",
    "- Movies with higher ratings tend to have higher chance to breakeven.\n",
    "\n",
    ">However, this graph is quite complicated with too much information on it. <br>\n",
    "To make it easier for us to understand, let's reduce one variable by dropping `breakeven` variable <br>\n",
    "and focus on the relationship between `vote_average` and `runtime`. <br>\n",
    "That's what I was curious about anyways."
   ]
  },
  {
   "cell_type": "code",
   "execution_count": 38,
   "metadata": {},
   "outputs": [
    {
     "data": {
      "image/png": "[encoded data removed]",
      "text/plain": [
       "<Figure size 432x432 with 3 Axes>"
      ]
     },
     "metadata": {
      "needs_background": "light"
     },
     "output_type": "display_data"
    }
   ],
   "source": [
    "# hexbin plot for vote ratings vs runtime with marginal histograms\n",
    "h = sns.jointplot(x='runtime', y='vote_average', data=df_q3, kind='hex')\n",
    "\n",
    "# set title, labels, and ticks\n",
    "title, xlabel, ylabel = ['Average Vote Rating vs Runtime',\n",
    "                         'Runtime', 'Average Vote Ratings']\n",
    "\n",
    "# set axis labels\n",
    "h.set_axis_labels(xlabel, ylabel, fontsize=13, fontweight='bold')\n",
    "\n",
    "# center title, then adjust to the top of the figure\n",
    "plt.subplots_adjust(top=0.925)\n",
    "plt.suptitle(title, fontsize=15, fontweight='bold');\n"
   ]
  },
  {
   "cell_type": "markdown",
   "metadata": {},
   "source": [
    "> Now, it is much easier to understand. \n",
    "- `vote_average` histogram seems close to normal distribution while `runtime` histogram looks right-skewed,<br>\n",
    "but further analysis is required to conclude anything.\n",
    "- longer movies tends to receive higher average ratings;however, the evidence is very weak. <br>\n",
    "\n",
    "> To continue, let's make this problem even simpler by computing `vote_average` for each quintile of `runtime`. <br>\n",
    "In this question, one should understand that, ***in general***, the overall average of pre-averaged values is not ***equal***<br> \n",
    "to the average of the original set of numbers. <br>\n",
    "This phenomenon is called `Simpson's paradox` and you can check out more about it [here](https://en.wikipedia.org/wiki/Simpson's_paradox)\n",
    "\n",
    "> We will start by comparing two different average values that we just talked about<br>\n",
    "and how Simpson's paradox can result in different numerical values from actual averages."
   ]
  },
  {
   "cell_type": "code",
   "execution_count": 39,
   "metadata": {},
   "outputs": [],
   "source": [
    "# create quintile(5) buckets and assign a new column `runtime_level`\n",
    "quintiles = pd.qcut(df_q3['runtime'], 5, ['Very short', 'Short',\n",
    "                                          'Medium', 'Long', 'Very long'])\n",
    "df_q3 = df_q3.assign(quintiles=quintiles.values)"
   ]
  },
  {
   "cell_type": "code",
   "execution_count": 40,
   "metadata": {},
   "outputs": [
    {
     "data": {
      "text/html": [
       "<div>\n",
       "<style scoped>\n",
       "    .dataframe tbody tr th:only-of-type {\n",
       "        vertical-align: middle;\n",
       "    }\n",
       "\n",
       "    .dataframe tbody tr th {\n",
       "        vertical-align: top;\n",
       "    }\n",
       "\n",
       "    .dataframe thead th {\n",
       "        text-align: right;\n",
       "    }\n",
       "</style>\n",
       "<table border=\"1\" class=\"dataframe\">\n",
       "  <thead>\n",
       "    <tr style=\"text-align: right;\">\n",
       "      <th></th>\n",
       "      <th>vote_average</th>\n",
       "    </tr>\n",
       "    <tr>\n",
       "      <th>quintiles</th>\n",
       "      <th></th>\n",
       "    </tr>\n",
       "  </thead>\n",
       "  <tbody>\n",
       "    <tr>\n",
       "      <th>Very short</th>\n",
       "      <td>5.844444</td>\n",
       "    </tr>\n",
       "    <tr>\n",
       "      <th>Short</th>\n",
       "      <td>5.942910</td>\n",
       "    </tr>\n",
       "    <tr>\n",
       "      <th>Medium</th>\n",
       "      <td>6.096728</td>\n",
       "    </tr>\n",
       "    <tr>\n",
       "      <th>Long</th>\n",
       "      <td>6.339370</td>\n",
       "    </tr>\n",
       "    <tr>\n",
       "      <th>Very long</th>\n",
       "      <td>6.648456</td>\n",
       "    </tr>\n",
       "  </tbody>\n",
       "</table>\n",
       "</div>"
      ],
      "text/plain": [
       "            vote_average\n",
       "quintiles               \n",
       "Very short      5.844444\n",
       "Short           5.942910\n",
       "Medium          6.096728\n",
       "Long            6.339370\n",
       "Very long       6.648456"
      ]
     },
     "execution_count": 40,
     "metadata": {},
     "output_type": "execute_result"
    }
   ],
   "source": [
    "# quickly find the mean() of vote_average, taking average of average\n",
    "df_q3_mean = df_q3.groupby('quintiles').mean()['vote_average'].to_frame()\n",
    "df_q3_mean"
   ]
  },
  {
   "cell_type": "code",
   "execution_count": 41,
   "metadata": {},
   "outputs": [
    {
     "data": {
      "text/html": [
       "<div>\n",
       "<style scoped>\n",
       "    .dataframe tbody tr th:only-of-type {\n",
       "        vertical-align: middle;\n",
       "    }\n",
       "\n",
       "    .dataframe tbody tr th {\n",
       "        vertical-align: top;\n",
       "    }\n",
       "\n",
       "    .dataframe thead th {\n",
       "        text-align: right;\n",
       "    }\n",
       "</style>\n",
       "<table border=\"1\" class=\"dataframe\">\n",
       "  <thead>\n",
       "    <tr style=\"text-align: right;\">\n",
       "      <th></th>\n",
       "      <th>vote_count</th>\n",
       "      <th>total_vote_point</th>\n",
       "      <th>vote_average_new</th>\n",
       "    </tr>\n",
       "    <tr>\n",
       "      <th>quintiles</th>\n",
       "      <th></th>\n",
       "      <th></th>\n",
       "      <th></th>\n",
       "    </tr>\n",
       "  </thead>\n",
       "  <tbody>\n",
       "    <tr>\n",
       "      <th>Very short</th>\n",
       "      <td>247591</td>\n",
       "      <td>1550542.5</td>\n",
       "      <td>6.262516</td>\n",
       "    </tr>\n",
       "    <tr>\n",
       "      <th>Short</th>\n",
       "      <td>284973</td>\n",
       "      <td>1820333.2</td>\n",
       "      <td>6.387739</td>\n",
       "    </tr>\n",
       "    <tr>\n",
       "      <th>Medium</th>\n",
       "      <td>334176</td>\n",
       "      <td>2155691.4</td>\n",
       "      <td>6.450767</td>\n",
       "    </tr>\n",
       "    <tr>\n",
       "      <th>Long</th>\n",
       "      <td>424350</td>\n",
       "      <td>2836103.6</td>\n",
       "      <td>6.683407</td>\n",
       "    </tr>\n",
       "    <tr>\n",
       "      <th>Very long</th>\n",
       "      <td>742672</td>\n",
       "      <td>5225514.3</td>\n",
       "      <td>7.036100</td>\n",
       "    </tr>\n",
       "  </tbody>\n",
       "</table>\n",
       "</div>"
      ],
      "text/plain": [
       "            vote_count  total_vote_point  vote_average_new\n",
       "quintiles                                                 \n",
       "Very short      247591         1550542.5          6.262516\n",
       "Short           284973         1820333.2          6.387739\n",
       "Medium          334176         2155691.4          6.450767\n",
       "Long            424350         2836103.6          6.683407\n",
       "Very long       742672         5225514.3          7.036100"
      ]
     },
     "execution_count": 41,
     "metadata": {},
     "output_type": "execute_result"
    }
   ],
   "source": [
    "# compute the average from the scratch\n",
    "df_q3_correct = df_q3.groupby('quintiles').sum()[['vote_count', 'total_vote_point']]\n",
    "df_q3_correct['vote_average_new'] = df_q3_correct['total_vote_point']/df_q3_correct['vote_count']\n",
    "df_q3_correct"
   ]
  },
  {
   "cell_type": "code",
   "execution_count": 42,
   "metadata": {},
   "outputs": [
    {
     "data": {
      "text/plain": [
       "quintiles\n",
       "Very short    False\n",
       "Short         False\n",
       "Medium        False\n",
       "Long          False\n",
       "Very long     False\n",
       "dtype: bool"
      ]
     },
     "execution_count": 42,
     "metadata": {},
     "output_type": "execute_result"
    }
   ],
   "source": [
    "# compare\n",
    "df_q3_mean['vote_average'] == df_q3_correct['vote_average_new']"
   ]
  },
  {
   "cell_type": "markdown",
   "metadata": {},
   "source": [
    "> As you can see, we have 2 sets of average values.<br>\n",
    "Let's continue with the correct values."
   ]
  },
  {
   "cell_type": "code",
   "execution_count": 43,
   "metadata": {},
   "outputs": [
    {
     "data": {
      "image/png": "[encoded data removed]",
      "text/plain": [
       "<Figure size 720x360 with 1 Axes>"
      ]
     },
     "metadata": {
      "needs_background": "light"
     },
     "output_type": "display_data"
    }
   ],
   "source": [
    "# define figure size\n",
    "plt.figure(figsize=(10, 5))\n",
    "\n",
    "# placeholder for each bar\n",
    "location = [i for i in range(len(df_q3_correct.index))]\n",
    "label = df_q3_correct.index.tolist()\n",
    "# values for each bar\n",
    "height = df_q3_correct['vote_average_new'].tolist()\n",
    "\n",
    "# bar chart using seaborn/ applying palette to distinguish high to low quantity\n",
    "sns.barplot(location, height, palette=reversed(sns.color_palette('Blues_d')))\n",
    "\n",
    "# adjusting title and labels\n",
    "title, xlabel, ylabel = ['Average Vote Ratings by Runtime Levels',\n",
    "                         'Runtime Levels', 'Average Vote Ratings']\n",
    "\n",
    "fig_labels(title, xlabel, ylabel, location, label)\n",
    "\n",
    "# placing each value inside the bar\n",
    "for i, v in enumerate(height):\n",
    "    plt.text(i, v-.5, str(round(height[i], 2)), color='white',\n",
    "             fontweight='bold', ha='center', fontsize=12,\n",
    "             bbox=dict(facecolor='black', alpha=0.5));"
   ]
  },
  {
   "cell_type": "markdown",
   "metadata": {},
   "source": [
    "> - Longer movies, indeed, received higher vote ratings on average, only by a fraction though.\n",
    "- The difference between maximum and minimum average vote ratings is within 1 point.\n",
    "- One should keep in mind that \"*correlation does not imply causation.*\" \n",
    "\n",
    "<a name='question4'></a>\n",
    "#### Q4. Which genres are most popular ?"
   ]
  },
  {
   "cell_type": "code",
   "execution_count": 44,
   "metadata": {
    "colab": {},
    "colab_type": "code",
    "id": "COHnvZUmjfWt"
   },
   "outputs": [
    {
     "data": {
      "text/html": [
       "<div>\n",
       "<style scoped>\n",
       "    .dataframe tbody tr th:only-of-type {\n",
       "        vertical-align: middle;\n",
       "    }\n",
       "\n",
       "    .dataframe tbody tr th {\n",
       "        vertical-align: top;\n",
       "    }\n",
       "\n",
       "    .dataframe thead th {\n",
       "        text-align: right;\n",
       "    }\n",
       "</style>\n",
       "<table border=\"1\" class=\"dataframe\">\n",
       "  <thead>\n",
       "    <tr style=\"text-align: right;\">\n",
       "      <th></th>\n",
       "      <th>count</th>\n",
       "    </tr>\n",
       "  </thead>\n",
       "  <tbody>\n",
       "    <tr>\n",
       "      <th>Drama</th>\n",
       "      <td>1753</td>\n",
       "    </tr>\n",
       "    <tr>\n",
       "      <th>Comedy</th>\n",
       "      <td>1357</td>\n",
       "    </tr>\n",
       "    <tr>\n",
       "      <th>Thriller</th>\n",
       "      <td>1203</td>\n",
       "    </tr>\n",
       "    <tr>\n",
       "      <th>Action</th>\n",
       "      <td>1085</td>\n",
       "    </tr>\n",
       "    <tr>\n",
       "      <th>Adventure</th>\n",
       "      <td>749</td>\n",
       "    </tr>\n",
       "    <tr>\n",
       "      <th>Romance</th>\n",
       "      <td>666</td>\n",
       "    </tr>\n",
       "    <tr>\n",
       "      <th>Crime</th>\n",
       "      <td>651</td>\n",
       "    </tr>\n",
       "    <tr>\n",
       "      <th>Science Fiction</th>\n",
       "      <td>519</td>\n",
       "    </tr>\n",
       "    <tr>\n",
       "      <th>Horror</th>\n",
       "      <td>463</td>\n",
       "    </tr>\n",
       "    <tr>\n",
       "      <th>Family</th>\n",
       "      <td>425</td>\n",
       "    </tr>\n",
       "    <tr>\n",
       "      <th>Fantasy</th>\n",
       "      <td>396</td>\n",
       "    </tr>\n",
       "    <tr>\n",
       "      <th>Mystery</th>\n",
       "      <td>344</td>\n",
       "    </tr>\n",
       "    <tr>\n",
       "      <th>Animation</th>\n",
       "      <td>201</td>\n",
       "    </tr>\n",
       "    <tr>\n",
       "      <th>Music</th>\n",
       "      <td>134</td>\n",
       "    </tr>\n",
       "    <tr>\n",
       "      <th>History</th>\n",
       "      <td>129</td>\n",
       "    </tr>\n",
       "    <tr>\n",
       "      <th>War</th>\n",
       "      <td>119</td>\n",
       "    </tr>\n",
       "    <tr>\n",
       "      <th>Western</th>\n",
       "      <td>52</td>\n",
       "    </tr>\n",
       "    <tr>\n",
       "      <th>Documentary</th>\n",
       "      <td>31</td>\n",
       "    </tr>\n",
       "    <tr>\n",
       "      <th>Foreign</th>\n",
       "      <td>12</td>\n",
       "    </tr>\n",
       "    <tr>\n",
       "      <th>TV Movie</th>\n",
       "      <td>1</td>\n",
       "    </tr>\n",
       "  </tbody>\n",
       "</table>\n",
       "</div>"
      ],
      "text/plain": [
       "                 count\n",
       "Drama             1753\n",
       "Comedy            1357\n",
       "Thriller          1203\n",
       "Action            1085\n",
       "Adventure          749\n",
       "Romance            666\n",
       "Crime              651\n",
       "Science Fiction    519\n",
       "Horror             463\n",
       "Family             425\n",
       "Fantasy            396\n",
       "Mystery            344\n",
       "Animation          201\n",
       "Music              134\n",
       "History            129\n",
       "War                119\n",
       "Western             52\n",
       "Documentary         31\n",
       "Foreign             12\n",
       "TV Movie             1"
      ]
     },
     "execution_count": 44,
     "metadata": {},
     "output_type": "execute_result"
    }
   ],
   "source": [
    "# use word_count() and save it as a dataframe\n",
    "df_q4 = word_count('genres').to_frame('count')\n",
    "df_q4"
   ]
  },
  {
   "cell_type": "code",
   "execution_count": 45,
   "metadata": {},
   "outputs": [
    {
     "data": {
      "text/plain": [
       "count    10290\n",
       "dtype: int64"
      ]
     },
     "execution_count": 45,
     "metadata": {},
     "output_type": "execute_result"
    }
   ],
   "source": [
    "# find total counts\n",
    "df_q4.sum()"
   ]
  },
  {
   "cell_type": "code",
   "execution_count": 46,
   "metadata": {},
   "outputs": [
    {
     "data": {
      "image/png": "[encoded data removed]",
      "text/plain": [
       "<Figure size 720x360 with 1 Axes>"
      ]
     },
     "metadata": {
      "needs_background": "light"
     },
     "output_type": "display_data"
    }
   ],
   "source": [
    "# define figure size\n",
    "plt.figure(figsize=(10, 5))\n",
    "\n",
    "# horizontal bar chart using seaborn\n",
    "sns.barplot(x='count', y=df_q4.index, data=df_q4)\n",
    "\n",
    "# adjusting title, labels, and ticks\n",
    "title, xlabel, ylabel = ['Gerens by Count', 'Count', 'Genres']\n",
    "\n",
    "fig_labels(title, xlabel, ylabel);"
   ]
  },
  {
   "cell_type": "markdown",
   "metadata": {},
   "source": [
    "> - There are total 10,290 counts consists of 20 unique genres in our dataframe.\n",
    "- Most popular genre is drama with 1,753 counts and the least popular genre is TV Movie with only 1.\n",
    "\n",
    "<a name='question5'></a>\n",
    "#### Q5. Most active director and his top 3 favorite actors/actresses ?"
   ]
  },
  {
   "cell_type": "code",
   "execution_count": 47,
   "metadata": {},
   "outputs": [
    {
     "data": {
      "text/plain": [
       "('Steven Spielberg', 28, 1781)"
      ]
     },
     "execution_count": 47,
     "metadata": {},
     "output_type": "execute_result"
    }
   ],
   "source": [
    "# Find the most active director\n",
    "temp = word_count('director')\n",
    "temp.index[0], temp[0], temp.shape[0]"
   ]
  },
  {
   "cell_type": "markdown",
   "metadata": {},
   "source": [
    "> Out of 1781 directors, Steven Spielberg was the most active director of all with 28 appearances."
   ]
  },
  {
   "cell_type": "code",
   "execution_count": 48,
   "metadata": {
    "colab": {},
    "colab_type": "code",
    "id": "axTOt-H_jfWx"
   },
   "outputs": [
    {
     "data": {
      "text/html": [
       "<div>\n",
       "<style scoped>\n",
       "    .dataframe tbody tr th:only-of-type {\n",
       "        vertical-align: middle;\n",
       "    }\n",
       "\n",
       "    .dataframe tbody tr th {\n",
       "        vertical-align: top;\n",
       "    }\n",
       "\n",
       "    .dataframe thead th {\n",
       "        text-align: right;\n",
       "    }\n",
       "</style>\n",
       "<table border=\"1\" class=\"dataframe\">\n",
       "  <thead>\n",
       "    <tr style=\"text-align: right;\">\n",
       "      <th></th>\n",
       "      <th>original_title</th>\n",
       "      <th>genres</th>\n",
       "      <th>director</th>\n",
       "      <th>cast</th>\n",
       "      <th>release_year</th>\n",
       "      <th>budget</th>\n",
       "      <th>revenue</th>\n",
       "      <th>profit</th>\n",
       "      <th>breakeven</th>\n",
       "      <th>runtime</th>\n",
       "      <th>vote_count</th>\n",
       "      <th>vote_average</th>\n",
       "      <th>total_vote_point</th>\n",
       "      <th>popularity</th>\n",
       "    </tr>\n",
       "  </thead>\n",
       "  <tbody>\n",
       "    <tr>\n",
       "      <th>32</th>\n",
       "      <td>Bridge of Spies</td>\n",
       "      <td>Thriller|Drama</td>\n",
       "      <td>Steven Spielberg</td>\n",
       "      <td>Tom Hanks|Mark Rylance|Amy Ryan|Alan Alda|Seba...</td>\n",
       "      <td>2015</td>\n",
       "      <td>40000000</td>\n",
       "      <td>162610473</td>\n",
       "      <td>122610473</td>\n",
       "      <td>yes</td>\n",
       "      <td>141</td>\n",
       "      <td>1638</td>\n",
       "      <td>7.1</td>\n",
       "      <td>11629.8</td>\n",
       "      <td>3.648210</td>\n",
       "    </tr>\n",
       "    <tr>\n",
       "      <th>329</th>\n",
       "      <td>Close Encounters of the Third Kind</td>\n",
       "      <td>Science Fiction|Drama</td>\n",
       "      <td>Steven Spielberg</td>\n",
       "      <td>Richard Dreyfuss|FranÃ§ois Truffaut|Teri Garr|...</td>\n",
       "      <td>1977</td>\n",
       "      <td>20000000</td>\n",
       "      <td>303788635</td>\n",
       "      <td>283788635</td>\n",
       "      <td>yes</td>\n",
       "      <td>135</td>\n",
       "      <td>600</td>\n",
       "      <td>7.0</td>\n",
       "      <td>4200.0</td>\n",
       "      <td>1.104816</td>\n",
       "    </tr>\n",
       "    <tr>\n",
       "      <th>817</th>\n",
       "      <td>A.I. Artificial Intelligence</td>\n",
       "      <td>Drama|Science Fiction|Adventure</td>\n",
       "      <td>Steven Spielberg</td>\n",
       "      <td>Haley Joel Osment|Frances O'Connor|Sam Robards...</td>\n",
       "      <td>2001</td>\n",
       "      <td>100000000</td>\n",
       "      <td>235926552</td>\n",
       "      <td>135926552</td>\n",
       "      <td>yes</td>\n",
       "      <td>146</td>\n",
       "      <td>1133</td>\n",
       "      <td>6.6</td>\n",
       "      <td>7477.8</td>\n",
       "      <td>2.971372</td>\n",
       "    </tr>\n",
       "    <tr>\n",
       "      <th>937</th>\n",
       "      <td>Indiana Jones and the Kingdom of the Crystal S...</td>\n",
       "      <td>Adventure|Action</td>\n",
       "      <td>Steven Spielberg</td>\n",
       "      <td>Harrison Ford|Cate Blanchett|Shia LaBeouf|Ray ...</td>\n",
       "      <td>2008</td>\n",
       "      <td>185000000</td>\n",
       "      <td>786636033</td>\n",
       "      <td>601636033</td>\n",
       "      <td>yes</td>\n",
       "      <td>122</td>\n",
       "      <td>1537</td>\n",
       "      <td>5.6</td>\n",
       "      <td>8607.2</td>\n",
       "      <td>3.161670</td>\n",
       "    </tr>\n",
       "    <tr>\n",
       "      <th>1124</th>\n",
       "      <td>The Adventures of Tintin</td>\n",
       "      <td>Adventure|Animation|Action|Family|Mystery</td>\n",
       "      <td>Steven Spielberg</td>\n",
       "      <td>Jamie Bell|Andy Serkis|Daniel Craig|Nick Frost...</td>\n",
       "      <td>2011</td>\n",
       "      <td>130000000</td>\n",
       "      <td>371940071</td>\n",
       "      <td>241940071</td>\n",
       "      <td>yes</td>\n",
       "      <td>107</td>\n",
       "      <td>1448</td>\n",
       "      <td>6.6</td>\n",
       "      <td>9556.8</td>\n",
       "      <td>2.234300</td>\n",
       "    </tr>\n",
       "  </tbody>\n",
       "</table>\n",
       "</div>"
      ],
      "text/plain": [
       "                                         original_title  \\\n",
       "32                                      Bridge of Spies   \n",
       "329                  Close Encounters of the Third Kind   \n",
       "817                        A.I. Artificial Intelligence   \n",
       "937   Indiana Jones and the Kingdom of the Crystal S...   \n",
       "1124                           The Adventures of Tintin   \n",
       "\n",
       "                                         genres          director  \\\n",
       "32                               Thriller|Drama  Steven Spielberg   \n",
       "329                       Science Fiction|Drama  Steven Spielberg   \n",
       "817             Drama|Science Fiction|Adventure  Steven Spielberg   \n",
       "937                            Adventure|Action  Steven Spielberg   \n",
       "1124  Adventure|Animation|Action|Family|Mystery  Steven Spielberg   \n",
       "\n",
       "                                                   cast  release_year  \\\n",
       "32    Tom Hanks|Mark Rylance|Amy Ryan|Alan Alda|Seba...          2015   \n",
       "329   Richard Dreyfuss|FranÃ§ois Truffaut|Teri Garr|...          1977   \n",
       "817   Haley Joel Osment|Frances O'Connor|Sam Robards...          2001   \n",
       "937   Harrison Ford|Cate Blanchett|Shia LaBeouf|Ray ...          2008   \n",
       "1124  Jamie Bell|Andy Serkis|Daniel Craig|Nick Frost...          2011   \n",
       "\n",
       "         budget    revenue     profit breakeven  runtime  vote_count  \\\n",
       "32     40000000  162610473  122610473       yes      141        1638   \n",
       "329    20000000  303788635  283788635       yes      135         600   \n",
       "817   100000000  235926552  135926552       yes      146        1133   \n",
       "937   185000000  786636033  601636033       yes      122        1537   \n",
       "1124  130000000  371940071  241940071       yes      107        1448   \n",
       "\n",
       "      vote_average  total_vote_point  popularity  \n",
       "32             7.1           11629.8    3.648210  \n",
       "329            7.0            4200.0    1.104816  \n",
       "817            6.6            7477.8    2.971372  \n",
       "937            5.6            8607.2    3.161670  \n",
       "1124           6.6            9556.8    2.234300  "
      ]
     },
     "execution_count": 48,
     "metadata": {},
     "output_type": "execute_result"
    }
   ],
   "source": [
    "# Find movies which Steven Spielberg directed\n",
    "df_q5 = df[df['director'].str.contains('Steven Spielberg')]\n",
    "df_q5.head()"
   ]
  },
  {
   "cell_type": "markdown",
   "metadata": {},
   "source": [
    "> How much were his movies' revenue ? "
   ]
  },
  {
   "cell_type": "code",
   "execution_count": 49,
   "metadata": {},
   "outputs": [
    {
     "data": {
      "text/plain": [
       "9048014691"
      ]
     },
     "execution_count": 49,
     "metadata": {},
     "output_type": "execute_result"
    }
   ],
   "source": [
    "# sum of his movies' revenue\n",
    "spiel_rev = df_q5['revenue'].sum()\n",
    "spiel_rev"
   ]
  },
  {
   "cell_type": "markdown",
   "metadata": {},
   "source": [
    "> Moving on to the `cast` column"
   ]
  },
  {
   "cell_type": "code",
   "execution_count": 50,
   "metadata": {
    "colab": {},
    "colab_type": "code",
    "id": "fJTXJPFejfXU"
   },
   "outputs": [
    {
     "data": {
      "text/plain": [
       "Tom Hanks           4\n",
       "Harrison Ford       4\n",
       "Richard Dreyfuss    3\n",
       "dtype: int64"
      ]
     },
     "execution_count": 50,
     "metadata": {},
     "output_type": "execute_result"
    }
   ],
   "source": [
    "# Spielberg's top 3 favorite \n",
    "df_q5_cast = word_count('cast', df_q5).head(3)\n",
    "df_q5_cast"
   ]
  },
  {
   "cell_type": "code",
   "execution_count": 51,
   "metadata": {},
   "outputs": [
    {
     "data": {
      "text/plain": [
       "(11, 14)"
      ]
     },
     "execution_count": 51,
     "metadata": {},
     "output_type": "execute_result"
    }
   ],
   "source": [
    "# Spielberg's movies with any of thoes 3 actors\n",
    "temp = df_q5[df_q5['cast'].str.contains(\"Harrison Ford|Tom Hanks|Richard Dreyfuss\")]\n",
    "temp.shape"
   ]
  },
  {
   "cell_type": "code",
   "execution_count": 52,
   "metadata": {},
   "outputs": [
    {
     "data": {
      "text/plain": [
       "0"
      ]
     },
     "execution_count": 52,
     "metadata": {},
     "output_type": "execute_result"
    }
   ],
   "source": [
    "# any duplicated rows ?\n",
    "temp.duplicated().sum()"
   ]
  },
  {
   "cell_type": "markdown",
   "metadata": {},
   "source": [
    "> - Steven Spielberg's top 3 favorite actors are `Harrison Ford`, `Tom Hanks`, and `Richard Dreyfuss`.\n",
    "- Out of 28 Steven Spielberg's movies, these 3 actors were casted in 11 movies\n",
    "- Any of these 3 actors were not casted together in the same movie.\n",
    "- Spielberg's movies made total of approximately 9 billions.\n",
    "\n",
    "> Let's see how much these actors contributed in terms of revenue."
   ]
  },
  {
   "cell_type": "code",
   "execution_count": 53,
   "metadata": {},
   "outputs": [
    {
     "name": "stdout",
     "output_type": "stream",
     "text": [
      "'Sum of 3 actors' revenus is 4048294184.\n",
      "'Harrison Ford's revenus is 1983733810.\n",
      "'Tom Hanks' revenus is 1215982949.\n",
      "'Richard Dreyfuss's revenus is 848577425.\n"
     ]
    }
   ],
   "source": [
    "# total revenue from 3 actors and individually\n",
    "fav_rev = temp['revenue'].sum()\n",
    "\n",
    "# lambda function for each individual actor's revnue\n",
    "name_rev = lambda name : temp[temp['cast'].str.contains(name)]['revenue'].sum()\n",
    "\n",
    "harrison_rev = name_rev('Harrison Ford')\n",
    "tom_rev = name_rev('Tom Hanks')\n",
    "richard_rev = name_rev('Richard Dreyfuss')\n",
    "\n",
    "print(\"'Sum of 3 actors' revenus is {}.\\n\\\n",
    "'Harrison Ford's revenus is {}.\\n\\\n",
    "'Tom Hanks' revenus is {}.\\n\\\n",
    "'Richard Dreyfuss's revenus is {}.\".format(fav_rev, harrison_rev, tom_rev, richard_rev))"
   ]
  },
  {
   "cell_type": "code",
   "execution_count": 54,
   "metadata": {},
   "outputs": [
    {
     "data": {
      "text/plain": [
       "['Tom Hanks', 'Harrison Ford', 'Richard Dreyfuss']"
      ]
     },
     "execution_count": 54,
     "metadata": {},
     "output_type": "execute_result"
    }
   ],
   "source": [
    "df_q5_cast.index.tolist()"
   ]
  },
  {
   "cell_type": "code",
   "execution_count": 55,
   "metadata": {},
   "outputs": [
    {
     "data": {
      "image/png": "[encoded data removed]",
      "text/plain": [
       "<Figure size 720x360 with 1 Axes>"
      ]
     },
     "metadata": {},
     "output_type": "display_data"
    }
   ],
   "source": [
    "# Pie chart\n",
    "labels = df_q5_cast.index.tolist()\n",
    "sizes = [harrison_rev, tom_rev, richard_rev]\n",
    "\n",
    "# colors\n",
    "colors = ['#12307a', '#d43270', '#ffa600']\n",
    "\n",
    "# explsion\n",
    "explode = (0.075, 0.075, 0.075)\n",
    "\n",
    "fig1, ax1 = plt.subplots(figsize=(10, 5))\n",
    "patches, texts, autotexts = plt.pie(sizes, colors=colors, labels=labels,\n",
    "                                    autopct='%1.1f%%', startangle=80,\n",
    "                                    pctdistance=0.7, explode=explode)\n",
    "\n",
    "# label fontsize and color using list comprehesion\n",
    "[texts[i].set_fontsize(15) for i in range(len(texts))]\n",
    "[autotexts[i].set_fontsize(15) for i in range(len(autotexts))]\n",
    "autotexts[0].set_color('white')\n",
    "\n",
    "# draw circle\n",
    "center_circle = plt.Circle((0, 0), 0.5, fc='snow')\n",
    "fig = plt.gcf()\n",
    "fig.gca().add_artist(center_circle)\n",
    "\n",
    "# Equal aspect ratio ensures that pie is drawn as a circle\n",
    "ax1.axis('equal')\n",
    "plt.tight_layout()\n",
    "fig1 = plt.title(\"Revenues by Spielberg's Favorite Actors\",\n",
    "                 fontweight='bold', fontsize=20)"
   ]
  },
  {
   "cell_type": "markdown",
   "metadata": {},
   "source": [
    "> - Total revenue from 3 actors are close to 4 billions\n",
    "- Harrison Ford alone contributed about 2 billions which approximates to be 50% of the total revenue from favorite 3 actors."
   ]
  },
  {
   "cell_type": "markdown",
   "metadata": {
    "colab": {},
    "colab_type": "code",
    "id": "YGhrUmnNjfXW"
   },
   "source": [
    "<a name='concl'></a>\n",
    "> ## Conclusion\n",
    "- Three most profitable movies are Avatar, Start Wars: The Force Awakens, and Titanic.\n",
    "- Three worst profitable movies are The Warrior's Way, The Lone Ranger, and The Alamo.\n",
    "- The difference between Avatar and The Warrior's Way in profit is approximately 3 billions.\n",
    "- The growing gap between budget and revenue indicates that the movie market is growing.\n",
    "- The revenue sky-rockets after 1990s whereas the budget grows rather steadily, resulting in higher profit.\n",
    "- Longer movies tends to receive slightly higher vote ratings on average..\n",
    "- The difference between maximum and minimum average vote ratings is within 1 point.\n",
    "- There are total 10,290 counts consists of 20 unique genres in our movie data.\n",
    "- Most popular genre is drama and the least popular genre is TV Movie.\n",
    "- Out of 1781 directors, Steven Spielberg was the most active director of all with 28 appearances.\n",
    "- Steven Spielberg's top three favorite actors are Harrison Ford, Tom Hanks, and Richard Dreyfuss.\n"
   ]
  },
  {
   "cell_type": "markdown",
   "metadata": {
    "colab": {},
    "colab_type": "code",
    "id": "4OPScFkVjfXY"
   },
   "source": [
    "> ## Limitation\n",
    "- Our exploratory analysis was performed on a small sample (~10k movies with and much less after wrangling); <br>\n",
    "hence our findings doens not truly reflect the whole movie market. \n",
    "- Even if we had enough samples to analyze, our findings should not draw any conclusions regarding the whole population <br>\n",
    "until we perform careful inferential analysis. What we've done so far is descriptive analysis. "
   ]
  },
  {
   "cell_type": "markdown",
   "metadata": {},
   "source": [
    "<a name='refr'></a>\n",
    "## References:\n",
    " - movie break-even: https://movies.stackexchange.com/questions/81776/why-is-the-break-even-point-for-movies-usually-twice-the-budget\n",
    " - create column using conditional: https://chrisalbon.com/python/data_wrangling/pandas_create_column_using_conditional/\n",
    " - dropping 0: https://stackoverflow.com/questions/27020312/drop-row-in-pandas-dataframe-if-any-value-in-the-row-equals-zero/27020741\n",
    " - color picker: https://learnui.design/tools/data-color-picker.html\n",
    " - Simpson's paradox: https://en.wikipedia.org/wiki/Simpson's_paradox\n",
    " - Seaborn jointplot title position: https://stackoverflow.com/questions/52096050/seaborn-title-position\n",
    " - Pie Chart 1: https://medium.com/@kvnamipara/a-better-visualisation-of-pie-charts-by-matplotlib-935b7667d77f\n",
    " - Controlling Pie Chart labels: https://matplotlib.org/gallery/pie_and_polar_charts/pie_demo2.html#sphx-glr-gallery-pie-and-polar-charts-pie-demo2-py "
   ]
  }
 ],
 "metadata": {
  "colab": {
   "name": "tmdb_project.ipynb",
   "provenance": [],
   "toc_visible": true,
   "version": "0.3.2"
  },
  "kernelspec": {
   "display_name": "Python 3",
   "language": "python",
   "name": "python3"
  },
  "language_info": {
   "codemirror_mode": {
    "name": "ipython",
    "version": 3
   },
   "file_extension": ".py",
   "mimetype": "text/x-python",
   "name": "python",
   "nbconvert_exporter": "python",
   "pygments_lexer": "ipython3",
   "version": "3.6.8"
  }
 },
 "nbformat": 4,
 "nbformat_minor": 2
}
