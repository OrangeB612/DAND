{
 "cells": [
  {
   "cell_type": "markdown",
   "metadata": {
    "colab_type": "text",
    "id": "VzaOeKkojfVm"
   },
   "source": [
    "# Project: TMDb Movie Data\n",
    "---\n",
    "## Table of Contents\n",
    "- [Introduction](#intro)\n",
    "- [Data Wrangling](#wrangle)\n",
    " - [General Properties](#general)\n",
    " - [Cleaning Data](#cleaning)\n",
    "-  [Exploratory Data Analysis](#exploring)\n",
    " - [Preparing Data Analysis](#prep)\n",
    " - [Research Questions](#questions)\n",
    "      - [Question 1](#questions)\n",
    "      - [Question 2](#question2)\n",
    "      - [Question 3](#question3)\n",
    "      \n",
    "- [Conclusion](#concl)"
   ]
  },
  {
   "cell_type": "markdown",
   "metadata": {
    "colab_type": "text",
    "id": "bOpXPa9DjfVo"
   },
   "source": [
    "<a name='intro'></a>\n",
    "## Introduction\n",
    "\n",
    "> In this project, I will explore `TMDb movie dataset` which contains information about 10,000 movies, go through the data analysis process,<br> and see how everything fits together.\n",
    "\n",
    "> ### Note:\n",
    " - Certain columns, like `'cast'` and `‘genres’`, contain multiple values separated by pipe `(|)` characters.\n",
    " - There are some odd characters in the `‘cast’` column.\n",
    " - The final two columns ending with `“_adj”` show the budget and revenue of the associated movie in terms of 2010 dollars, <br>\n",
    "accounting for inflation over\n",
    "time.\n",
    "\n",
    "> ### Questions to be answered:\n",
    "> 1. Movie(s) that made most and least profit? \n",
    "> 2. Movie market growth trends\n",
    "> 3. Which genres are most popular from year to year? \n",
    "> 4. Movie market growth trend (total and average budget and revenue)\n",
    "> 5. Does higher budget guarantee higher revenue? \n",
    "> 6. Is website becoming an essential element of movie marketing?\n"
   ]
  },
  {
   "cell_type": "code",
   "execution_count": 2,
   "metadata": {
    "colab": {},
    "colab_type": "code",
    "id": "pYCRXQYVjfVq"
   },
   "outputs": [],
   "source": [
    "# import all the packages\n",
    "import pandas as pd\n",
    "import numpy as np\n",
    "import matplotlib.pyplot as plt\n",
    "%matplotlib inline\n",
    "import seaborn as sns\n",
    "\n",
    "# set style\n",
    "sns.set_style('darkgrid')"
   ]
  },
  {
   "cell_type": "markdown",
   "metadata": {
    "colab_type": "text",
    "id": "INvtLWIujfVt"
   },
   "source": [
    "<a name='wrangle'></a>\n",
    "## Data Wrangling\n",
    "\n",
    "> In this section of the report, we will load in the data, check for cleanliness, and then trim and clean your dataset for analysis.\n",
    "\n",
    "<a name='general'></a>\n",
    "### General Properties"
   ]
  },
  {
   "cell_type": "code",
   "execution_count": 2,
   "metadata": {
    "colab": {},
    "colab_type": "code",
    "id": "uaeapTkXjfVu",
    "outputId": "0030fa5f-7c66-4970-ffe0-f49d1c13640c"
   },
   "outputs": [
    {
     "data": {
      "text/html": [
       "<div>\n",
       "<style scoped>\n",
       "    .dataframe tbody tr th:only-of-type {\n",
       "        vertical-align: middle;\n",
       "    }\n",
       "\n",
       "    .dataframe tbody tr th {\n",
       "        vertical-align: top;\n",
       "    }\n",
       "\n",
       "    .dataframe thead th {\n",
       "        text-align: right;\n",
       "    }\n",
       "</style>\n",
       "<table border=\"1\" class=\"dataframe\">\n",
       "  <thead>\n",
       "    <tr style=\"text-align: right;\">\n",
       "      <th></th>\n",
       "      <th>id</th>\n",
       "      <th>imdb_id</th>\n",
       "      <th>popularity</th>\n",
       "      <th>budget</th>\n",
       "      <th>revenue</th>\n",
       "      <th>original_title</th>\n",
       "      <th>cast</th>\n",
       "      <th>homepage</th>\n",
       "      <th>director</th>\n",
       "      <th>tagline</th>\n",
       "      <th>...</th>\n",
       "      <th>overview</th>\n",
       "      <th>runtime</th>\n",
       "      <th>genres</th>\n",
       "      <th>production_companies</th>\n",
       "      <th>release_date</th>\n",
       "      <th>vote_count</th>\n",
       "      <th>vote_average</th>\n",
       "      <th>release_year</th>\n",
       "      <th>budget_adj</th>\n",
       "      <th>revenue_adj</th>\n",
       "    </tr>\n",
       "  </thead>\n",
       "  <tbody>\n",
       "    <tr>\n",
       "      <th>0</th>\n",
       "      <td>135397</td>\n",
       "      <td>tt0369610</td>\n",
       "      <td>32.985763</td>\n",
       "      <td>150000000</td>\n",
       "      <td>1513528810</td>\n",
       "      <td>Jurassic World</td>\n",
       "      <td>Chris Pratt|Bryce Dallas Howard|Irrfan Khan|Vi...</td>\n",
       "      <td>http://www.jurassicworld.com/</td>\n",
       "      <td>Colin Trevorrow</td>\n",
       "      <td>The park is open.</td>\n",
       "      <td>...</td>\n",
       "      <td>Twenty-two years after the events of Jurassic ...</td>\n",
       "      <td>124</td>\n",
       "      <td>Action|Adventure|Science Fiction|Thriller</td>\n",
       "      <td>Universal Studios|Amblin Entertainment|Legenda...</td>\n",
       "      <td>6/9/15</td>\n",
       "      <td>5562</td>\n",
       "      <td>6.5</td>\n",
       "      <td>2015</td>\n",
       "      <td>1.379999e+08</td>\n",
       "      <td>1.392446e+09</td>\n",
       "    </tr>\n",
       "    <tr>\n",
       "      <th>1</th>\n",
       "      <td>76341</td>\n",
       "      <td>tt1392190</td>\n",
       "      <td>28.419936</td>\n",
       "      <td>150000000</td>\n",
       "      <td>378436354</td>\n",
       "      <td>Mad Max: Fury Road</td>\n",
       "      <td>Tom Hardy|Charlize Theron|Hugh Keays-Byrne|Nic...</td>\n",
       "      <td>http://www.madmaxmovie.com/</td>\n",
       "      <td>George Miller</td>\n",
       "      <td>What a Lovely Day.</td>\n",
       "      <td>...</td>\n",
       "      <td>An apocalyptic story set in the furthest reach...</td>\n",
       "      <td>120</td>\n",
       "      <td>Action|Adventure|Science Fiction|Thriller</td>\n",
       "      <td>Village Roadshow Pictures|Kennedy Miller Produ...</td>\n",
       "      <td>5/13/15</td>\n",
       "      <td>6185</td>\n",
       "      <td>7.1</td>\n",
       "      <td>2015</td>\n",
       "      <td>1.379999e+08</td>\n",
       "      <td>3.481613e+08</td>\n",
       "    </tr>\n",
       "    <tr>\n",
       "      <th>2</th>\n",
       "      <td>262500</td>\n",
       "      <td>tt2908446</td>\n",
       "      <td>13.112507</td>\n",
       "      <td>110000000</td>\n",
       "      <td>295238201</td>\n",
       "      <td>Insurgent</td>\n",
       "      <td>Shailene Woodley|Theo James|Kate Winslet|Ansel...</td>\n",
       "      <td>http://www.thedivergentseries.movie/#insurgent</td>\n",
       "      <td>Robert Schwentke</td>\n",
       "      <td>One Choice Can Destroy You</td>\n",
       "      <td>...</td>\n",
       "      <td>Beatrice Prior must confront her inner demons ...</td>\n",
       "      <td>119</td>\n",
       "      <td>Adventure|Science Fiction|Thriller</td>\n",
       "      <td>Summit Entertainment|Mandeville Films|Red Wago...</td>\n",
       "      <td>3/18/15</td>\n",
       "      <td>2480</td>\n",
       "      <td>6.3</td>\n",
       "      <td>2015</td>\n",
       "      <td>1.012000e+08</td>\n",
       "      <td>2.716190e+08</td>\n",
       "    </tr>\n",
       "    <tr>\n",
       "      <th>3</th>\n",
       "      <td>140607</td>\n",
       "      <td>tt2488496</td>\n",
       "      <td>11.173104</td>\n",
       "      <td>200000000</td>\n",
       "      <td>2068178225</td>\n",
       "      <td>Star Wars: The Force Awakens</td>\n",
       "      <td>Harrison Ford|Mark Hamill|Carrie Fisher|Adam D...</td>\n",
       "      <td>http://www.starwars.com/films/star-wars-episod...</td>\n",
       "      <td>J.J. Abrams</td>\n",
       "      <td>Every generation has a story.</td>\n",
       "      <td>...</td>\n",
       "      <td>Thirty years after defeating the Galactic Empi...</td>\n",
       "      <td>136</td>\n",
       "      <td>Action|Adventure|Science Fiction|Fantasy</td>\n",
       "      <td>Lucasfilm|Truenorth Productions|Bad Robot</td>\n",
       "      <td>12/15/15</td>\n",
       "      <td>5292</td>\n",
       "      <td>7.5</td>\n",
       "      <td>2015</td>\n",
       "      <td>1.839999e+08</td>\n",
       "      <td>1.902723e+09</td>\n",
       "    </tr>\n",
       "    <tr>\n",
       "      <th>4</th>\n",
       "      <td>168259</td>\n",
       "      <td>tt2820852</td>\n",
       "      <td>9.335014</td>\n",
       "      <td>190000000</td>\n",
       "      <td>1506249360</td>\n",
       "      <td>Furious 7</td>\n",
       "      <td>Vin Diesel|Paul Walker|Jason Statham|Michelle ...</td>\n",
       "      <td>http://www.furious7.com/</td>\n",
       "      <td>James Wan</td>\n",
       "      <td>Vengeance Hits Home</td>\n",
       "      <td>...</td>\n",
       "      <td>Deckard Shaw seeks revenge against Dominic Tor...</td>\n",
       "      <td>137</td>\n",
       "      <td>Action|Crime|Thriller</td>\n",
       "      <td>Universal Pictures|Original Film|Media Rights ...</td>\n",
       "      <td>4/1/15</td>\n",
       "      <td>2947</td>\n",
       "      <td>7.3</td>\n",
       "      <td>2015</td>\n",
       "      <td>1.747999e+08</td>\n",
       "      <td>1.385749e+09</td>\n",
       "    </tr>\n",
       "  </tbody>\n",
       "</table>\n",
       "<p>5 rows × 21 columns</p>\n",
       "</div>"
      ],
      "text/plain": [
       "       id    imdb_id  popularity     budget     revenue  \\\n",
       "0  135397  tt0369610   32.985763  150000000  1513528810   \n",
       "1   76341  tt1392190   28.419936  150000000   378436354   \n",
       "2  262500  tt2908446   13.112507  110000000   295238201   \n",
       "3  140607  tt2488496   11.173104  200000000  2068178225   \n",
       "4  168259  tt2820852    9.335014  190000000  1506249360   \n",
       "\n",
       "                 original_title  \\\n",
       "0                Jurassic World   \n",
       "1            Mad Max: Fury Road   \n",
       "2                     Insurgent   \n",
       "3  Star Wars: The Force Awakens   \n",
       "4                     Furious 7   \n",
       "\n",
       "                                                cast  \\\n",
       "0  Chris Pratt|Bryce Dallas Howard|Irrfan Khan|Vi...   \n",
       "1  Tom Hardy|Charlize Theron|Hugh Keays-Byrne|Nic...   \n",
       "2  Shailene Woodley|Theo James|Kate Winslet|Ansel...   \n",
       "3  Harrison Ford|Mark Hamill|Carrie Fisher|Adam D...   \n",
       "4  Vin Diesel|Paul Walker|Jason Statham|Michelle ...   \n",
       "\n",
       "                                            homepage          director  \\\n",
       "0                      http://www.jurassicworld.com/   Colin Trevorrow   \n",
       "1                        http://www.madmaxmovie.com/     George Miller   \n",
       "2     http://www.thedivergentseries.movie/#insurgent  Robert Schwentke   \n",
       "3  http://www.starwars.com/films/star-wars-episod...       J.J. Abrams   \n",
       "4                           http://www.furious7.com/         James Wan   \n",
       "\n",
       "                         tagline  ...  \\\n",
       "0              The park is open.  ...   \n",
       "1             What a Lovely Day.  ...   \n",
       "2     One Choice Can Destroy You  ...   \n",
       "3  Every generation has a story.  ...   \n",
       "4            Vengeance Hits Home  ...   \n",
       "\n",
       "                                            overview runtime  \\\n",
       "0  Twenty-two years after the events of Jurassic ...     124   \n",
       "1  An apocalyptic story set in the furthest reach...     120   \n",
       "2  Beatrice Prior must confront her inner demons ...     119   \n",
       "3  Thirty years after defeating the Galactic Empi...     136   \n",
       "4  Deckard Shaw seeks revenge against Dominic Tor...     137   \n",
       "\n",
       "                                      genres  \\\n",
       "0  Action|Adventure|Science Fiction|Thriller   \n",
       "1  Action|Adventure|Science Fiction|Thriller   \n",
       "2         Adventure|Science Fiction|Thriller   \n",
       "3   Action|Adventure|Science Fiction|Fantasy   \n",
       "4                      Action|Crime|Thriller   \n",
       "\n",
       "                                production_companies release_date vote_count  \\\n",
       "0  Universal Studios|Amblin Entertainment|Legenda...       6/9/15       5562   \n",
       "1  Village Roadshow Pictures|Kennedy Miller Produ...      5/13/15       6185   \n",
       "2  Summit Entertainment|Mandeville Films|Red Wago...      3/18/15       2480   \n",
       "3          Lucasfilm|Truenorth Productions|Bad Robot     12/15/15       5292   \n",
       "4  Universal Pictures|Original Film|Media Rights ...       4/1/15       2947   \n",
       "\n",
       "   vote_average  release_year    budget_adj   revenue_adj  \n",
       "0           6.5          2015  1.379999e+08  1.392446e+09  \n",
       "1           7.1          2015  1.379999e+08  3.481613e+08  \n",
       "2           6.3          2015  1.012000e+08  2.716190e+08  \n",
       "3           7.5          2015  1.839999e+08  1.902723e+09  \n",
       "4           7.3          2015  1.747999e+08  1.385749e+09  \n",
       "\n",
       "[5 rows x 21 columns]"
      ]
     },
     "execution_count": 2,
     "metadata": {},
     "output_type": "execute_result"
    }
   ],
   "source": [
    "# load data and check first five rows\n",
    "df = pd.read_csv('tmdb-movies.csv')\n",
    "df.head()"
   ]
  },
  {
   "cell_type": "code",
   "execution_count": 3,
   "metadata": {
    "colab": {},
    "colab_type": "code",
    "id": "II5Pa9TcjfV0",
    "outputId": "e1e0c56c-d459-422b-e6eb-33596f55d2bc"
   },
   "outputs": [
    {
     "data": {
      "text/plain": [
       "(10866, 21)"
      ]
     },
     "execution_count": 3,
     "metadata": {},
     "output_type": "execute_result"
    }
   ],
   "source": [
    "# Number of rows and columns\n",
    "df.shape"
   ]
  },
  {
   "cell_type": "code",
   "execution_count": 4,
   "metadata": {
    "colab": {},
    "colab_type": "code",
    "id": "OV9NF5KxjfV4",
    "outputId": "3e7e07a2-d5b0-40e8-8fb6-cdcc68936ef8"
   },
   "outputs": [
    {
     "data": {
      "text/plain": [
       "id                        int64\n",
       "imdb_id                  object\n",
       "popularity              float64\n",
       "budget                    int64\n",
       "revenue                   int64\n",
       "original_title           object\n",
       "cast                     object\n",
       "homepage                 object\n",
       "director                 object\n",
       "tagline                  object\n",
       "keywords                 object\n",
       "overview                 object\n",
       "runtime                   int64\n",
       "genres                   object\n",
       "production_companies     object\n",
       "release_date             object\n",
       "vote_count                int64\n",
       "vote_average            float64\n",
       "release_year              int64\n",
       "budget_adj              float64\n",
       "revenue_adj             float64\n",
       "dtype: object"
      ]
     },
     "execution_count": 4,
     "metadata": {},
     "output_type": "execute_result"
    }
   ],
   "source": [
    "# Check datatypes\n",
    "df.dtypes"
   ]
  },
  {
   "cell_type": "code",
   "execution_count": 5,
   "metadata": {},
   "outputs": [
    {
     "data": {
      "text/plain": [
       "id                      10865\n",
       "imdb_id                 10855\n",
       "popularity              10814\n",
       "budget                    557\n",
       "revenue                  4702\n",
       "original_title          10571\n",
       "cast                    10719\n",
       "homepage                 2896\n",
       "director                 5067\n",
       "tagline                  7997\n",
       "keywords                 8804\n",
       "overview                10847\n",
       "runtime                   247\n",
       "genres                   2039\n",
       "production_companies     7445\n",
       "release_date             5909\n",
       "vote_count               1289\n",
       "vote_average               72\n",
       "release_year               56\n",
       "budget_adj               2614\n",
       "revenue_adj              4840\n",
       "dtype: int64"
      ]
     },
     "execution_count": 5,
     "metadata": {},
     "output_type": "execute_result"
    }
   ],
   "source": [
    "# number of unique values per each column\n",
    "df.nunique()"
   ]
  },
  {
   "cell_type": "code",
   "execution_count": 6,
   "metadata": {},
   "outputs": [
    {
     "data": {
      "text/plain": [
       "id                         0\n",
       "imdb_id                   10\n",
       "popularity                 0\n",
       "budget                     0\n",
       "revenue                    0\n",
       "original_title             0\n",
       "cast                      76\n",
       "homepage                7930\n",
       "director                  44\n",
       "tagline                 2824\n",
       "keywords                1493\n",
       "overview                   4\n",
       "runtime                    0\n",
       "genres                    23\n",
       "production_companies    1030\n",
       "release_date               0\n",
       "vote_count                 0\n",
       "vote_average               0\n",
       "release_year               0\n",
       "budget_adj                 0\n",
       "revenue_adj                0\n",
       "dtype: int64"
      ]
     },
     "execution_count": 6,
     "metadata": {},
     "output_type": "execute_result"
    }
   ],
   "source": [
    "# number of rows with missing values per each column\n",
    "df.isnull().sum()"
   ]
  },
  {
   "cell_type": "code",
   "execution_count": 7,
   "metadata": {},
   "outputs": [
    {
     "data": {
      "text/plain": [
       "1"
      ]
     },
     "execution_count": 7,
     "metadata": {},
     "output_type": "execute_result"
    }
   ],
   "source": [
    "# Number of duplicates\n",
    "df.duplicated().sum()"
   ]
  },
  {
   "cell_type": "markdown",
   "metadata": {},
   "source": [
    "<a name='cleaning'></a>\n",
    "\n",
    "### Cleaning Data\n",
    "> - Drop unnecessary columns for our investigation\n",
    "- Drop rows with zero values \n",
    "- Drop nulls\n",
    "- Dedupe"
   ]
  },
  {
   "cell_type": "markdown",
   "metadata": {},
   "source": [
    "> First, let's drop unneccessary columns before executing `dropna()` and `drop_duplicates()` to avoid losing rows that might contain meaningful data in them "
   ]
  },
  {
   "cell_type": "code",
   "execution_count": 8,
   "metadata": {},
   "outputs": [],
   "source": [
    "# Define columns to drop\n",
    "drop_cols = ['id', 'imdb_id', 'cast', 'homepage', 'tagline', 'keywords', 'overview', 'release_date', 'budget_adj', 'revenue_adj']\n",
    "\n",
    "df.drop(drop_cols, axis=1, inplace=True)"
   ]
  },
  {
   "cell_type": "code",
   "execution_count": 9,
   "metadata": {},
   "outputs": [
    {
     "data": {
      "text/plain": [
       "(10866, 11)"
      ]
     },
     "execution_count": 9,
     "metadata": {},
     "output_type": "execute_result"
    }
   ],
   "source": [
    "# Check the shape\n",
    "df.shape"
   ]
  },
  {
   "cell_type": "markdown",
   "metadata": {},
   "source": [
    "> Next, let's drop rows that contain zeroes since there is no indication whether these zeroes are actually zeroes or just missing."
   ]
  },
  {
   "cell_type": "code",
   "execution_count": 10,
   "metadata": {},
   "outputs": [
    {
     "data": {
      "text/plain": [
       "popularity              7011\n",
       "budget                  7011\n",
       "revenue                 7011\n",
       "original_title          7011\n",
       "director                6968\n",
       "runtime                 7011\n",
       "genres                  6988\n",
       "production_companies    6027\n",
       "vote_count              7011\n",
       "vote_average            7011\n",
       "release_year            7011\n",
       "dtype: int64"
      ]
     },
     "execution_count": 10,
     "metadata": {},
     "output_type": "execute_result"
    }
   ],
   "source": [
    "# Take a look how many rows contain zeroes \n",
    "df[(df == 0).any(1)].count()"
   ]
  },
  {
   "cell_type": "code",
   "execution_count": 11,
   "metadata": {},
   "outputs": [
    {
     "data": {
      "text/plain": [
       "(3855, 11)"
      ]
     },
     "execution_count": 11,
     "metadata": {},
     "output_type": "execute_result"
    }
   ],
   "source": [
    "# Keep rows with non-zero values everywhere \n",
    "df = df[(df != 0).all(1)]\n",
    "\n",
    "## or dropping rows with any zero values\n",
    "# drop_zeroes = df[(df == 0).any(1)].index\n",
    "# df.drop(drop_zeroes, inplace=True)\n",
    "\n",
    "# Check shape\n",
    "df.shape"
   ]
  },
  {
   "cell_type": "markdown",
   "metadata": {},
   "source": [
    "> Now, we are going to finish our cleaning by removing nulls and duplicates."
   ]
  },
  {
   "cell_type": "code",
   "execution_count": 12,
   "metadata": {},
   "outputs": [
    {
     "data": {
      "text/plain": [
       "popularity               0\n",
       "budget                   0\n",
       "revenue                  0\n",
       "original_title           0\n",
       "director                 1\n",
       "runtime                  0\n",
       "genres                   0\n",
       "production_companies    46\n",
       "vote_count               0\n",
       "vote_average             0\n",
       "release_year             0\n",
       "dtype: int64"
      ]
     },
     "execution_count": 12,
     "metadata": {},
     "output_type": "execute_result"
    }
   ],
   "source": [
    "# Check null\n",
    "df.isnull().sum()"
   ]
  },
  {
   "cell_type": "code",
   "execution_count": 13,
   "metadata": {},
   "outputs": [
    {
     "data": {
      "text/plain": [
       "(3808, 11)"
      ]
     },
     "execution_count": 13,
     "metadata": {},
     "output_type": "execute_result"
    }
   ],
   "source": [
    "# drop nulls \n",
    "df.dropna(inplace=True)\n",
    "\n",
    "# check shape\n",
    "df.shape"
   ]
  },
  {
   "cell_type": "code",
   "execution_count": 14,
   "metadata": {
    "colab": {},
    "colab_type": "code",
    "id": "w7TWN6HNjfWC",
    "outputId": "b810b1a8-0072-45b3-f8bc-9ad8ed891f7f"
   },
   "outputs": [
    {
     "data": {
      "text/plain": [
       "1"
      ]
     },
     "execution_count": 14,
     "metadata": {},
     "output_type": "execute_result"
    }
   ],
   "source": [
    "# check duplicates\n",
    "df.duplicated().sum()"
   ]
  },
  {
   "cell_type": "code",
   "execution_count": 15,
   "metadata": {
    "colab": {},
    "colab_type": "code",
    "id": "COXfvVj5jfWH",
    "outputId": "27094a80-f308-4dab-97d2-993f27a6a952"
   },
   "outputs": [
    {
     "data": {
      "text/html": [
       "<div>\n",
       "<style scoped>\n",
       "    .dataframe tbody tr th:only-of-type {\n",
       "        vertical-align: middle;\n",
       "    }\n",
       "\n",
       "    .dataframe tbody tr th {\n",
       "        vertical-align: top;\n",
       "    }\n",
       "\n",
       "    .dataframe thead th {\n",
       "        text-align: right;\n",
       "    }\n",
       "</style>\n",
       "<table border=\"1\" class=\"dataframe\">\n",
       "  <thead>\n",
       "    <tr style=\"text-align: right;\">\n",
       "      <th></th>\n",
       "      <th>popularity</th>\n",
       "      <th>budget</th>\n",
       "      <th>revenue</th>\n",
       "      <th>original_title</th>\n",
       "      <th>director</th>\n",
       "      <th>runtime</th>\n",
       "      <th>genres</th>\n",
       "      <th>production_companies</th>\n",
       "      <th>vote_count</th>\n",
       "      <th>vote_average</th>\n",
       "      <th>release_year</th>\n",
       "    </tr>\n",
       "  </thead>\n",
       "  <tbody>\n",
       "    <tr>\n",
       "      <th>2090</th>\n",
       "      <td>0.59643</td>\n",
       "      <td>30000000</td>\n",
       "      <td>967000</td>\n",
       "      <td>TEKKEN</td>\n",
       "      <td>Dwight H. Little</td>\n",
       "      <td>92</td>\n",
       "      <td>Crime|Drama|Action|Thriller|Science Fiction</td>\n",
       "      <td>Namco|Light Song Films</td>\n",
       "      <td>110</td>\n",
       "      <td>5.0</td>\n",
       "      <td>2010</td>\n",
       "    </tr>\n",
       "  </tbody>\n",
       "</table>\n",
       "</div>"
      ],
      "text/plain": [
       "      popularity    budget  revenue original_title          director  runtime  \\\n",
       "2090     0.59643  30000000   967000         TEKKEN  Dwight H. Little       92   \n",
       "\n",
       "                                           genres    production_companies  \\\n",
       "2090  Crime|Drama|Action|Thriller|Science Fiction  Namco|Light Song Films   \n",
       "\n",
       "      vote_count  vote_average  release_year  \n",
       "2090         110           5.0          2010  "
      ]
     },
     "execution_count": 15,
     "metadata": {},
     "output_type": "execute_result"
    }
   ],
   "source": [
    "# we have one duplicate, let's take a look\n",
    "df[df.duplicated()]"
   ]
  },
  {
   "cell_type": "code",
   "execution_count": 16,
   "metadata": {
    "colab": {},
    "colab_type": "code",
    "id": "l6DDKiwojfWL",
    "outputId": "431851fe-f547-4a83-d7ea-4109203bc3d7"
   },
   "outputs": [
    {
     "data": {
      "text/plain": [
       "(3807, 11)"
      ]
     },
     "execution_count": 16,
     "metadata": {},
     "output_type": "execute_result"
    }
   ],
   "source": [
    "# dedupe and check shape\n",
    "df.drop_duplicates(inplace=True)\n",
    "\n",
    "df.shape"
   ]
  },
  {
   "cell_type": "code",
   "execution_count": 17,
   "metadata": {},
   "outputs": [],
   "source": [
    "# save \n",
    "df.to_csv('tmdb-movies-clean.csv', index=False)"
   ]
  },
  {
   "cell_type": "markdown",
   "metadata": {
    "colab": {},
    "colab_type": "code",
    "id": "YpMzWhWRjfWO",
    "outputId": "833438d2-a151-4287-bae7-163d5f1a8979"
   },
   "source": [
    "> Finally, throughout cleaning processes, we now have our dataframe with ***3807 rows*** with ***11 columns*** ready to be analyzed."
   ]
  },
  {
   "cell_type": "markdown",
   "metadata": {},
   "source": [
    "<a name='exploring'></a>\n",
    "\n",
    "## Exploratory Data Analysis\n",
    "> In this section, we are going to compute statistics and create visualizations with the goal of addressing the research questions that we posed in the Introduction section.<br>\n",
    "We will start with looking at one variable at a time, and then follow it up by looking at relationships between variables.\n",
    "\n",
    "<a name='prep'></a>\n",
    "\n",
    "### Preparing Data Analysis\n",
    "> - Manipulate dataframe\n",
    "- Define functions that will be used to answer proposed questions\n",
    "- Prepare subsets of data for each questions"
   ]
  },
  {
   "cell_type": "code",
   "execution_count": 3,
   "metadata": {},
   "outputs": [
    {
     "data": {
      "text/html": [
       "<div>\n",
       "<style scoped>\n",
       "    .dataframe tbody tr th:only-of-type {\n",
       "        vertical-align: middle;\n",
       "    }\n",
       "\n",
       "    .dataframe tbody tr th {\n",
       "        vertical-align: top;\n",
       "    }\n",
       "\n",
       "    .dataframe thead th {\n",
       "        text-align: right;\n",
       "    }\n",
       "</style>\n",
       "<table border=\"1\" class=\"dataframe\">\n",
       "  <thead>\n",
       "    <tr style=\"text-align: right;\">\n",
       "      <th></th>\n",
       "      <th>popularity</th>\n",
       "      <th>budget</th>\n",
       "      <th>revenue</th>\n",
       "      <th>original_title</th>\n",
       "      <th>director</th>\n",
       "      <th>runtime</th>\n",
       "      <th>genres</th>\n",
       "      <th>production_companies</th>\n",
       "      <th>vote_count</th>\n",
       "      <th>vote_average</th>\n",
       "      <th>release_year</th>\n",
       "    </tr>\n",
       "  </thead>\n",
       "  <tbody>\n",
       "    <tr>\n",
       "      <th>0</th>\n",
       "      <td>32.985763</td>\n",
       "      <td>150000000</td>\n",
       "      <td>1513528810</td>\n",
       "      <td>Jurassic World</td>\n",
       "      <td>Colin Trevorrow</td>\n",
       "      <td>124</td>\n",
       "      <td>Action|Adventure|Science Fiction|Thriller</td>\n",
       "      <td>Universal Studios|Amblin Entertainment|Legenda...</td>\n",
       "      <td>5562</td>\n",
       "      <td>6.5</td>\n",
       "      <td>2015</td>\n",
       "    </tr>\n",
       "    <tr>\n",
       "      <th>1</th>\n",
       "      <td>28.419936</td>\n",
       "      <td>150000000</td>\n",
       "      <td>378436354</td>\n",
       "      <td>Mad Max: Fury Road</td>\n",
       "      <td>George Miller</td>\n",
       "      <td>120</td>\n",
       "      <td>Action|Adventure|Science Fiction|Thriller</td>\n",
       "      <td>Village Roadshow Pictures|Kennedy Miller Produ...</td>\n",
       "      <td>6185</td>\n",
       "      <td>7.1</td>\n",
       "      <td>2015</td>\n",
       "    </tr>\n",
       "    <tr>\n",
       "      <th>2</th>\n",
       "      <td>13.112507</td>\n",
       "      <td>110000000</td>\n",
       "      <td>295238201</td>\n",
       "      <td>Insurgent</td>\n",
       "      <td>Robert Schwentke</td>\n",
       "      <td>119</td>\n",
       "      <td>Adventure|Science Fiction|Thriller</td>\n",
       "      <td>Summit Entertainment|Mandeville Films|Red Wago...</td>\n",
       "      <td>2480</td>\n",
       "      <td>6.3</td>\n",
       "      <td>2015</td>\n",
       "    </tr>\n",
       "  </tbody>\n",
       "</table>\n",
       "</div>"
      ],
      "text/plain": [
       "   popularity     budget     revenue      original_title          director  \\\n",
       "0   32.985763  150000000  1513528810      Jurassic World   Colin Trevorrow   \n",
       "1   28.419936  150000000   378436354  Mad Max: Fury Road     George Miller   \n",
       "2   13.112507  110000000   295238201           Insurgent  Robert Schwentke   \n",
       "\n",
       "   runtime                                     genres  \\\n",
       "0      124  Action|Adventure|Science Fiction|Thriller   \n",
       "1      120  Action|Adventure|Science Fiction|Thriller   \n",
       "2      119         Adventure|Science Fiction|Thriller   \n",
       "\n",
       "                                production_companies  vote_count  \\\n",
       "0  Universal Studios|Amblin Entertainment|Legenda...        5562   \n",
       "1  Village Roadshow Pictures|Kennedy Miller Produ...        6185   \n",
       "2  Summit Entertainment|Mandeville Films|Red Wago...        2480   \n",
       "\n",
       "   vote_average  release_year  \n",
       "0           6.5          2015  \n",
       "1           7.1          2015  \n",
       "2           6.3          2015  "
      ]
     },
     "execution_count": 3,
     "metadata": {},
     "output_type": "execute_result"
    }
   ],
   "source": [
    "# load data and check\n",
    "df = pd.read_csv('tmdb-movies-clean.csv')\n",
    "df.head(3)"
   ]
  },
  {
   "cell_type": "markdown",
   "metadata": {},
   "source": [
    "> To start with, let's manipulate our dataframe before answering some specific questions.<br>\n",
    "- rearrange our column orders for easier slicing relative to our proposed questions\n",
    "- add `'profit'` column defined as $profit = revenue - budget$ <br>\n",
    "- add `'break_even'` column with `'yes'` or `'no'` where `break-even point` is defined as $ break \\ even = 2 \\times budget$"
   ]
  },
  {
   "cell_type": "code",
   "execution_count": 4,
   "metadata": {},
   "outputs": [
    {
     "data": {
      "text/html": [
       "<div>\n",
       "<style scoped>\n",
       "    .dataframe tbody tr th:only-of-type {\n",
       "        vertical-align: middle;\n",
       "    }\n",
       "\n",
       "    .dataframe tbody tr th {\n",
       "        vertical-align: top;\n",
       "    }\n",
       "\n",
       "    .dataframe thead th {\n",
       "        text-align: right;\n",
       "    }\n",
       "</style>\n",
       "<table border=\"1\" class=\"dataframe\">\n",
       "  <thead>\n",
       "    <tr style=\"text-align: right;\">\n",
       "      <th></th>\n",
       "      <th>original_title</th>\n",
       "      <th>genres</th>\n",
       "      <th>director</th>\n",
       "      <th>production_companies</th>\n",
       "      <th>release_year</th>\n",
       "      <th>budget</th>\n",
       "      <th>revenue</th>\n",
       "      <th>runtime</th>\n",
       "      <th>vote_count</th>\n",
       "      <th>vote_average</th>\n",
       "      <th>popularity</th>\n",
       "    </tr>\n",
       "  </thead>\n",
       "  <tbody>\n",
       "  </tbody>\n",
       "</table>\n",
       "</div>"
      ],
      "text/plain": [
       "Empty DataFrame\n",
       "Columns: [original_title, genres, director, production_companies, release_year, budget, revenue, runtime, vote_count, vote_average, popularity]\n",
       "Index: []"
      ]
     },
     "execution_count": 4,
     "metadata": {},
     "output_type": "execute_result"
    }
   ],
   "source": [
    "# rearrange the column order so that columns that will be used for each questions are closer to each other\n",
    "new_order = ['original_title', 'genres', 'director', 'production_companies', 'release_year', \n",
    "             'budget', 'revenue', 'runtime', 'vote_count', 'vote_average', 'popularity']\n",
    "\n",
    "df = df[new_order]\n",
    "df.head(0)"
   ]
  },
  {
   "cell_type": "code",
   "execution_count": 5,
   "metadata": {},
   "outputs": [],
   "source": [
    "# add 'profit' column after revenue column\n",
    "df.insert(7,'profit', df['revenue']-df['budget'])"
   ]
  },
  {
   "cell_type": "code",
   "execution_count": 6,
   "metadata": {},
   "outputs": [],
   "source": [
    "# add 'break_even' column. 'yes' if 'revenue' is greater or equal to twice the budget, else 'no'\n",
    "df.insert(8,'break_even', np.where(df['revenue']>=df['budget']*2,'yes','no'))"
   ]
  },
  {
   "cell_type": "code",
   "execution_count": 7,
   "metadata": {},
   "outputs": [
    {
     "data": {
      "text/html": [
       "<div>\n",
       "<style scoped>\n",
       "    .dataframe tbody tr th:only-of-type {\n",
       "        vertical-align: middle;\n",
       "    }\n",
       "\n",
       "    .dataframe tbody tr th {\n",
       "        vertical-align: top;\n",
       "    }\n",
       "\n",
       "    .dataframe thead th {\n",
       "        text-align: right;\n",
       "    }\n",
       "</style>\n",
       "<table border=\"1\" class=\"dataframe\">\n",
       "  <thead>\n",
       "    <tr style=\"text-align: right;\">\n",
       "      <th></th>\n",
       "      <th>original_title</th>\n",
       "      <th>genres</th>\n",
       "      <th>director</th>\n",
       "      <th>production_companies</th>\n",
       "      <th>release_year</th>\n",
       "      <th>budget</th>\n",
       "      <th>revenue</th>\n",
       "      <th>profit</th>\n",
       "      <th>break_even</th>\n",
       "      <th>runtime</th>\n",
       "      <th>vote_count</th>\n",
       "      <th>vote_average</th>\n",
       "      <th>popularity</th>\n",
       "    </tr>\n",
       "  </thead>\n",
       "  <tbody>\n",
       "    <tr>\n",
       "      <th>0</th>\n",
       "      <td>Jurassic World</td>\n",
       "      <td>Action|Adventure|Science Fiction|Thriller</td>\n",
       "      <td>Colin Trevorrow</td>\n",
       "      <td>Universal Studios|Amblin Entertainment|Legenda...</td>\n",
       "      <td>2015</td>\n",
       "      <td>150000000</td>\n",
       "      <td>1513528810</td>\n",
       "      <td>1363528810</td>\n",
       "      <td>yes</td>\n",
       "      <td>124</td>\n",
       "      <td>5562</td>\n",
       "      <td>6.5</td>\n",
       "      <td>32.985763</td>\n",
       "    </tr>\n",
       "    <tr>\n",
       "      <th>1</th>\n",
       "      <td>Mad Max: Fury Road</td>\n",
       "      <td>Action|Adventure|Science Fiction|Thriller</td>\n",
       "      <td>George Miller</td>\n",
       "      <td>Village Roadshow Pictures|Kennedy Miller Produ...</td>\n",
       "      <td>2015</td>\n",
       "      <td>150000000</td>\n",
       "      <td>378436354</td>\n",
       "      <td>228436354</td>\n",
       "      <td>yes</td>\n",
       "      <td>120</td>\n",
       "      <td>6185</td>\n",
       "      <td>7.1</td>\n",
       "      <td>28.419936</td>\n",
       "    </tr>\n",
       "    <tr>\n",
       "      <th>2</th>\n",
       "      <td>Insurgent</td>\n",
       "      <td>Adventure|Science Fiction|Thriller</td>\n",
       "      <td>Robert Schwentke</td>\n",
       "      <td>Summit Entertainment|Mandeville Films|Red Wago...</td>\n",
       "      <td>2015</td>\n",
       "      <td>110000000</td>\n",
       "      <td>295238201</td>\n",
       "      <td>185238201</td>\n",
       "      <td>yes</td>\n",
       "      <td>119</td>\n",
       "      <td>2480</td>\n",
       "      <td>6.3</td>\n",
       "      <td>13.112507</td>\n",
       "    </tr>\n",
       "  </tbody>\n",
       "</table>\n",
       "</div>"
      ],
      "text/plain": [
       "       original_title                                     genres  \\\n",
       "0      Jurassic World  Action|Adventure|Science Fiction|Thriller   \n",
       "1  Mad Max: Fury Road  Action|Adventure|Science Fiction|Thriller   \n",
       "2           Insurgent         Adventure|Science Fiction|Thriller   \n",
       "\n",
       "           director                               production_companies  \\\n",
       "0   Colin Trevorrow  Universal Studios|Amblin Entertainment|Legenda...   \n",
       "1     George Miller  Village Roadshow Pictures|Kennedy Miller Produ...   \n",
       "2  Robert Schwentke  Summit Entertainment|Mandeville Films|Red Wago...   \n",
       "\n",
       "   release_year     budget     revenue      profit break_even  runtime  \\\n",
       "0          2015  150000000  1513528810  1363528810        yes      124   \n",
       "1          2015  150000000   378436354   228436354        yes      120   \n",
       "2          2015  110000000   295238201   185238201        yes      119   \n",
       "\n",
       "   vote_count  vote_average  popularity  \n",
       "0        5562           6.5   32.985763  \n",
       "1        6185           7.1   28.419936  \n",
       "2        2480           6.3   13.112507  "
      ]
     },
     "execution_count": 7,
     "metadata": {},
     "output_type": "execute_result"
    }
   ],
   "source": [
    "# check the modified dataframe\n",
    "df.head(3)"
   ]
  },
  {
   "cell_type": "markdown",
   "metadata": {},
   "source": [
    "> Next, write a function that returns an informational dataframe based on maximum and minimum *(first occurrence if many)* of a requested column <br>\n",
    "and presents it in a more readable tableform. "
   ]
  },
  {
   "cell_type": "code",
   "execution_count": 8,
   "metadata": {},
   "outputs": [],
   "source": [
    "# define a function which takes a column name and a dataframe(df by default)\n",
    "def mum_table(col, df =df):\n",
    "    # find index of maximum and minimum of a requested axis    \n",
    "    id_extrema = [df[col].idxmax(), df[col].idxmin()] \n",
    "    \n",
    "    # select the data\n",
    "    df_temp = df.loc[id_extrema,:]\n",
    "    \n",
    "    # set 'original_title' as new index, delete the index title, and transpose\n",
    "    df_temp = df_temp.set_index('original_title').rename_axis(None).T\n",
    "    \n",
    "    return df_temp"
   ]
  },
  {
   "cell_type": "markdown",
   "metadata": {},
   "source": [
    "> What if I want to see top & bottom 3 or 5 movies regarding their numerical values ?"
   ]
  },
  {
   "cell_type": "code",
   "execution_count": 9,
   "metadata": {},
   "outputs": [],
   "source": [
    "# define a function named find_extrema()\n",
    "def n_extrema(col, i=1):\n",
    "    df_top = df.sort_values(by= col, ascending=False).head(i).reset_index(drop=True)\n",
    "    \n",
    "    # ascending=True to have worst case on top\n",
    "    df_bot = df.sort_values(by= col, ascending=True).head(i).reset_index(drop=True)\n",
    "    return df_top, df_bot"
   ]
  },
  {
   "cell_type": "markdown",
   "metadata": {},
   "source": [
    "> Since we have few columns that contain multiple values separated with pipe (|) characters, <br>\n",
    "let's define another function that will help us spliting these values and counting them."
   ]
  },
  {
   "cell_type": "markdown",
   "metadata": {},
   "source": [
    "> "
   ]
  },
  {
   "cell_type": "code",
   "execution_count": 10,
   "metadata": {},
   "outputs": [],
   "source": [
    "# define a function named word_count()\n",
    "def word_count(col, df =df):\n",
    "    # concatenate every row first, then split \n",
    "    my_lst = df[col].str.cat(sep='|').split('|')\n",
    "    my_series = pd.Series(my_lst)\n",
    "    return my_series.value_counts()"
   ]
  },
  {
   "cell_type": "markdown",
   "metadata": {},
   "source": [
    "\n"
   ]
  },
  {
   "cell_type": "markdown",
   "metadata": {},
   "source": [
    "<a name='questions'></a>\n",
    "### Research Questions\n",
    "#### Q1. Movies that made most and least profit"
   ]
  },
  {
   "cell_type": "code",
   "execution_count": 11,
   "metadata": {},
   "outputs": [
    {
     "data": {
      "text/html": [
       "<div>\n",
       "<style scoped>\n",
       "    .dataframe tbody tr th:only-of-type {\n",
       "        vertical-align: middle;\n",
       "    }\n",
       "\n",
       "    .dataframe tbody tr th {\n",
       "        vertical-align: top;\n",
       "    }\n",
       "\n",
       "    .dataframe thead th {\n",
       "        text-align: right;\n",
       "    }\n",
       "</style>\n",
       "<table border=\"1\" class=\"dataframe\">\n",
       "  <thead>\n",
       "    <tr style=\"text-align: right;\">\n",
       "      <th></th>\n",
       "      <th>Avatar</th>\n",
       "      <th>The Warrior's Way</th>\n",
       "    </tr>\n",
       "  </thead>\n",
       "  <tbody>\n",
       "    <tr>\n",
       "      <th>budget</th>\n",
       "      <td>237000000</td>\n",
       "      <td>425000000</td>\n",
       "    </tr>\n",
       "    <tr>\n",
       "      <th>revenue</th>\n",
       "      <td>2781505847</td>\n",
       "      <td>11087569</td>\n",
       "    </tr>\n",
       "    <tr>\n",
       "      <th>profit</th>\n",
       "      <td>2544505847</td>\n",
       "      <td>-413912431</td>\n",
       "    </tr>\n",
       "    <tr>\n",
       "      <th>break_even</th>\n",
       "      <td>yes</td>\n",
       "      <td>no</td>\n",
       "    </tr>\n",
       "  </tbody>\n",
       "</table>\n",
       "</div>"
      ],
      "text/plain": [
       "                Avatar The Warrior's Way\n",
       "budget       237000000         425000000\n",
       "revenue     2781505847          11087569\n",
       "profit      2544505847        -413912431\n",
       "break_even         yes                no"
      ]
     },
     "execution_count": 11,
     "metadata": {},
     "output_type": "execute_result"
    }
   ],
   "source": [
    "# use mum_table() to find information about movies with max/min 'profit'\n",
    "mum_table('profit', df).iloc[4:8]"
   ]
  },
  {
   "cell_type": "markdown",
   "metadata": {},
   "source": [
    "> As we can see, most profitable movie was `Avatar` <br>\n",
    "and least (or worst) profitable movie was `The Warrior's Way`.\n",
    "\n",
    "#### How about top 3 and bottom 3 movies (total 6) in profit ?"
   ]
  },
  {
   "cell_type": "code",
   "execution_count": 12,
   "metadata": {},
   "outputs": [
    {
     "data": {
      "text/html": [
       "<div>\n",
       "<style scoped>\n",
       "    .dataframe tbody tr th:only-of-type {\n",
       "        vertical-align: middle;\n",
       "    }\n",
       "\n",
       "    .dataframe tbody tr th {\n",
       "        vertical-align: top;\n",
       "    }\n",
       "\n",
       "    .dataframe thead th {\n",
       "        text-align: right;\n",
       "    }\n",
       "</style>\n",
       "<table border=\"1\" class=\"dataframe\">\n",
       "  <thead>\n",
       "    <tr style=\"text-align: right;\">\n",
       "      <th></th>\n",
       "      <th>original_title</th>\n",
       "      <th>genres</th>\n",
       "      <th>director</th>\n",
       "      <th>production_companies</th>\n",
       "      <th>release_year</th>\n",
       "      <th>budget</th>\n",
       "      <th>revenue</th>\n",
       "      <th>profit</th>\n",
       "      <th>break_even</th>\n",
       "      <th>runtime</th>\n",
       "      <th>vote_count</th>\n",
       "      <th>vote_average</th>\n",
       "      <th>popularity</th>\n",
       "    </tr>\n",
       "  </thead>\n",
       "  <tbody>\n",
       "    <tr>\n",
       "      <th>0</th>\n",
       "      <td>Avatar</td>\n",
       "      <td>Action|Adventure|Fantasy|Science Fiction</td>\n",
       "      <td>James Cameron</td>\n",
       "      <td>Ingenious Film Partners|Twentieth Century Fox ...</td>\n",
       "      <td>2009</td>\n",
       "      <td>237000000</td>\n",
       "      <td>2781505847</td>\n",
       "      <td>2544505847</td>\n",
       "      <td>yes</td>\n",
       "      <td>162</td>\n",
       "      <td>8458</td>\n",
       "      <td>7.1</td>\n",
       "      <td>9.432768</td>\n",
       "    </tr>\n",
       "    <tr>\n",
       "      <th>1</th>\n",
       "      <td>Star Wars: The Force Awakens</td>\n",
       "      <td>Action|Adventure|Science Fiction|Fantasy</td>\n",
       "      <td>J.J. Abrams</td>\n",
       "      <td>Lucasfilm|Truenorth Productions|Bad Robot</td>\n",
       "      <td>2015</td>\n",
       "      <td>200000000</td>\n",
       "      <td>2068178225</td>\n",
       "      <td>1868178225</td>\n",
       "      <td>yes</td>\n",
       "      <td>136</td>\n",
       "      <td>5292</td>\n",
       "      <td>7.5</td>\n",
       "      <td>11.173104</td>\n",
       "    </tr>\n",
       "    <tr>\n",
       "      <th>2</th>\n",
       "      <td>Titanic</td>\n",
       "      <td>Drama|Romance|Thriller</td>\n",
       "      <td>James Cameron</td>\n",
       "      <td>Paramount Pictures|Twentieth Century Fox Film ...</td>\n",
       "      <td>1997</td>\n",
       "      <td>200000000</td>\n",
       "      <td>1845034188</td>\n",
       "      <td>1645034188</td>\n",
       "      <td>yes</td>\n",
       "      <td>194</td>\n",
       "      <td>4654</td>\n",
       "      <td>7.3</td>\n",
       "      <td>4.355219</td>\n",
       "    </tr>\n",
       "  </tbody>\n",
       "</table>\n",
       "</div>"
      ],
      "text/plain": [
       "                 original_title                                    genres  \\\n",
       "0                        Avatar  Action|Adventure|Fantasy|Science Fiction   \n",
       "1  Star Wars: The Force Awakens  Action|Adventure|Science Fiction|Fantasy   \n",
       "2                       Titanic                    Drama|Romance|Thriller   \n",
       "\n",
       "        director                               production_companies  \\\n",
       "0  James Cameron  Ingenious Film Partners|Twentieth Century Fox ...   \n",
       "1    J.J. Abrams          Lucasfilm|Truenorth Productions|Bad Robot   \n",
       "2  James Cameron  Paramount Pictures|Twentieth Century Fox Film ...   \n",
       "\n",
       "   release_year     budget     revenue      profit break_even  runtime  \\\n",
       "0          2009  237000000  2781505847  2544505847        yes      162   \n",
       "1          2015  200000000  2068178225  1868178225        yes      136   \n",
       "2          1997  200000000  1845034188  1645034188        yes      194   \n",
       "\n",
       "   vote_count  vote_average  popularity  \n",
       "0        8458           7.1    9.432768  \n",
       "1        5292           7.5   11.173104  \n",
       "2        4654           7.3    4.355219  "
      ]
     },
     "execution_count": 12,
     "metadata": {},
     "output_type": "execute_result"
    }
   ],
   "source": [
    "#Top 3 profitable movies\n",
    "top_profit, bot_profit = n_extrema('profit', 3)\n",
    "top_profit"
   ]
  },
  {
   "cell_type": "code",
   "execution_count": 13,
   "metadata": {},
   "outputs": [
    {
     "data": {
      "text/html": [
       "<div>\n",
       "<style scoped>\n",
       "    .dataframe tbody tr th:only-of-type {\n",
       "        vertical-align: middle;\n",
       "    }\n",
       "\n",
       "    .dataframe tbody tr th {\n",
       "        vertical-align: top;\n",
       "    }\n",
       "\n",
       "    .dataframe thead th {\n",
       "        text-align: right;\n",
       "    }\n",
       "</style>\n",
       "<table border=\"1\" class=\"dataframe\">\n",
       "  <thead>\n",
       "    <tr style=\"text-align: right;\">\n",
       "      <th></th>\n",
       "      <th>original_title</th>\n",
       "      <th>genres</th>\n",
       "      <th>director</th>\n",
       "      <th>production_companies</th>\n",
       "      <th>release_year</th>\n",
       "      <th>budget</th>\n",
       "      <th>revenue</th>\n",
       "      <th>profit</th>\n",
       "      <th>break_even</th>\n",
       "      <th>runtime</th>\n",
       "      <th>vote_count</th>\n",
       "      <th>vote_average</th>\n",
       "      <th>popularity</th>\n",
       "    </tr>\n",
       "  </thead>\n",
       "  <tbody>\n",
       "    <tr>\n",
       "      <th>0</th>\n",
       "      <td>The Warrior's Way</td>\n",
       "      <td>Adventure|Fantasy|Action|Western|Thriller</td>\n",
       "      <td>Sngmoo Lee</td>\n",
       "      <td>Boram Entertainment Inc.</td>\n",
       "      <td>2010</td>\n",
       "      <td>425000000</td>\n",
       "      <td>11087569</td>\n",
       "      <td>-413912431</td>\n",
       "      <td>no</td>\n",
       "      <td>100</td>\n",
       "      <td>74</td>\n",
       "      <td>6.4</td>\n",
       "      <td>0.25054</td>\n",
       "    </tr>\n",
       "    <tr>\n",
       "      <th>1</th>\n",
       "      <td>The Lone Ranger</td>\n",
       "      <td>Action|Adventure|Western</td>\n",
       "      <td>Gore Verbinski</td>\n",
       "      <td>Walt Disney Pictures|Jerry Bruckheimer Films|I...</td>\n",
       "      <td>2013</td>\n",
       "      <td>255000000</td>\n",
       "      <td>89289910</td>\n",
       "      <td>-165710090</td>\n",
       "      <td>no</td>\n",
       "      <td>149</td>\n",
       "      <td>1607</td>\n",
       "      <td>6.0</td>\n",
       "      <td>1.21451</td>\n",
       "    </tr>\n",
       "    <tr>\n",
       "      <th>2</th>\n",
       "      <td>The Alamo</td>\n",
       "      <td>Western|History|War</td>\n",
       "      <td>John Lee Hancock</td>\n",
       "      <td>Imagine Entertainment|Touchstone Pictures</td>\n",
       "      <td>2004</td>\n",
       "      <td>145000000</td>\n",
       "      <td>25819961</td>\n",
       "      <td>-119180039</td>\n",
       "      <td>no</td>\n",
       "      <td>137</td>\n",
       "      <td>60</td>\n",
       "      <td>5.9</td>\n",
       "      <td>0.94856</td>\n",
       "    </tr>\n",
       "  </tbody>\n",
       "</table>\n",
       "</div>"
      ],
      "text/plain": [
       "      original_title                                     genres  \\\n",
       "0  The Warrior's Way  Adventure|Fantasy|Action|Western|Thriller   \n",
       "1    The Lone Ranger                   Action|Adventure|Western   \n",
       "2          The Alamo                        Western|History|War   \n",
       "\n",
       "           director                               production_companies  \\\n",
       "0        Sngmoo Lee                           Boram Entertainment Inc.   \n",
       "1    Gore Verbinski  Walt Disney Pictures|Jerry Bruckheimer Films|I...   \n",
       "2  John Lee Hancock          Imagine Entertainment|Touchstone Pictures   \n",
       "\n",
       "   release_year     budget   revenue     profit break_even  runtime  \\\n",
       "0          2010  425000000  11087569 -413912431         no      100   \n",
       "1          2013  255000000  89289910 -165710090         no      149   \n",
       "2          2004  145000000  25819961 -119180039         no      137   \n",
       "\n",
       "   vote_count  vote_average  popularity  \n",
       "0          74           6.4     0.25054  \n",
       "1        1607           6.0     1.21451  \n",
       "2          60           5.9     0.94856  "
      ]
     },
     "execution_count": 13,
     "metadata": {},
     "output_type": "execute_result"
    }
   ],
   "source": [
    "#Bottom 3 profitable movies\n",
    "bot_profit"
   ]
  },
  {
   "cell_type": "markdown",
   "metadata": {},
   "source": [
    "> Let's see them with a graph."
   ]
  },
  {
   "cell_type": "code",
   "execution_count": 39,
   "metadata": {},
   "outputs": [
    {
     "data": {
      "image/png": "[encoded data removed]",
      "text/plain": [
       "<Figure size 720x360 with 1 Axes>"
      ]
     },
     "metadata": {
      "needs_background": "light"
     },
     "output_type": "display_data"
    }
   ],
   "source": [
    "# define figure size,\n",
    "plt.figure(figsize=(10,5))\n",
    "\n",
    "# placeholder for each bar\n",
    "location = [i+1 for i in top_profit.index]\n",
    "\n",
    "# values for each bar\n",
    "height = top_profit['profit'].tolist()\n",
    "height2 = bot_profit['profit'].tolist()\n",
    "\n",
    "# bar chart using seaborn/ applying palette to distinguish high to low profits \n",
    "sns.barplot(location, height, palette=sns.cubehelix_palette(3, start=2.8, rot=-.3, light=0.5, reverse=True))\n",
    "sns.barplot(location, height2, palette='Reds_r')\n",
    "plt.xticks([]) # remove xticks\n",
    "\n",
    "# adjusting title and labels\n",
    "plt.title('Top 3 and Bottom 3 Profitable Movies', fontweight='bold', fontsize=15)\n",
    "plt.xlabel('Movies', fontweight='bold', fontsize=12)\n",
    "plt.ylabel('Profit (USD)', fontweight='bold', fontsize=12);\n",
    "plt.ylim(-1E9,3E9)\n",
    "# placing each movies' title above or below their bar\n",
    "for i, v in enumerate(height):\n",
    "    plt.text(i, v+0.5E8, top_profit['original_title'][i], color='black', fontweight='bold', ha='center', fontsize=12)\n",
    "\n",
    "for i, v in enumerate(height2):\n",
    "    plt.text(i, v-1.5E8, bot_profit['original_title'][i], color='black', fontweight='bold', ha='center', fontsize=12)"
   ]
  },
  {
   "cell_type": "markdown",
   "metadata": {},
   "source": [
    "> - 3 most profitable movies are `Avatar`, `Start Wars: The Force Awakens`, and `Titanic`. <br>\n",
    "- 3 worst profitable movies are `The Warrior's Way`, `The Lone Ranger`, and `The Alamo`. \n",
    "- The difference between `Avatar` and `The Warrior's Way` in profit is approximately 3 billion USD\n",
    "\n",
    "<a name='question2'></a>\n",
    "#### Q2. Movie market growth trends"
   ]
  },
  {
   "cell_type": "code",
   "execution_count": 15,
   "metadata": {},
   "outputs": [],
   "source": [
    "# find sum (total) of `budget` and `revenue` per year using groupby method\n",
    "df_tot = df.groupby('release_year').sum()[['budget','revenue']]"
   ]
  },
  {
   "cell_type": "code",
   "execution_count": 42,
   "metadata": {},
   "outputs": [
    {
     "data": {
      "image/png": "[encoded data removed]",
      "text/plain": [
       "<Figure size 720x360 with 1 Axes>"
      ]
     },
     "metadata": {
      "needs_background": "light"
     },
     "output_type": "display_data"
    }
   ],
   "source": [
    "#set x, y axis data\n",
    "#x1, y1 for mean data; x2, y2 for median data\n",
    "x1, y1, y2 = df_tot.index, df_tot['budget'], df_tot['revenue']\n",
    "\n",
    "#set size\n",
    "plt.figure(figsize=(10, 5))\n",
    "\n",
    "#plot line chart for mean and median\n",
    "plt.plot(x1, y1, color = '#70B190', label = 'Budget')\n",
    "plt.plot(x1, y2, color = '#E57865', label = 'Revenue')\n",
    "\n",
    "#set title and labels\n",
    "plt.title('Total Budget and Revenue Over Time', fontweight='bold', fontsize=15)\n",
    "plt.xlabel('Year', fontweight='bold', fontsize=12)\n",
    "plt.ylabel('Total Amount per Year (USD)', fontweight='bold', fontsize=12)\n",
    "\n",
    "#set legend\n",
    "plt.legend(loc='upper left', fontsize=12)\n",
    "\n",
    "#fill the gap between two curves (represents the difference)\n",
    "plt.fill_between(x1, y1, y2, color='#EECA7B', alpha = 0.5);"
   ]
  },
  {
   "cell_type": "markdown",
   "metadata": {},
   "source": [
    "> - Movie market is definitely growing.\n",
    "- The revenue growth starts to accelerate in 1990s where revenue starts to skyrockets\n",
    "#### How many movies were able to break-even each year ?"
   ]
  },
  {
   "cell_type": "code",
   "execution_count": null,
   "metadata": {},
   "outputs": [],
   "source": []
  },
  {
   "cell_type": "code",
   "execution_count": null,
   "metadata": {},
   "outputs": [],
   "source": []
  },
  {
   "cell_type": "code",
   "execution_count": 110,
   "metadata": {},
   "outputs": [
    {
     "data": {
      "text/html": [
       "<div>\n",
       "<style scoped>\n",
       "    .dataframe tbody tr th:only-of-type {\n",
       "        vertical-align: middle;\n",
       "    }\n",
       "\n",
       "    .dataframe tbody tr th {\n",
       "        vertical-align: top;\n",
       "    }\n",
       "\n",
       "    .dataframe thead th {\n",
       "        text-align: right;\n",
       "    }\n",
       "</style>\n",
       "<table border=\"1\" class=\"dataframe\">\n",
       "  <thead>\n",
       "    <tr style=\"text-align: right;\">\n",
       "      <th></th>\n",
       "      <th>Carlos</th>\n",
       "      <th>Kid's Story</th>\n",
       "    </tr>\n",
       "  </thead>\n",
       "  <tbody>\n",
       "    <tr>\n",
       "      <th>popularity</th>\n",
       "      <td>0.534192</td>\n",
       "      <td>0.208637</td>\n",
       "    </tr>\n",
       "    <tr>\n",
       "      <th>budget</th>\n",
       "      <td>18000000</td>\n",
       "      <td>10</td>\n",
       "    </tr>\n",
       "    <tr>\n",
       "      <th>revenue</th>\n",
       "      <td>871279</td>\n",
       "      <td>5</td>\n",
       "    </tr>\n",
       "    <tr>\n",
       "      <th>cast</th>\n",
       "      <td>Edgar RamÃ­rez|Alexander Scheer|Fadi Abi Samra...</td>\n",
       "      <td>Clayton Watson|Keanu Reeves|Carrie-Anne Moss|K...</td>\n",
       "    </tr>\n",
       "    <tr>\n",
       "      <th>director</th>\n",
       "      <td>Olivier Assayas</td>\n",
       "      <td>Shinichiro Watanabe</td>\n",
       "    </tr>\n",
       "    <tr>\n",
       "      <th>runtime</th>\n",
       "      <td>338</td>\n",
       "      <td>15</td>\n",
       "    </tr>\n",
       "    <tr>\n",
       "      <th>genres</th>\n",
       "      <td>Crime|Drama|Thriller|History</td>\n",
       "      <td>Science Fiction|Animation</td>\n",
       "    </tr>\n",
       "    <tr>\n",
       "      <th>production_companies</th>\n",
       "      <td>Egoli Tossell Film AG|Canal+|Arte France|Films...</td>\n",
       "      <td>Studio 4Â°C</td>\n",
       "    </tr>\n",
       "    <tr>\n",
       "      <th>vote_count</th>\n",
       "      <td>35</td>\n",
       "      <td>16</td>\n",
       "    </tr>\n",
       "    <tr>\n",
       "      <th>vote_average</th>\n",
       "      <td>6.2</td>\n",
       "      <td>6.8</td>\n",
       "    </tr>\n",
       "    <tr>\n",
       "      <th>release_year</th>\n",
       "      <td>2010</td>\n",
       "      <td>2003</td>\n",
       "    </tr>\n",
       "  </tbody>\n",
       "</table>\n",
       "</div>"
      ],
      "text/plain": [
       "                                                                 Carlos  \\\n",
       "popularity                                                     0.534192   \n",
       "budget                                                         18000000   \n",
       "revenue                                                          871279   \n",
       "cast                  Edgar RamÃ­rez|Alexander Scheer|Fadi Abi Samra...   \n",
       "director                                                Olivier Assayas   \n",
       "runtime                                                             338   \n",
       "genres                                     Crime|Drama|Thriller|History   \n",
       "production_companies  Egoli Tossell Film AG|Canal+|Arte France|Films...   \n",
       "vote_count                                                           35   \n",
       "vote_average                                                        6.2   \n",
       "release_year                                                       2010   \n",
       "\n",
       "                                                            Kid's Story  \n",
       "popularity                                                     0.208637  \n",
       "budget                                                               10  \n",
       "revenue                                                               5  \n",
       "cast                  Clayton Watson|Keanu Reeves|Carrie-Anne Moss|K...  \n",
       "director                                            Shinichiro Watanabe  \n",
       "runtime                                                              15  \n",
       "genres                                        Science Fiction|Animation  \n",
       "production_companies                                        Studio 4Â°C  \n",
       "vote_count                                                           16  \n",
       "vote_average                                                        6.8  \n",
       "release_year                                                       2003  "
      ]
     },
     "execution_count": 110,
     "metadata": {},
     "output_type": "execute_result"
    }
   ],
   "source": [
    "# runtime ?\n",
    "find_extrema('runtime')"
   ]
  },
  {
   "cell_type": "markdown",
   "metadata": {},
   "source": [
    "#### Q2. Movies that have longest and shortest runtime"
   ]
  },
  {
   "cell_type": "code",
   "execution_count": 69,
   "metadata": {},
   "outputs": [
    {
     "data": {
      "text/html": [
       "<div>\n",
       "<style scoped>\n",
       "    .dataframe tbody tr th:only-of-type {\n",
       "        vertical-align: middle;\n",
       "    }\n",
       "\n",
       "    .dataframe tbody tr th {\n",
       "        vertical-align: top;\n",
       "    }\n",
       "\n",
       "    .dataframe thead th {\n",
       "        text-align: right;\n",
       "    }\n",
       "</style>\n",
       "<table border=\"1\" class=\"dataframe\">\n",
       "  <thead>\n",
       "    <tr style=\"text-align: right;\">\n",
       "      <th></th>\n",
       "      <th>Carlos</th>\n",
       "      <th>Kid's Story</th>\n",
       "    </tr>\n",
       "  </thead>\n",
       "  <tbody>\n",
       "    <tr>\n",
       "      <th>genres</th>\n",
       "      <td>Crime|Drama|Thriller|History</td>\n",
       "      <td>Science Fiction|Animation</td>\n",
       "    </tr>\n",
       "    <tr>\n",
       "      <th>director</th>\n",
       "      <td>Olivier Assayas</td>\n",
       "      <td>Shinichiro Watanabe</td>\n",
       "    </tr>\n",
       "    <tr>\n",
       "      <th>production_companies</th>\n",
       "      <td>Egoli Tossell Film AG|Canal+|Arte France|Films...</td>\n",
       "      <td>Studio 4Â°C</td>\n",
       "    </tr>\n",
       "    <tr>\n",
       "      <th>release_year</th>\n",
       "      <td>2010</td>\n",
       "      <td>2003</td>\n",
       "    </tr>\n",
       "    <tr>\n",
       "      <th>budget</th>\n",
       "      <td>18000000</td>\n",
       "      <td>10</td>\n",
       "    </tr>\n",
       "    <tr>\n",
       "      <th>revenue</th>\n",
       "      <td>871279</td>\n",
       "      <td>5</td>\n",
       "    </tr>\n",
       "    <tr>\n",
       "      <th>profit</th>\n",
       "      <td>-17128721</td>\n",
       "      <td>-5</td>\n",
       "    </tr>\n",
       "    <tr>\n",
       "      <th>break_even</th>\n",
       "      <td>no</td>\n",
       "      <td>no</td>\n",
       "    </tr>\n",
       "    <tr>\n",
       "      <th>runtime</th>\n",
       "      <td>338</td>\n",
       "      <td>15</td>\n",
       "    </tr>\n",
       "    <tr>\n",
       "      <th>vote_count</th>\n",
       "      <td>35</td>\n",
       "      <td>16</td>\n",
       "    </tr>\n",
       "    <tr>\n",
       "      <th>vote_average</th>\n",
       "      <td>6.2</td>\n",
       "      <td>6.8</td>\n",
       "    </tr>\n",
       "    <tr>\n",
       "      <th>popularity</th>\n",
       "      <td>0.534192</td>\n",
       "      <td>0.208637</td>\n",
       "    </tr>\n",
       "  </tbody>\n",
       "</table>\n",
       "</div>"
      ],
      "text/plain": [
       "                                                                 Carlos  \\\n",
       "genres                                     Crime|Drama|Thriller|History   \n",
       "director                                                Olivier Assayas   \n",
       "production_companies  Egoli Tossell Film AG|Canal+|Arte France|Films...   \n",
       "release_year                                                       2010   \n",
       "budget                                                         18000000   \n",
       "revenue                                                          871279   \n",
       "profit                                                        -17128721   \n",
       "break_even                                                           no   \n",
       "runtime                                                             338   \n",
       "vote_count                                                           35   \n",
       "vote_average                                                        6.2   \n",
       "popularity                                                     0.534192   \n",
       "\n",
       "                                    Kid's Story  \n",
       "genres                Science Fiction|Animation  \n",
       "director                    Shinichiro Watanabe  \n",
       "production_companies                Studio 4Â°C  \n",
       "release_year                               2003  \n",
       "budget                                       10  \n",
       "revenue                                       5  \n",
       "profit                                       -5  \n",
       "break_even                                   no  \n",
       "runtime                                      15  \n",
       "vote_count                                   16  \n",
       "vote_average                                6.8  \n",
       "popularity                             0.208637  "
      ]
     },
     "execution_count": 69,
     "metadata": {},
     "output_type": "execute_result"
    }
   ],
   "source": [
    "mum_table('runtime')"
   ]
  },
  {
   "cell_type": "code",
   "execution_count": 70,
   "metadata": {},
   "outputs": [
    {
     "data": {
      "text/plain": [
       "<pandas.core.groupby.generic.DataFrameGroupBy object at 0x000002D1AC1E8B70>"
      ]
     },
     "execution_count": 70,
     "metadata": {},
     "output_type": "execute_result"
    }
   ],
   "source": []
  },
  {
   "cell_type": "code",
   "execution_count": null,
   "metadata": {},
   "outputs": [],
   "source": []
  },
  {
   "cell_type": "code",
   "execution_count": 368,
   "metadata": {},
   "outputs": [],
   "source": [
    "df_mean = df.groupby('release_year').mean()[['budget','revenue']]"
   ]
  },
  {
   "cell_type": "code",
   "execution_count": 372,
   "metadata": {},
   "outputs": [
    {
     "data": {
      "image/png": "[encoded data removed]",
      "text/plain": [
       "<Figure size 648x288 with 1 Axes>"
      ]
     },
     "metadata": {},
     "output_type": "display_data"
    }
   ],
   "source": [
    "#set x, y axis data\n",
    "#x1, y1 for mean data; x2, y2 for median data\n",
    "x1, y1, y2 = df_mean.index, df_mean.budget, df_mean.revenue\n",
    "\n",
    "#set size\n",
    "plt.figure(figsize=(9, 4))\n",
    "#plot line chart for mean and median\n",
    "plt.plot(x1, y1, color = 'g', label = 'mean')\n",
    "plt.plot(x1, y2, color = 'r', label = 'median')\n",
    "#set title and labels\n",
    "plt.title('Popularity Over Years')\n",
    "plt.xlabel('Year')\n",
    "plt.ylabel('Popularity');\n",
    "#set legend\n",
    "plt.legend(loc='upper left');"
   ]
  },
  {
   "cell_type": "code",
   "execution_count": 27,
   "metadata": {
    "colab": {},
    "colab_type": "code",
    "id": "9kLcpKrUjfWS",
    "outputId": "bc508427-f334-46b7-a0ea-3a9af1d27de0"
   },
   "outputs": [
    {
     "data": {
      "image/png": "[encoded data removed]",
      "text/plain": [
       "<Figure size 864x864 with 9 Axes>"
      ]
     },
     "metadata": {
      "needs_background": "light"
     },
     "output_type": "display_data"
    }
   ],
   "source": [
    "df.hist(figsize=(12, 12));"
   ]
  },
  {
   "cell_type": "code",
   "execution_count": 38,
   "metadata": {
    "colab": {},
    "colab_type": "code",
    "id": "ue-RonizjfWW"
   },
   "outputs": [
    {
     "data": {
      "text/plain": [
       "count    10866.000000\n",
       "mean         0.646441\n",
       "std          1.000185\n",
       "min          0.000065\n",
       "25%          0.207583\n",
       "50%          0.383856\n",
       "75%          0.713817\n",
       "max         32.985763\n",
       "Name: popularity, dtype: float64"
      ]
     },
     "execution_count": 38,
     "metadata": {},
     "output_type": "execute_result"
    }
   ],
   "source": [
    "df.popularity.describe()"
   ]
  },
  {
   "cell_type": "code",
   "execution_count": null,
   "metadata": {
    "colab": {},
    "colab_type": "code",
    "id": "67Vb6mD5jfWZ"
   },
   "outputs": [],
   "source": []
  },
  {
   "cell_type": "code",
   "execution_count": 45,
   "metadata": {
    "colab": {},
    "colab_type": "code",
    "id": "P-X_UukOjfWc"
   },
   "outputs": [
    {
     "data": {
      "text/plain": [
       "'Daniel Craig|Christoph Waltz|LÃ©a Seydoux|Ralph Fiennes|Monica Bellucci'"
      ]
     },
     "execution_count": 45,
     "metadata": {},
     "output_type": "execute_result"
    }
   ],
   "source": [
    "df.cast[10]"
   ]
  },
  {
   "cell_type": "code",
   "execution_count": 126,
   "metadata": {
    "colab": {},
    "colab_type": "code",
    "id": "jbhekLwSjfWl"
   },
   "outputs": [
    {
     "data": {
      "text/plain": [
       "Adventure          3\n",
       "Thriller           3\n",
       "Science Fiction    3\n",
       "Action             2\n",
       "dtype: int64"
      ]
     },
     "execution_count": 126,
     "metadata": {},
     "output_type": "execute_result"
    }
   ],
   "source": [
    "pd.Series(df.genres[:3].str.cat(sep='|').split('|')).value_counts()"
   ]
  },
  {
   "cell_type": "code",
   "execution_count": 53,
   "metadata": {
    "colab": {},
    "colab_type": "code",
    "id": "UGU3Y1jmjfWq"
   },
   "outputs": [
    {
     "data": {
      "text/plain": [
       "array([0.09910614, 0.39636784, 0.37258051, ..., 0.7755    , 0.6       ,\n",
       "       0.42625   ])"
      ]
     },
     "execution_count": 53,
     "metadata": {},
     "output_type": "execute_result"
    }
   ],
   "source": [
    "np.divide(np.array(df.budget),np.array(df.revenue)) "
   ]
  },
  {
   "cell_type": "code",
   "execution_count": 66,
   "metadata": {
    "colab": {},
    "colab_type": "code",
    "id": "COHnvZUmjfWt"
   },
   "outputs": [
    {
     "data": {
      "text/plain": [
       "<matplotlib.axes._subplots.AxesSubplot at 0x2d1ad808b38>"
      ]
     },
     "execution_count": 66,
     "metadata": {},
     "output_type": "execute_result"
    },
    {
     "data": {
      "image/png": "[encoded data removed]",
      "text/plain": [
       "<Figure size 432x288 with 1 Axes>"
      ]
     },
     "metadata": {
      "needs_background": "light"
     },
     "output_type": "display_data"
    }
   ],
   "source": [
    "word_count('genres').hist()"
   ]
  },
  {
   "cell_type": "code",
   "execution_count": 57,
   "metadata": {
    "colab": {},
    "colab_type": "code",
    "id": "axTOt-H_jfWx"
   },
   "outputs": [
    {
     "data": {
      "text/html": [
       "<div>\n",
       "<style scoped>\n",
       "    .dataframe tbody tr th:only-of-type {\n",
       "        vertical-align: middle;\n",
       "    }\n",
       "\n",
       "    .dataframe tbody tr th {\n",
       "        vertical-align: top;\n",
       "    }\n",
       "\n",
       "    .dataframe thead th {\n",
       "        text-align: right;\n",
       "    }\n",
       "</style>\n",
       "<table border=\"1\" class=\"dataframe\">\n",
       "  <thead>\n",
       "    <tr style=\"text-align: right;\">\n",
       "      <th></th>\n",
       "      <th>original_title</th>\n",
       "      <th>popularity</th>\n",
       "      <th>budget</th>\n",
       "      <th>revenue</th>\n",
       "      <th>cast</th>\n",
       "      <th>director</th>\n",
       "      <th>runtime</th>\n",
       "      <th>genres</th>\n",
       "      <th>production_companies</th>\n",
       "      <th>vote_count</th>\n",
       "      <th>vote_average</th>\n",
       "      <th>release_year</th>\n",
       "    </tr>\n",
       "  </thead>\n",
       "  <tbody>\n",
       "    <tr>\n",
       "      <th>3</th>\n",
       "      <td>Star Wars: The Force Awakens</td>\n",
       "      <td>11.173104</td>\n",
       "      <td>200000000</td>\n",
       "      <td>2068178225</td>\n",
       "      <td>Harrison Ford|Mark Hamill|Carrie Fisher|Adam D...</td>\n",
       "      <td>J.J. Abrams</td>\n",
       "      <td>136</td>\n",
       "      <td>Action|Adventure|Science Fiction|Fantasy</td>\n",
       "      <td>Lucasfilm|Truenorth Productions|Bad Robot</td>\n",
       "      <td>5292</td>\n",
       "      <td>7.5</td>\n",
       "      <td>2015</td>\n",
       "    </tr>\n",
       "    <tr>\n",
       "      <th>349</th>\n",
       "      <td>Star Trek</td>\n",
       "      <td>3.829570</td>\n",
       "      <td>150000000</td>\n",
       "      <td>385680446</td>\n",
       "      <td>Chris Pine|Zachary Quinto|Leonard Nimoy|Eric B...</td>\n",
       "      <td>J.J. Abrams</td>\n",
       "      <td>127</td>\n",
       "      <td>Science Fiction|Action|Adventure</td>\n",
       "      <td>Paramount Pictures|Spyglass Entertainment|Bad ...</td>\n",
       "      <td>3417</td>\n",
       "      <td>7.3</td>\n",
       "      <td>2009</td>\n",
       "    </tr>\n",
       "    <tr>\n",
       "      <th>1114</th>\n",
       "      <td>Super 8</td>\n",
       "      <td>2.026717</td>\n",
       "      <td>50000000</td>\n",
       "      <td>260095987</td>\n",
       "      <td>Joel Courtney|Elle Fanning|Riley Griffiths|Kyl...</td>\n",
       "      <td>J.J. Abrams</td>\n",
       "      <td>112</td>\n",
       "      <td>Thriller|Science Fiction|Mystery</td>\n",
       "      <td>Paramount Pictures|Amblin Entertainment|Bad Ro...</td>\n",
       "      <td>1527</td>\n",
       "      <td>6.6</td>\n",
       "      <td>2011</td>\n",
       "    </tr>\n",
       "    <tr>\n",
       "      <th>1849</th>\n",
       "      <td>Star Trek Into Darkness</td>\n",
       "      <td>3.877342</td>\n",
       "      <td>190000000</td>\n",
       "      <td>467365246</td>\n",
       "      <td>Chris Pine|Zachary Quinto|Zoe Saldana|Karl Urb...</td>\n",
       "      <td>J.J. Abrams</td>\n",
       "      <td>132</td>\n",
       "      <td>Action|Adventure|Science Fiction</td>\n",
       "      <td>Paramount Pictures|Skydance Productions|Bad Ro...</td>\n",
       "      <td>3363</td>\n",
       "      <td>7.4</td>\n",
       "      <td>2013</td>\n",
       "    </tr>\n",
       "    <tr>\n",
       "      <th>2222</th>\n",
       "      <td>Mission: Impossible III</td>\n",
       "      <td>3.098051</td>\n",
       "      <td>150000000</td>\n",
       "      <td>397850012</td>\n",
       "      <td>Tom Cruise|Philip Seymour Hoffman|Ving Rhames|...</td>\n",
       "      <td>J.J. Abrams</td>\n",
       "      <td>126</td>\n",
       "      <td>Adventure|Action|Thriller</td>\n",
       "      <td>Paramount Pictures|Cruise/Wagner Productions|S...</td>\n",
       "      <td>1363</td>\n",
       "      <td>6.3</td>\n",
       "      <td>2006</td>\n",
       "    </tr>\n",
       "  </tbody>\n",
       "</table>\n",
       "</div>"
      ],
      "text/plain": [
       "                    original_title  popularity     budget     revenue  \\\n",
       "3     Star Wars: The Force Awakens   11.173104  200000000  2068178225   \n",
       "349                      Star Trek    3.829570  150000000   385680446   \n",
       "1114                       Super 8    2.026717   50000000   260095987   \n",
       "1849       Star Trek Into Darkness    3.877342  190000000   467365246   \n",
       "2222       Mission: Impossible III    3.098051  150000000   397850012   \n",
       "\n",
       "                                                   cast     director  runtime  \\\n",
       "3     Harrison Ford|Mark Hamill|Carrie Fisher|Adam D...  J.J. Abrams      136   \n",
       "349   Chris Pine|Zachary Quinto|Leonard Nimoy|Eric B...  J.J. Abrams      127   \n",
       "1114  Joel Courtney|Elle Fanning|Riley Griffiths|Kyl...  J.J. Abrams      112   \n",
       "1849  Chris Pine|Zachary Quinto|Zoe Saldana|Karl Urb...  J.J. Abrams      132   \n",
       "2222  Tom Cruise|Philip Seymour Hoffman|Ving Rhames|...  J.J. Abrams      126   \n",
       "\n",
       "                                        genres  \\\n",
       "3     Action|Adventure|Science Fiction|Fantasy   \n",
       "349           Science Fiction|Action|Adventure   \n",
       "1114          Thriller|Science Fiction|Mystery   \n",
       "1849          Action|Adventure|Science Fiction   \n",
       "2222                 Adventure|Action|Thriller   \n",
       "\n",
       "                                   production_companies  vote_count  \\\n",
       "3             Lucasfilm|Truenorth Productions|Bad Robot        5292   \n",
       "349   Paramount Pictures|Spyglass Entertainment|Bad ...        3417   \n",
       "1114  Paramount Pictures|Amblin Entertainment|Bad Ro...        1527   \n",
       "1849  Paramount Pictures|Skydance Productions|Bad Ro...        3363   \n",
       "2222  Paramount Pictures|Cruise/Wagner Productions|S...        1363   \n",
       "\n",
       "      vote_average  release_year  \n",
       "3              7.5          2015  \n",
       "349            7.3          2009  \n",
       "1114           6.6          2011  \n",
       "1849           7.4          2013  \n",
       "2222           6.3          2006  "
      ]
     },
     "execution_count": 57,
     "metadata": {},
     "output_type": "execute_result"
    }
   ],
   "source": [
    "df[df.director.str.contains('J.J.')]"
   ]
  },
  {
   "cell_type": "code",
   "execution_count": 55,
   "metadata": {
    "colab": {},
    "colab_type": "code",
    "id": "09_xJTStjfW1"
   },
   "outputs": [
    {
     "data": {
      "text/plain": [
       "True"
      ]
     },
     "execution_count": 55,
     "metadata": {},
     "output_type": "execute_result"
    }
   ],
   "source": []
  },
  {
   "cell_type": "code",
   "execution_count": null,
   "metadata": {
    "colab": {},
    "colab_type": "code",
    "id": "cEtkcI0hjfW3"
   },
   "outputs": [],
   "source": []
  },
  {
   "cell_type": "code",
   "execution_count": 104,
   "metadata": {
    "colab": {},
    "colab_type": "code",
    "id": "UrcrPIGUjfW6"
   },
   "outputs": [
    {
     "data": {
      "text/html": [
       "<div>\n",
       "<style scoped>\n",
       "    .dataframe tbody tr th:only-of-type {\n",
       "        vertical-align: middle;\n",
       "    }\n",
       "\n",
       "    .dataframe tbody tr th {\n",
       "        vertical-align: top;\n",
       "    }\n",
       "\n",
       "    .dataframe thead th {\n",
       "        text-align: right;\n",
       "    }\n",
       "</style>\n",
       "<table border=\"1\" class=\"dataframe\">\n",
       "  <thead>\n",
       "    <tr style=\"text-align: right;\">\n",
       "      <th></th>\n",
       "      <th>budget</th>\n",
       "      <th>revenue</th>\n",
       "    </tr>\n",
       "    <tr>\n",
       "      <th>release_year</th>\n",
       "      <th></th>\n",
       "      <th></th>\n",
       "    </tr>\n",
       "  </thead>\n",
       "  <tbody>\n",
       "    <tr>\n",
       "      <th>1960</th>\n",
       "      <td>4.161390e+06</td>\n",
       "      <td>2.580100e+07</td>\n",
       "    </tr>\n",
       "    <tr>\n",
       "      <th>1961</th>\n",
       "      <td>3.863700e+06</td>\n",
       "      <td>3.377202e+07</td>\n",
       "    </tr>\n",
       "    <tr>\n",
       "      <th>1962</th>\n",
       "      <td>5.635714e+06</td>\n",
       "      <td>2.947569e+07</td>\n",
       "    </tr>\n",
       "    <tr>\n",
       "      <th>1963</th>\n",
       "      <td>1.018583e+07</td>\n",
       "      <td>2.942115e+07</td>\n",
       "    </tr>\n",
       "    <tr>\n",
       "      <th>1964</th>\n",
       "      <td>4.847880e+06</td>\n",
       "      <td>4.694479e+07</td>\n",
       "    </tr>\n",
       "    <tr>\n",
       "      <th>1965</th>\n",
       "      <td>1.176000e+07</td>\n",
       "      <td>9.161637e+07</td>\n",
       "    </tr>\n",
       "    <tr>\n",
       "      <th>1966</th>\n",
       "      <td>6.453600e+06</td>\n",
       "      <td>1.694734e+07</td>\n",
       "    </tr>\n",
       "    <tr>\n",
       "      <th>1967</th>\n",
       "      <td>7.346154e+06</td>\n",
       "      <td>5.629497e+07</td>\n",
       "    </tr>\n",
       "    <tr>\n",
       "      <th>1968</th>\n",
       "      <td>5.994444e+06</td>\n",
       "      <td>2.469131e+07</td>\n",
       "    </tr>\n",
       "    <tr>\n",
       "      <th>1969</th>\n",
       "      <td>5.711022e+06</td>\n",
       "      <td>5.742677e+07</td>\n",
       "    </tr>\n",
       "    <tr>\n",
       "      <th>1970</th>\n",
       "      <td>8.718359e+06</td>\n",
       "      <td>4.999745e+07</td>\n",
       "    </tr>\n",
       "    <tr>\n",
       "      <th>1971</th>\n",
       "      <td>3.077077e+06</td>\n",
       "      <td>2.894513e+07</td>\n",
       "    </tr>\n",
       "    <tr>\n",
       "      <th>1972</th>\n",
       "      <td>2.958032e+06</td>\n",
       "      <td>6.011252e+07</td>\n",
       "    </tr>\n",
       "    <tr>\n",
       "      <th>1973</th>\n",
       "      <td>4.777250e+06</td>\n",
       "      <td>9.291776e+07</td>\n",
       "    </tr>\n",
       "    <tr>\n",
       "      <th>1974</th>\n",
       "      <td>5.352692e+06</td>\n",
       "      <td>5.539746e+07</td>\n",
       "    </tr>\n",
       "    <tr>\n",
       "      <th>1975</th>\n",
       "      <td>4.122222e+06</td>\n",
       "      <td>9.392303e+07</td>\n",
       "    </tr>\n",
       "    <tr>\n",
       "      <th>1976</th>\n",
       "      <td>8.033333e+06</td>\n",
       "      <td>4.999510e+07</td>\n",
       "    </tr>\n",
       "    <tr>\n",
       "      <th>1977</th>\n",
       "      <td>7.307895e+06</td>\n",
       "      <td>9.906097e+07</td>\n",
       "    </tr>\n",
       "    <tr>\n",
       "      <th>1978</th>\n",
       "      <td>9.774707e+06</td>\n",
       "      <td>6.889824e+07</td>\n",
       "    </tr>\n",
       "    <tr>\n",
       "      <th>1979</th>\n",
       "      <td>1.441875e+07</td>\n",
       "      <td>7.381438e+07</td>\n",
       "    </tr>\n",
       "    <tr>\n",
       "      <th>1980</th>\n",
       "      <td>1.391522e+07</td>\n",
       "      <td>5.748329e+07</td>\n",
       "    </tr>\n",
       "    <tr>\n",
       "      <th>1981</th>\n",
       "      <td>9.725000e+06</td>\n",
       "      <td>5.373338e+07</td>\n",
       "    </tr>\n",
       "    <tr>\n",
       "      <th>1982</th>\n",
       "      <td>1.322692e+07</td>\n",
       "      <td>8.290986e+07</td>\n",
       "    </tr>\n",
       "    <tr>\n",
       "      <th>1983</th>\n",
       "      <td>1.565248e+07</td>\n",
       "      <td>6.420325e+07</td>\n",
       "    </tr>\n",
       "    <tr>\n",
       "      <th>1984</th>\n",
       "      <td>1.364398e+07</td>\n",
       "      <td>5.729726e+07</td>\n",
       "    </tr>\n",
       "    <tr>\n",
       "      <th>1985</th>\n",
       "      <td>1.454331e+07</td>\n",
       "      <td>5.519938e+07</td>\n",
       "    </tr>\n",
       "    <tr>\n",
       "      <th>1986</th>\n",
       "      <td>1.317234e+07</td>\n",
       "      <td>4.871795e+07</td>\n",
       "    </tr>\n",
       "    <tr>\n",
       "      <th>1987</th>\n",
       "      <td>1.323761e+07</td>\n",
       "      <td>5.994515e+07</td>\n",
       "    </tr>\n",
       "    <tr>\n",
       "      <th>1988</th>\n",
       "      <td>1.448750e+07</td>\n",
       "      <td>5.582656e+07</td>\n",
       "    </tr>\n",
       "    <tr>\n",
       "      <th>1989</th>\n",
       "      <td>1.898018e+07</td>\n",
       "      <td>8.964569e+07</td>\n",
       "    </tr>\n",
       "    <tr>\n",
       "      <th>1990</th>\n",
       "      <td>2.300252e+07</td>\n",
       "      <td>8.937993e+07</td>\n",
       "    </tr>\n",
       "    <tr>\n",
       "      <th>1991</th>\n",
       "      <td>2.630000e+07</td>\n",
       "      <td>8.726243e+07</td>\n",
       "    </tr>\n",
       "    <tr>\n",
       "      <th>1992</th>\n",
       "      <td>2.289293e+07</td>\n",
       "      <td>9.596928e+07</td>\n",
       "    </tr>\n",
       "    <tr>\n",
       "      <th>1993</th>\n",
       "      <td>2.223174e+07</td>\n",
       "      <td>8.578492e+07</td>\n",
       "    </tr>\n",
       "    <tr>\n",
       "      <th>1994</th>\n",
       "      <td>2.966897e+07</td>\n",
       "      <td>1.068662e+08</td>\n",
       "    </tr>\n",
       "    <tr>\n",
       "      <th>1995</th>\n",
       "      <td>3.273949e+07</td>\n",
       "      <td>1.040435e+08</td>\n",
       "    </tr>\n",
       "    <tr>\n",
       "      <th>1996</th>\n",
       "      <td>3.531821e+07</td>\n",
       "      <td>9.180582e+07</td>\n",
       "    </tr>\n",
       "    <tr>\n",
       "      <th>1997</th>\n",
       "      <td>4.475874e+07</td>\n",
       "      <td>1.156503e+08</td>\n",
       "    </tr>\n",
       "    <tr>\n",
       "      <th>1998</th>\n",
       "      <td>4.383900e+07</td>\n",
       "      <td>1.024211e+08</td>\n",
       "    </tr>\n",
       "    <tr>\n",
       "      <th>1999</th>\n",
       "      <td>4.239461e+07</td>\n",
       "      <td>9.785331e+07</td>\n",
       "    </tr>\n",
       "    <tr>\n",
       "      <th>2000</th>\n",
       "      <td>4.638654e+07</td>\n",
       "      <td>1.049005e+08</td>\n",
       "    </tr>\n",
       "    <tr>\n",
       "      <th>2001</th>\n",
       "      <td>4.419770e+07</td>\n",
       "      <td>1.118475e+08</td>\n",
       "    </tr>\n",
       "    <tr>\n",
       "      <th>2002</th>\n",
       "      <td>4.284000e+07</td>\n",
       "      <td>1.141513e+08</td>\n",
       "    </tr>\n",
       "    <tr>\n",
       "      <th>2003</th>\n",
       "      <td>4.591601e+07</td>\n",
       "      <td>1.219669e+08</td>\n",
       "    </tr>\n",
       "    <tr>\n",
       "      <th>2004</th>\n",
       "      <td>4.681161e+07</td>\n",
       "      <td>1.160043e+08</td>\n",
       "    </tr>\n",
       "    <tr>\n",
       "      <th>2005</th>\n",
       "      <td>4.273551e+07</td>\n",
       "      <td>1.011370e+08</td>\n",
       "    </tr>\n",
       "    <tr>\n",
       "      <th>2006</th>\n",
       "      <td>4.106677e+07</td>\n",
       "      <td>9.297332e+07</td>\n",
       "    </tr>\n",
       "    <tr>\n",
       "      <th>2007</th>\n",
       "      <td>4.334422e+07</td>\n",
       "      <td>1.164684e+08</td>\n",
       "    </tr>\n",
       "    <tr>\n",
       "      <th>2008</th>\n",
       "      <td>4.388868e+07</td>\n",
       "      <td>1.169454e+08</td>\n",
       "    </tr>\n",
       "    <tr>\n",
       "      <th>2009</th>\n",
       "      <td>4.427822e+07</td>\n",
       "      <td>1.270826e+08</td>\n",
       "    </tr>\n",
       "    <tr>\n",
       "      <th>2010</th>\n",
       "      <td>4.777479e+07</td>\n",
       "      <td>1.231703e+08</td>\n",
       "    </tr>\n",
       "    <tr>\n",
       "      <th>2011</th>\n",
       "      <td>4.303725e+07</td>\n",
       "      <td>1.194247e+08</td>\n",
       "    </tr>\n",
       "    <tr>\n",
       "      <th>2012</th>\n",
       "      <td>4.831281e+07</td>\n",
       "      <td>1.538284e+08</td>\n",
       "    </tr>\n",
       "    <tr>\n",
       "      <th>2013</th>\n",
       "      <td>4.783756e+07</td>\n",
       "      <td>1.360306e+08</td>\n",
       "    </tr>\n",
       "    <tr>\n",
       "      <th>2014</th>\n",
       "      <td>4.481072e+07</td>\n",
       "      <td>1.458786e+08</td>\n",
       "    </tr>\n",
       "    <tr>\n",
       "      <th>2015</th>\n",
       "      <td>4.481736e+07</td>\n",
       "      <td>1.637683e+08</td>\n",
       "    </tr>\n",
       "  </tbody>\n",
       "</table>\n",
       "</div>"
      ],
      "text/plain": [
       "                    budget       revenue\n",
       "release_year                            \n",
       "1960          4.161390e+06  2.580100e+07\n",
       "1961          3.863700e+06  3.377202e+07\n",
       "1962          5.635714e+06  2.947569e+07\n",
       "1963          1.018583e+07  2.942115e+07\n",
       "1964          4.847880e+06  4.694479e+07\n",
       "1965          1.176000e+07  9.161637e+07\n",
       "1966          6.453600e+06  1.694734e+07\n",
       "1967          7.346154e+06  5.629497e+07\n",
       "1968          5.994444e+06  2.469131e+07\n",
       "1969          5.711022e+06  5.742677e+07\n",
       "1970          8.718359e+06  4.999745e+07\n",
       "1971          3.077077e+06  2.894513e+07\n",
       "1972          2.958032e+06  6.011252e+07\n",
       "1973          4.777250e+06  9.291776e+07\n",
       "1974          5.352692e+06  5.539746e+07\n",
       "1975          4.122222e+06  9.392303e+07\n",
       "1976          8.033333e+06  4.999510e+07\n",
       "1977          7.307895e+06  9.906097e+07\n",
       "1978          9.774707e+06  6.889824e+07\n",
       "1979          1.441875e+07  7.381438e+07\n",
       "1980          1.391522e+07  5.748329e+07\n",
       "1981          9.725000e+06  5.373338e+07\n",
       "1982          1.322692e+07  8.290986e+07\n",
       "1983          1.565248e+07  6.420325e+07\n",
       "1984          1.364398e+07  5.729726e+07\n",
       "1985          1.454331e+07  5.519938e+07\n",
       "1986          1.317234e+07  4.871795e+07\n",
       "1987          1.323761e+07  5.994515e+07\n",
       "1988          1.448750e+07  5.582656e+07\n",
       "1989          1.898018e+07  8.964569e+07\n",
       "1990          2.300252e+07  8.937993e+07\n",
       "1991          2.630000e+07  8.726243e+07\n",
       "1992          2.289293e+07  9.596928e+07\n",
       "1993          2.223174e+07  8.578492e+07\n",
       "1994          2.966897e+07  1.068662e+08\n",
       "1995          3.273949e+07  1.040435e+08\n",
       "1996          3.531821e+07  9.180582e+07\n",
       "1997          4.475874e+07  1.156503e+08\n",
       "1998          4.383900e+07  1.024211e+08\n",
       "1999          4.239461e+07  9.785331e+07\n",
       "2000          4.638654e+07  1.049005e+08\n",
       "2001          4.419770e+07  1.118475e+08\n",
       "2002          4.284000e+07  1.141513e+08\n",
       "2003          4.591601e+07  1.219669e+08\n",
       "2004          4.681161e+07  1.160043e+08\n",
       "2005          4.273551e+07  1.011370e+08\n",
       "2006          4.106677e+07  9.297332e+07\n",
       "2007          4.334422e+07  1.164684e+08\n",
       "2008          4.388868e+07  1.169454e+08\n",
       "2009          4.427822e+07  1.270826e+08\n",
       "2010          4.777479e+07  1.231703e+08\n",
       "2011          4.303725e+07  1.194247e+08\n",
       "2012          4.831281e+07  1.538284e+08\n",
       "2013          4.783756e+07  1.360306e+08\n",
       "2014          4.481072e+07  1.458786e+08\n",
       "2015          4.481736e+07  1.637683e+08"
      ]
     },
     "execution_count": 104,
     "metadata": {},
     "output_type": "execute_result"
    }
   ],
   "source": [
    "cols = ['release_year','budget','revenue']\n",
    "df_temp = df[cols]\n",
    "df_temp = df_temp.groupby('release_year').mean()\n",
    "df_temp"
   ]
  },
  {
   "cell_type": "code",
   "execution_count": 33,
   "metadata": {
    "colab": {},
    "colab_type": "code",
    "id": "NcL734oujfW8"
   },
   "outputs": [
    {
     "data": {
      "text/plain": [
       "(0, 300000000.0)"
      ]
     },
     "execution_count": 33,
     "metadata": {},
     "output_type": "execute_result"
    },
    {
     "data": {
      "image/png": "[encoded data removed]",
      "text/plain": [
       "<Figure size 792x576 with 1 Axes>"
      ]
     },
     "metadata": {
      "needs_background": "light"
     },
     "output_type": "display_data"
    }
   ],
   "source": [
    "\n",
    "plt.figure(figsize=(11,8))\n",
    "sns.regplot(df['budget'], df['revenue'], marker='+')\n",
    "plt.ylim(0,1E9)\n",
    "plt.xlim(0,3E8)"
   ]
  },
  {
   "cell_type": "code",
   "execution_count": 41,
   "metadata": {
    "colab": {},
    "colab_type": "code",
    "id": "QyBm_BdUjfW-"
   },
   "outputs": [
    {
     "data": {
      "text/plain": [
       "<seaborn.axisgrid.FacetGrid at 0x2d1ac063550>"
      ]
     },
     "execution_count": 41,
     "metadata": {},
     "output_type": "execute_result"
    },
    {
     "data": {
      "text/plain": [
       "<Figure size 792x576 with 0 Axes>"
      ]
     },
     "metadata": {},
     "output_type": "display_data"
    },
    {
     "data": {
      "image/png": "[encoded data removed]",
      "text/plain": [
       "<Figure size 420.25x360 with 1 Axes>"
      ]
     },
     "metadata": {
      "needs_background": "light"
     },
     "output_type": "display_data"
    }
   ],
   "source": [
    "\n",
    "plt.figure(figsize=(11,8))\n",
    "sns.lmplot(x='budget', y='revenue', data=df, hue='break_even')"
   ]
  },
  {
   "cell_type": "code",
   "execution_count": null,
   "metadata": {
    "colab": {},
    "colab_type": "code",
    "id": "joc3afW1jfXB"
   },
   "outputs": [],
   "source": []
  },
  {
   "cell_type": "code",
   "execution_count": 72,
   "metadata": {
    "colab": {},
    "colab_type": "code",
    "id": "7jMWeIN8jfXD"
   },
   "outputs": [
    {
     "data": {
      "text/plain": [
       "136"
      ]
     },
     "execution_count": 72,
     "metadata": {},
     "output_type": "execute_result"
    }
   ],
   "source": []
  },
  {
   "cell_type": "code",
   "execution_count": 77,
   "metadata": {
    "colab": {},
    "colab_type": "code",
    "id": "SyN3dr28jfXF"
   },
   "outputs": [
    {
     "data": {
      "text/plain": [
       "short       1034\n",
       "medium       950\n",
       "long         939\n",
       "mod-long     884\n",
       "Name: runtime, dtype: int64"
      ]
     },
     "execution_count": 77,
     "metadata": {},
     "output_type": "execute_result"
    }
   ],
   "source": [
    "pd.qcut(df['runtime'],4,['short','medium','mod-long','long']).value_counts()"
   ]
  },
  {
   "cell_type": "code",
   "execution_count": null,
   "metadata": {
    "colab": {},
    "colab_type": "code",
    "id": "E1os67KYjfXH"
   },
   "outputs": [],
   "source": []
  },
  {
   "cell_type": "code",
   "execution_count": null,
   "metadata": {
    "colab": {},
    "colab_type": "code",
    "id": "a5bmG7c9jfXK"
   },
   "outputs": [],
   "source": []
  },
  {
   "cell_type": "code",
   "execution_count": null,
   "metadata": {
    "colab": {},
    "colab_type": "code",
    "id": "L8kf39W_jfXM"
   },
   "outputs": [],
   "source": []
  },
  {
   "cell_type": "code",
   "execution_count": null,
   "metadata": {
    "colab": {},
    "colab_type": "code",
    "id": "Ldsdsyf0jfXP"
   },
   "outputs": [],
   "source": []
  },
  {
   "cell_type": "code",
   "execution_count": null,
   "metadata": {
    "colab": {},
    "colab_type": "code",
    "id": "Nk7fA-hzjfXR"
   },
   "outputs": [],
   "source": []
  },
  {
   "cell_type": "code",
   "execution_count": null,
   "metadata": {
    "colab": {},
    "colab_type": "code",
    "id": "fJTXJPFejfXU"
   },
   "outputs": [],
   "source": []
  },
  {
   "cell_type": "markdown",
   "metadata": {
    "colab": {},
    "colab_type": "code",
    "id": "YGhrUmnNjfXW"
   },
   "source": [
    "> ## Conclusion"
   ]
  },
  {
   "cell_type": "markdown",
   "metadata": {
    "colab": {},
    "colab_type": "code",
    "id": "4OPScFkVjfXY"
   },
   "source": [
    "> ### Limitation\n",
    "- Doens't reflect the whole movie market since it's only 10k movies"
   ]
  },
  {
   "cell_type": "markdown",
   "metadata": {},
   "source": [
    "<a name='foot'></a>\n",
    "> ### References to keep:\n",
    " - movie break-even https://movies.stackexchange.com/questions/81776/why-is-the-break-even-point-for-movies-usually-twice-the-budget\n",
    " - create column using conditional: https://chrisalbon.com/python/data_wrangling/pandas_create_column_using_conditional/\n",
    " - dropping 0: https://stackoverflow.com/questions/27020312/drop-row-in-pandas-dataframe-if-any-value-in-the-row-equals-zero/27020741"
   ]
  },
  {
   "cell_type": "code",
   "execution_count": null,
   "metadata": {},
   "outputs": [],
   "source": []
  }
 ],
 "metadata": {
  "colab": {
   "name": "tmdb_project.ipynb",
   "provenance": [],
   "toc_visible": true,
   "version": "0.3.2"
  },
  "kernelspec": {
   "display_name": "Python 3",
   "language": "python",
   "name": "python3"
  },
  "language_info": {
   "codemirror_mode": {
    "name": "ipython",
    "version": 3
   },
   "file_extension": ".py",
   "mimetype": "text/x-python",
   "name": "python",
   "nbconvert_exporter": "python",
   "pygments_lexer": "ipython3",
   "version": "3.6.8"
  }
 },
 "nbformat": 4,
 "nbformat_minor": 2
}
